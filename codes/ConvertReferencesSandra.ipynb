{
 "cells": [
  {
   "cell_type": "code",
   "execution_count": 2,
   "metadata": {},
   "outputs": [
    {
     "data": {
      "text/html": [
       "<div>\n",
       "<style scoped>\n",
       "    .dataframe tbody tr th:only-of-type {\n",
       "        vertical-align: middle;\n",
       "    }\n",
       "\n",
       "    .dataframe tbody tr th {\n",
       "        vertical-align: top;\n",
       "    }\n",
       "\n",
       "    .dataframe thead th {\n",
       "        text-align: right;\n",
       "    }\n",
       "</style>\n",
       "<table border=\"1\" class=\"dataframe\">\n",
       "  <thead>\n",
       "    <tr style=\"text-align: right;\">\n",
       "      <th></th>\n",
       "      <th>Xkr4</th>\n",
       "      <th>Rp1</th>\n",
       "      <th>Sox17</th>\n",
       "      <th>Mrpl15</th>\n",
       "      <th>Lypla1</th>\n",
       "      <th>Tcea1</th>\n",
       "      <th>Rgs20</th>\n",
       "      <th>Atp6v1h</th>\n",
       "      <th>Oprk1</th>\n",
       "      <th>Npbwr1</th>\n",
       "      <th>...</th>\n",
       "      <th>LOC100040223</th>\n",
       "      <th>LOC100040031</th>\n",
       "      <th>LOC100039614</th>\n",
       "      <th>LOC100040160</th>\n",
       "      <th>LOC100040786</th>\n",
       "      <th>Ssty2</th>\n",
       "      <th>LOC100041346</th>\n",
       "      <th>MGC107098</th>\n",
       "      <th>LOC100039574</th>\n",
       "      <th>LOC100039753</th>\n",
       "    </tr>\n",
       "    <tr>\n",
       "      <th>MainCellType</th>\n",
       "      <th></th>\n",
       "      <th></th>\n",
       "      <th></th>\n",
       "      <th></th>\n",
       "      <th></th>\n",
       "      <th></th>\n",
       "      <th></th>\n",
       "      <th></th>\n",
       "      <th></th>\n",
       "      <th></th>\n",
       "      <th></th>\n",
       "      <th></th>\n",
       "      <th></th>\n",
       "      <th></th>\n",
       "      <th></th>\n",
       "      <th></th>\n",
       "      <th></th>\n",
       "      <th></th>\n",
       "      <th></th>\n",
       "      <th></th>\n",
       "      <th></th>\n",
       "    </tr>\n",
       "  </thead>\n",
       "  <tbody>\n",
       "    <tr>\n",
       "      <td>Adipocytes</td>\n",
       "      <td>4.377727</td>\n",
       "      <td>3.336021</td>\n",
       "      <td>3.940646</td>\n",
       "      <td>9.042406</td>\n",
       "      <td>8.661706</td>\n",
       "      <td>8.974992</td>\n",
       "      <td>4.189599</td>\n",
       "      <td>7.768620</td>\n",
       "      <td>3.336021</td>\n",
       "      <td>3.336021</td>\n",
       "      <td>...</td>\n",
       "      <td>3.336021</td>\n",
       "      <td>3.336021</td>\n",
       "      <td>3.336021</td>\n",
       "      <td>3.336021</td>\n",
       "      <td>3.336021</td>\n",
       "      <td>3.336021</td>\n",
       "      <td>3.336021</td>\n",
       "      <td>3.336021</td>\n",
       "      <td>3.336021</td>\n",
       "      <td>3.336021</td>\n",
       "    </tr>\n",
       "    <tr>\n",
       "      <td>Adipocytes</td>\n",
       "      <td>3.899600</td>\n",
       "      <td>3.336021</td>\n",
       "      <td>3.734052</td>\n",
       "      <td>9.097095</td>\n",
       "      <td>9.182664</td>\n",
       "      <td>8.749897</td>\n",
       "      <td>4.026151</td>\n",
       "      <td>8.175242</td>\n",
       "      <td>3.336021</td>\n",
       "      <td>3.336021</td>\n",
       "      <td>...</td>\n",
       "      <td>3.336021</td>\n",
       "      <td>3.336021</td>\n",
       "      <td>3.336021</td>\n",
       "      <td>3.336021</td>\n",
       "      <td>3.336021</td>\n",
       "      <td>3.336021</td>\n",
       "      <td>3.336021</td>\n",
       "      <td>3.336021</td>\n",
       "      <td>3.336021</td>\n",
       "      <td>3.336021</td>\n",
       "    </tr>\n",
       "    <tr>\n",
       "      <td>Adipocytes</td>\n",
       "      <td>3.336021</td>\n",
       "      <td>3.336021</td>\n",
       "      <td>5.057705</td>\n",
       "      <td>7.886858</td>\n",
       "      <td>7.289876</td>\n",
       "      <td>7.389176</td>\n",
       "      <td>3.795149</td>\n",
       "      <td>8.488124</td>\n",
       "      <td>3.336021</td>\n",
       "      <td>3.336021</td>\n",
       "      <td>...</td>\n",
       "      <td>3.336021</td>\n",
       "      <td>3.336021</td>\n",
       "      <td>3.336021</td>\n",
       "      <td>3.336021</td>\n",
       "      <td>3.336021</td>\n",
       "      <td>3.336021</td>\n",
       "      <td>3.336021</td>\n",
       "      <td>3.336021</td>\n",
       "      <td>3.336021</td>\n",
       "      <td>3.336021</td>\n",
       "    </tr>\n",
       "    <tr>\n",
       "      <td>Adipocytes</td>\n",
       "      <td>3.336021</td>\n",
       "      <td>3.336021</td>\n",
       "      <td>8.765968</td>\n",
       "      <td>7.965404</td>\n",
       "      <td>7.845397</td>\n",
       "      <td>7.088637</td>\n",
       "      <td>3.336021</td>\n",
       "      <td>8.284254</td>\n",
       "      <td>3.336021</td>\n",
       "      <td>3.336021</td>\n",
       "      <td>...</td>\n",
       "      <td>3.336021</td>\n",
       "      <td>3.336021</td>\n",
       "      <td>3.336021</td>\n",
       "      <td>3.336021</td>\n",
       "      <td>3.336021</td>\n",
       "      <td>3.336021</td>\n",
       "      <td>3.336021</td>\n",
       "      <td>3.336021</td>\n",
       "      <td>3.336021</td>\n",
       "      <td>3.336021</td>\n",
       "    </tr>\n",
       "    <tr>\n",
       "      <td>Adipocytes</td>\n",
       "      <td>4.089060</td>\n",
       "      <td>3.336021</td>\n",
       "      <td>4.516626</td>\n",
       "      <td>7.977758</td>\n",
       "      <td>7.540610</td>\n",
       "      <td>8.011625</td>\n",
       "      <td>3.336021</td>\n",
       "      <td>8.131969</td>\n",
       "      <td>3.336021</td>\n",
       "      <td>3.336021</td>\n",
       "      <td>...</td>\n",
       "      <td>3.336021</td>\n",
       "      <td>3.336021</td>\n",
       "      <td>3.336021</td>\n",
       "      <td>3.336021</td>\n",
       "      <td>3.336021</td>\n",
       "      <td>3.336021</td>\n",
       "      <td>3.336021</td>\n",
       "      <td>3.336021</td>\n",
       "      <td>3.336021</td>\n",
       "      <td>3.336021</td>\n",
       "    </tr>\n",
       "  </tbody>\n",
       "</table>\n",
       "<p>5 rows × 21214 columns</p>\n",
       "</div>"
      ],
      "text/plain": [
       "                  Xkr4       Rp1     Sox17    Mrpl15    Lypla1     Tcea1  \\\n",
       "MainCellType                                                               \n",
       "Adipocytes    4.377727  3.336021  3.940646  9.042406  8.661706  8.974992   \n",
       "Adipocytes    3.899600  3.336021  3.734052  9.097095  9.182664  8.749897   \n",
       "Adipocytes    3.336021  3.336021  5.057705  7.886858  7.289876  7.389176   \n",
       "Adipocytes    3.336021  3.336021  8.765968  7.965404  7.845397  7.088637   \n",
       "Adipocytes    4.089060  3.336021  4.516626  7.977758  7.540610  8.011625   \n",
       "\n",
       "                 Rgs20   Atp6v1h     Oprk1    Npbwr1  ...  LOC100040223  \\\n",
       "MainCellType                                          ...                 \n",
       "Adipocytes    4.189599  7.768620  3.336021  3.336021  ...      3.336021   \n",
       "Adipocytes    4.026151  8.175242  3.336021  3.336021  ...      3.336021   \n",
       "Adipocytes    3.795149  8.488124  3.336021  3.336021  ...      3.336021   \n",
       "Adipocytes    3.336021  8.284254  3.336021  3.336021  ...      3.336021   \n",
       "Adipocytes    3.336021  8.131969  3.336021  3.336021  ...      3.336021   \n",
       "\n",
       "              LOC100040031  LOC100039614  LOC100040160  LOC100040786  \\\n",
       "MainCellType                                                           \n",
       "Adipocytes        3.336021      3.336021      3.336021      3.336021   \n",
       "Adipocytes        3.336021      3.336021      3.336021      3.336021   \n",
       "Adipocytes        3.336021      3.336021      3.336021      3.336021   \n",
       "Adipocytes        3.336021      3.336021      3.336021      3.336021   \n",
       "Adipocytes        3.336021      3.336021      3.336021      3.336021   \n",
       "\n",
       "                 Ssty2  LOC100041346  MGC107098  LOC100039574  LOC100039753  \n",
       "MainCellType                                                                 \n",
       "Adipocytes    3.336021      3.336021   3.336021      3.336021      3.336021  \n",
       "Adipocytes    3.336021      3.336021   3.336021      3.336021      3.336021  \n",
       "Adipocytes    3.336021      3.336021   3.336021      3.336021      3.336021  \n",
       "Adipocytes    3.336021      3.336021   3.336021      3.336021      3.336021  \n",
       "Adipocytes    3.336021      3.336021   3.336021      3.336021      3.336021  \n",
       "\n",
       "[5 rows x 21214 columns]"
      ]
     },
     "execution_count": 2,
     "metadata": {},
     "output_type": "execute_result"
    }
   ],
   "source": [
    "import pandas as pd\n",
    "import numpy as np\n",
    "\n",
    "ref =pd.read_csv(\"/home/olesy12/ReferenceAlg/ReferenceDataMouse.csv\", index_col=0)\n",
    "ref=ref.drop(\"FineCellType\",1)\n",
    "ref.head()\n"
   ]
  },
  {
   "cell_type": "code",
   "execution_count": 3,
   "metadata": {},
   "outputs": [],
   "source": [
    "\n",
    "RefLabels=ref.index.to_list()\n"
   ]
  },
  {
   "cell_type": "code",
   "execution_count": 4,
   "metadata": {},
   "outputs": [
    {
     "data": {
      "text/html": [
       "<div>\n",
       "<style scoped>\n",
       "    .dataframe tbody tr th:only-of-type {\n",
       "        vertical-align: middle;\n",
       "    }\n",
       "\n",
       "    .dataframe tbody tr th {\n",
       "        vertical-align: top;\n",
       "    }\n",
       "\n",
       "    .dataframe thead th {\n",
       "        text-align: right;\n",
       "    }\n",
       "</style>\n",
       "<table border=\"1\" class=\"dataframe\">\n",
       "  <thead>\n",
       "    <tr style=\"text-align: right;\">\n",
       "      <th></th>\n",
       "      <th>Lung_CIA_H6_GTTAAGCATTAT</th>\n",
       "      <th>Lung_CIA_H6_CTGGGCAAACAT</th>\n",
       "      <th>Lung_CIA_H6_TTCGTAGCGCGG</th>\n",
       "      <th>Lung_CIA_H6_AGAGGGCGTCCT</th>\n",
       "      <th>Lung_CIA_H6_ACGCCAGAAAGG</th>\n",
       "      <th>Lung_CIA_H6_ATAGAGACAAGT</th>\n",
       "      <th>Lung_CIA_H6_ATACCTTGATCT</th>\n",
       "      <th>Lung_CIA_H6_TCTCGTATCAAA</th>\n",
       "      <th>Lung_CIA_H6_CTCCACCAGCGT</th>\n",
       "      <th>Lung_CIA_H6_TCCTGACGACTA</th>\n",
       "      <th>...</th>\n",
       "      <th>Skin_CIA_H4_CCAGATCATCGG</th>\n",
       "      <th>Skin_CIA_H4_GCGCGCAGGGAC</th>\n",
       "      <th>Skin_CIA_H4_GACTCCACAGTT</th>\n",
       "      <th>Skin_CIA_H4_TCGAGCCTGCCG</th>\n",
       "      <th>Skin_CIA_H4_GCTCTTCCCGGG</th>\n",
       "      <th>Skin_CIA_H4_CGTGCGTCTCGG</th>\n",
       "      <th>Skin_CIA_H4_ACCACCGACCTC</th>\n",
       "      <th>Skin_CIA_H4_CGTGGAACTTAG</th>\n",
       "      <th>Skin_CIA_H4_GGGCGGGCGGCC</th>\n",
       "      <th>Skin_CIA_H4_AGGGCCCCAGTA</th>\n",
       "    </tr>\n",
       "  </thead>\n",
       "  <tbody>\n",
       "    <tr>\n",
       "      <td>0610007P14Rik</td>\n",
       "      <td>0</td>\n",
       "      <td>1</td>\n",
       "      <td>0</td>\n",
       "      <td>0</td>\n",
       "      <td>0</td>\n",
       "      <td>0</td>\n",
       "      <td>0</td>\n",
       "      <td>0</td>\n",
       "      <td>0</td>\n",
       "      <td>0</td>\n",
       "      <td>...</td>\n",
       "      <td>0</td>\n",
       "      <td>0</td>\n",
       "      <td>0</td>\n",
       "      <td>0</td>\n",
       "      <td>0</td>\n",
       "      <td>0</td>\n",
       "      <td>0</td>\n",
       "      <td>0</td>\n",
       "      <td>0</td>\n",
       "      <td>0</td>\n",
       "    </tr>\n",
       "    <tr>\n",
       "      <td>0610012G03Rik</td>\n",
       "      <td>0</td>\n",
       "      <td>0</td>\n",
       "      <td>0</td>\n",
       "      <td>0</td>\n",
       "      <td>0</td>\n",
       "      <td>0</td>\n",
       "      <td>0</td>\n",
       "      <td>0</td>\n",
       "      <td>0</td>\n",
       "      <td>0</td>\n",
       "      <td>...</td>\n",
       "      <td>0</td>\n",
       "      <td>0</td>\n",
       "      <td>0</td>\n",
       "      <td>0</td>\n",
       "      <td>0</td>\n",
       "      <td>0</td>\n",
       "      <td>0</td>\n",
       "      <td>0</td>\n",
       "      <td>0</td>\n",
       "      <td>0</td>\n",
       "    </tr>\n",
       "    <tr>\n",
       "      <td>0610037L13Rik</td>\n",
       "      <td>0</td>\n",
       "      <td>0</td>\n",
       "      <td>0</td>\n",
       "      <td>0</td>\n",
       "      <td>0</td>\n",
       "      <td>0</td>\n",
       "      <td>0</td>\n",
       "      <td>0</td>\n",
       "      <td>0</td>\n",
       "      <td>0</td>\n",
       "      <td>...</td>\n",
       "      <td>0</td>\n",
       "      <td>0</td>\n",
       "      <td>0</td>\n",
       "      <td>0</td>\n",
       "      <td>0</td>\n",
       "      <td>0</td>\n",
       "      <td>0</td>\n",
       "      <td>0</td>\n",
       "      <td>0</td>\n",
       "      <td>0</td>\n",
       "    </tr>\n",
       "    <tr>\n",
       "      <td>1110004E09Rik</td>\n",
       "      <td>0</td>\n",
       "      <td>0</td>\n",
       "      <td>0</td>\n",
       "      <td>0</td>\n",
       "      <td>0</td>\n",
       "      <td>0</td>\n",
       "      <td>0</td>\n",
       "      <td>0</td>\n",
       "      <td>0</td>\n",
       "      <td>0</td>\n",
       "      <td>...</td>\n",
       "      <td>0</td>\n",
       "      <td>0</td>\n",
       "      <td>0</td>\n",
       "      <td>0</td>\n",
       "      <td>0</td>\n",
       "      <td>0</td>\n",
       "      <td>0</td>\n",
       "      <td>0</td>\n",
       "      <td>0</td>\n",
       "      <td>0</td>\n",
       "    </tr>\n",
       "    <tr>\n",
       "      <td>1110004F10Rik</td>\n",
       "      <td>1</td>\n",
       "      <td>0</td>\n",
       "      <td>0</td>\n",
       "      <td>0</td>\n",
       "      <td>0</td>\n",
       "      <td>0</td>\n",
       "      <td>0</td>\n",
       "      <td>0</td>\n",
       "      <td>1</td>\n",
       "      <td>0</td>\n",
       "      <td>...</td>\n",
       "      <td>0</td>\n",
       "      <td>0</td>\n",
       "      <td>0</td>\n",
       "      <td>0</td>\n",
       "      <td>0</td>\n",
       "      <td>0</td>\n",
       "      <td>0</td>\n",
       "      <td>0</td>\n",
       "      <td>0</td>\n",
       "      <td>0</td>\n",
       "    </tr>\n",
       "  </tbody>\n",
       "</table>\n",
       "<p>5 rows × 12096 columns</p>\n",
       "</div>"
      ],
      "text/plain": [
       "               Lung_CIA_H6_GTTAAGCATTAT  Lung_CIA_H6_CTGGGCAAACAT  \\\n",
       "0610007P14Rik                         0                         1   \n",
       "0610012G03Rik                         0                         0   \n",
       "0610037L13Rik                         0                         0   \n",
       "1110004E09Rik                         0                         0   \n",
       "1110004F10Rik                         1                         0   \n",
       "\n",
       "               Lung_CIA_H6_TTCGTAGCGCGG  Lung_CIA_H6_AGAGGGCGTCCT  \\\n",
       "0610007P14Rik                         0                         0   \n",
       "0610012G03Rik                         0                         0   \n",
       "0610037L13Rik                         0                         0   \n",
       "1110004E09Rik                         0                         0   \n",
       "1110004F10Rik                         0                         0   \n",
       "\n",
       "               Lung_CIA_H6_ACGCCAGAAAGG  Lung_CIA_H6_ATAGAGACAAGT  \\\n",
       "0610007P14Rik                         0                         0   \n",
       "0610012G03Rik                         0                         0   \n",
       "0610037L13Rik                         0                         0   \n",
       "1110004E09Rik                         0                         0   \n",
       "1110004F10Rik                         0                         0   \n",
       "\n",
       "               Lung_CIA_H6_ATACCTTGATCT  Lung_CIA_H6_TCTCGTATCAAA  \\\n",
       "0610007P14Rik                         0                         0   \n",
       "0610012G03Rik                         0                         0   \n",
       "0610037L13Rik                         0                         0   \n",
       "1110004E09Rik                         0                         0   \n",
       "1110004F10Rik                         0                         0   \n",
       "\n",
       "               Lung_CIA_H6_CTCCACCAGCGT  Lung_CIA_H6_TCCTGACGACTA  ...  \\\n",
       "0610007P14Rik                         0                         0  ...   \n",
       "0610012G03Rik                         0                         0  ...   \n",
       "0610037L13Rik                         0                         0  ...   \n",
       "1110004E09Rik                         0                         0  ...   \n",
       "1110004F10Rik                         1                         0  ...   \n",
       "\n",
       "               Skin_CIA_H4_CCAGATCATCGG  Skin_CIA_H4_GCGCGCAGGGAC  \\\n",
       "0610007P14Rik                         0                         0   \n",
       "0610012G03Rik                         0                         0   \n",
       "0610037L13Rik                         0                         0   \n",
       "1110004E09Rik                         0                         0   \n",
       "1110004F10Rik                         0                         0   \n",
       "\n",
       "               Skin_CIA_H4_GACTCCACAGTT  Skin_CIA_H4_TCGAGCCTGCCG  \\\n",
       "0610007P14Rik                         0                         0   \n",
       "0610012G03Rik                         0                         0   \n",
       "0610037L13Rik                         0                         0   \n",
       "1110004E09Rik                         0                         0   \n",
       "1110004F10Rik                         0                         0   \n",
       "\n",
       "               Skin_CIA_H4_GCTCTTCCCGGG  Skin_CIA_H4_CGTGCGTCTCGG  \\\n",
       "0610007P14Rik                         0                         0   \n",
       "0610012G03Rik                         0                         0   \n",
       "0610037L13Rik                         0                         0   \n",
       "1110004E09Rik                         0                         0   \n",
       "1110004F10Rik                         0                         0   \n",
       "\n",
       "               Skin_CIA_H4_ACCACCGACCTC  Skin_CIA_H4_CGTGGAACTTAG  \\\n",
       "0610007P14Rik                         0                         0   \n",
       "0610012G03Rik                         0                         0   \n",
       "0610037L13Rik                         0                         0   \n",
       "1110004E09Rik                         0                         0   \n",
       "1110004F10Rik                         0                         0   \n",
       "\n",
       "               Skin_CIA_H4_GGGCGGGCGGCC  Skin_CIA_H4_AGGGCCCCAGTA  \n",
       "0610007P14Rik                         0                         0  \n",
       "0610012G03Rik                         0                         0  \n",
       "0610037L13Rik                         0                         0  \n",
       "1110004E09Rik                         0                         0  \n",
       "1110004F10Rik                         0                         0  \n",
       "\n",
       "[5 rows x 12096 columns]"
      ]
     },
     "execution_count": 4,
     "metadata": {},
     "output_type": "execute_result"
    }
   ],
   "source": [
    "ssData=pd.read_csv(\"/data/sharedData/CIA_project/DGE_data/sorted_DGEs/allTissues_sorted_expression_matrix.csv\", index_col=0)\n",
    "ssData.head()"
   ]
  },
  {
   "cell_type": "code",
   "execution_count": 5,
   "metadata": {
    "scrolled": true
   },
   "outputs": [
    {
     "data": {
      "text/html": [
       "<div>\n",
       "<style scoped>\n",
       "    .dataframe tbody tr th:only-of-type {\n",
       "        vertical-align: middle;\n",
       "    }\n",
       "\n",
       "    .dataframe tbody tr th {\n",
       "        vertical-align: top;\n",
       "    }\n",
       "\n",
       "    .dataframe thead th {\n",
       "        text-align: right;\n",
       "    }\n",
       "</style>\n",
       "<table border=\"1\" class=\"dataframe\">\n",
       "  <thead>\n",
       "    <tr style=\"text-align: right;\">\n",
       "      <th></th>\n",
       "      <th>0610007P14Rik</th>\n",
       "      <th>0610012G03Rik</th>\n",
       "      <th>0610037L13Rik</th>\n",
       "      <th>1110004E09Rik</th>\n",
       "      <th>1110004F10Rik</th>\n",
       "      <th>1110008F13Rik</th>\n",
       "      <th>1110008P14Rik</th>\n",
       "      <th>1110032A03Rik</th>\n",
       "      <th>1110037F02Rik</th>\n",
       "      <th>1110038B12Rik</th>\n",
       "      <th>...</th>\n",
       "      <th>Nfe2</th>\n",
       "      <th>Nrm</th>\n",
       "      <th>Padi4</th>\n",
       "      <th>Siglecg</th>\n",
       "      <th>Snca</th>\n",
       "      <th>Spta1</th>\n",
       "      <th>Tnfrsf13b</th>\n",
       "      <th>Ttn</th>\n",
       "      <th>Zbp1</th>\n",
       "      <th>Zmat5</th>\n",
       "    </tr>\n",
       "  </thead>\n",
       "  <tbody>\n",
       "    <tr>\n",
       "      <td>Lung_CIA_H6_GTTAAGCATTAT</td>\n",
       "      <td>0</td>\n",
       "      <td>0</td>\n",
       "      <td>0</td>\n",
       "      <td>0</td>\n",
       "      <td>1</td>\n",
       "      <td>0</td>\n",
       "      <td>0</td>\n",
       "      <td>0</td>\n",
       "      <td>0</td>\n",
       "      <td>0</td>\n",
       "      <td>...</td>\n",
       "      <td>0</td>\n",
       "      <td>0</td>\n",
       "      <td>0</td>\n",
       "      <td>0</td>\n",
       "      <td>0</td>\n",
       "      <td>0</td>\n",
       "      <td>0</td>\n",
       "      <td>0</td>\n",
       "      <td>0</td>\n",
       "      <td>0</td>\n",
       "    </tr>\n",
       "    <tr>\n",
       "      <td>Lung_CIA_H6_CTGGGCAAACAT</td>\n",
       "      <td>1</td>\n",
       "      <td>0</td>\n",
       "      <td>0</td>\n",
       "      <td>0</td>\n",
       "      <td>0</td>\n",
       "      <td>0</td>\n",
       "      <td>0</td>\n",
       "      <td>0</td>\n",
       "      <td>0</td>\n",
       "      <td>0</td>\n",
       "      <td>...</td>\n",
       "      <td>0</td>\n",
       "      <td>0</td>\n",
       "      <td>0</td>\n",
       "      <td>0</td>\n",
       "      <td>0</td>\n",
       "      <td>0</td>\n",
       "      <td>0</td>\n",
       "      <td>0</td>\n",
       "      <td>0</td>\n",
       "      <td>0</td>\n",
       "    </tr>\n",
       "    <tr>\n",
       "      <td>Lung_CIA_H6_TTCGTAGCGCGG</td>\n",
       "      <td>0</td>\n",
       "      <td>0</td>\n",
       "      <td>0</td>\n",
       "      <td>0</td>\n",
       "      <td>0</td>\n",
       "      <td>1</td>\n",
       "      <td>0</td>\n",
       "      <td>0</td>\n",
       "      <td>0</td>\n",
       "      <td>0</td>\n",
       "      <td>...</td>\n",
       "      <td>0</td>\n",
       "      <td>0</td>\n",
       "      <td>0</td>\n",
       "      <td>0</td>\n",
       "      <td>0</td>\n",
       "      <td>0</td>\n",
       "      <td>0</td>\n",
       "      <td>0</td>\n",
       "      <td>0</td>\n",
       "      <td>0</td>\n",
       "    </tr>\n",
       "    <tr>\n",
       "      <td>Lung_CIA_H6_AGAGGGCGTCCT</td>\n",
       "      <td>0</td>\n",
       "      <td>0</td>\n",
       "      <td>0</td>\n",
       "      <td>0</td>\n",
       "      <td>0</td>\n",
       "      <td>0</td>\n",
       "      <td>0</td>\n",
       "      <td>0</td>\n",
       "      <td>0</td>\n",
       "      <td>0</td>\n",
       "      <td>...</td>\n",
       "      <td>0</td>\n",
       "      <td>0</td>\n",
       "      <td>0</td>\n",
       "      <td>0</td>\n",
       "      <td>0</td>\n",
       "      <td>0</td>\n",
       "      <td>0</td>\n",
       "      <td>0</td>\n",
       "      <td>0</td>\n",
       "      <td>0</td>\n",
       "    </tr>\n",
       "    <tr>\n",
       "      <td>Lung_CIA_H6_ACGCCAGAAAGG</td>\n",
       "      <td>0</td>\n",
       "      <td>0</td>\n",
       "      <td>0</td>\n",
       "      <td>0</td>\n",
       "      <td>0</td>\n",
       "      <td>0</td>\n",
       "      <td>0</td>\n",
       "      <td>0</td>\n",
       "      <td>0</td>\n",
       "      <td>0</td>\n",
       "      <td>...</td>\n",
       "      <td>0</td>\n",
       "      <td>0</td>\n",
       "      <td>0</td>\n",
       "      <td>0</td>\n",
       "      <td>0</td>\n",
       "      <td>0</td>\n",
       "      <td>0</td>\n",
       "      <td>0</td>\n",
       "      <td>0</td>\n",
       "      <td>0</td>\n",
       "    </tr>\n",
       "  </tbody>\n",
       "</table>\n",
       "<p>5 rows × 8398 columns</p>\n",
       "</div>"
      ],
      "text/plain": [
       "                          0610007P14Rik  0610012G03Rik  0610037L13Rik  \\\n",
       "Lung_CIA_H6_GTTAAGCATTAT              0              0              0   \n",
       "Lung_CIA_H6_CTGGGCAAACAT              1              0              0   \n",
       "Lung_CIA_H6_TTCGTAGCGCGG              0              0              0   \n",
       "Lung_CIA_H6_AGAGGGCGTCCT              0              0              0   \n",
       "Lung_CIA_H6_ACGCCAGAAAGG              0              0              0   \n",
       "\n",
       "                          1110004E09Rik  1110004F10Rik  1110008F13Rik  \\\n",
       "Lung_CIA_H6_GTTAAGCATTAT              0              1              0   \n",
       "Lung_CIA_H6_CTGGGCAAACAT              0              0              0   \n",
       "Lung_CIA_H6_TTCGTAGCGCGG              0              0              1   \n",
       "Lung_CIA_H6_AGAGGGCGTCCT              0              0              0   \n",
       "Lung_CIA_H6_ACGCCAGAAAGG              0              0              0   \n",
       "\n",
       "                          1110008P14Rik  1110032A03Rik  1110037F02Rik  \\\n",
       "Lung_CIA_H6_GTTAAGCATTAT              0              0              0   \n",
       "Lung_CIA_H6_CTGGGCAAACAT              0              0              0   \n",
       "Lung_CIA_H6_TTCGTAGCGCGG              0              0              0   \n",
       "Lung_CIA_H6_AGAGGGCGTCCT              0              0              0   \n",
       "Lung_CIA_H6_ACGCCAGAAAGG              0              0              0   \n",
       "\n",
       "                          1110038B12Rik  ...  Nfe2  Nrm  Padi4  Siglecg  Snca  \\\n",
       "Lung_CIA_H6_GTTAAGCATTAT              0  ...     0    0      0        0     0   \n",
       "Lung_CIA_H6_CTGGGCAAACAT              0  ...     0    0      0        0     0   \n",
       "Lung_CIA_H6_TTCGTAGCGCGG              0  ...     0    0      0        0     0   \n",
       "Lung_CIA_H6_AGAGGGCGTCCT              0  ...     0    0      0        0     0   \n",
       "Lung_CIA_H6_ACGCCAGAAAGG              0  ...     0    0      0        0     0   \n",
       "\n",
       "                          Spta1  Tnfrsf13b  Ttn  Zbp1  Zmat5  \n",
       "Lung_CIA_H6_GTTAAGCATTAT      0          0    0     0      0  \n",
       "Lung_CIA_H6_CTGGGCAAACAT      0          0    0     0      0  \n",
       "Lung_CIA_H6_TTCGTAGCGCGG      0          0    0     0      0  \n",
       "Lung_CIA_H6_AGAGGGCGTCCT      0          0    0     0      0  \n",
       "Lung_CIA_H6_ACGCCAGAAAGG      0          0    0     0      0  \n",
       "\n",
       "[5 rows x 8398 columns]"
      ]
     },
     "execution_count": 5,
     "metadata": {},
     "output_type": "execute_result"
    }
   ],
   "source": [
    "ssData1=ssData.transpose()\n",
    "ssData1.head()\n"
   ]
  },
  {
   "cell_type": "code",
   "execution_count": 6,
   "metadata": {},
   "outputs": [
    {
     "data": {
      "text/plain": [
       "(12096, 8398)"
      ]
     },
     "execution_count": 6,
     "metadata": {},
     "output_type": "execute_result"
    }
   ],
   "source": [
    "ssData1.shape"
   ]
  },
  {
   "cell_type": "code",
   "execution_count": null,
   "metadata": {},
   "outputs": [],
   "source": []
  },
  {
   "cell_type": "code",
   "execution_count": null,
   "metadata": {},
   "outputs": [],
   "source": [
    "\n"
   ]
  },
  {
   "cell_type": "code",
   "execution_count": null,
   "metadata": {},
   "outputs": [],
   "source": []
  },
  {
   "cell_type": "code",
   "execution_count": 7,
   "metadata": {},
   "outputs": [
    {
     "data": {
      "text/plain": [
       "(12454, 6395)"
      ]
     },
     "execution_count": 7,
     "metadata": {},
     "output_type": "execute_result"
    }
   ],
   "source": [
    "#Merging data now\n",
    "\n",
    "fullData=pd.concat([ssData1,ref], join='inner', sort=False)\n",
    "fullData.shape"
   ]
  },
  {
   "cell_type": "code",
   "execution_count": 8,
   "metadata": {},
   "outputs": [],
   "source": [
    "import scanpy as sc\n",
    "nR=ref.shape[0]\n",
    "nS=ssData1.shape[0]\n",
    "res=sc.pp.filter_genes(fullData.iloc[:nS,:], min_counts=1, inplace=False)\n",
    "\n",
    "p=fullData.shape[1]"
   ]
  },
  {
   "cell_type": "code",
   "execution_count": 9,
   "metadata": {},
   "outputs": [],
   "source": [
    "fullData=fullData.iloc[:,res[0].to_list()].copy()"
   ]
  },
  {
   "cell_type": "code",
   "execution_count": 655,
   "metadata": {},
   "outputs": [],
   "source": [
    "import scanpy as sc\n",
    "from numpy.random import choice\n",
    "ind=choice(list(range(nS)), nS, replace=False)\n",
    "#ind=list(range(nS))\n",
    "\n",
    "ssData2=sc.AnnData(fullData.to_numpy()[ind,:])"
   ]
  },
  {
   "cell_type": "code",
   "execution_count": 656,
   "metadata": {},
   "outputs": [
    {
     "name": "stdout",
     "output_type": "stream",
     "text": [
      "dca: Successfully preprocessed 6395 genes and 12096 cells.\n",
      "Model: \"model_66\"\n",
      "__________________________________________________________________________________________________\n",
      "Layer (type)                    Output Shape         Param #     Connected to                     \n",
      "==================================================================================================\n",
      "count (InputLayer)              (None, 6395)         0                                            \n",
      "__________________________________________________________________________________________________\n",
      "enc0 (Dense)                    (None, 64)           409344      count[0][0]                      \n",
      "__________________________________________________________________________________________________\n",
      "batch_normalization_28 (BatchNo (None, 64)           192         enc0[0][0]                       \n",
      "__________________________________________________________________________________________________\n",
      "enc0_act (Activation)           (None, 64)           0           batch_normalization_28[0][0]     \n",
      "__________________________________________________________________________________________________\n",
      "enc0_drop (Dropout)             (None, 64)           0           enc0_act[0][0]                   \n",
      "__________________________________________________________________________________________________\n",
      "center (Dense)                  (None, 32)           2080        enc0_drop[0][0]                  \n",
      "__________________________________________________________________________________________________\n",
      "batch_normalization_29 (BatchNo (None, 32)           96          center[0][0]                     \n",
      "__________________________________________________________________________________________________\n",
      "center_act (Activation)         (None, 32)           0           batch_normalization_29[0][0]     \n",
      "__________________________________________________________________________________________________\n",
      "center_drop (Dropout)           (None, 32)           0           center_act[0][0]                 \n",
      "__________________________________________________________________________________________________\n",
      "dec1 (Dense)                    (None, 64)           2112        center_drop[0][0]                \n",
      "__________________________________________________________________________________________________\n",
      "batch_normalization_30 (BatchNo (None, 64)           192         dec1[0][0]                       \n",
      "__________________________________________________________________________________________________\n",
      "dec1_act (Activation)           (None, 64)           0           batch_normalization_30[0][0]     \n",
      "__________________________________________________________________________________________________\n",
      "dec1_drop (Dropout)             (None, 64)           0           dec1_act[0][0]                   \n",
      "__________________________________________________________________________________________________\n",
      "mean (Dense)                    (None, 6395)         415675      dec1_drop[0][0]                  \n",
      "__________________________________________________________________________________________________\n",
      "size_factors (InputLayer)       (None, 1)            0                                            \n",
      "__________________________________________________________________________________________________\n",
      "lambda_2 (Lambda)               (None, 6395)         0           mean[0][0]                       \n",
      "                                                                 size_factors[0][0]               \n",
      "__________________________________________________________________________________________________\n",
      "dispersion (Dense)              (None, 6395)         415675      dec1_drop[0][0]                  \n",
      "__________________________________________________________________________________________________\n",
      "pi (Dense)                      (None, 6395)         415675      dec1_drop[0][0]                  \n",
      "__________________________________________________________________________________________________\n",
      "slice (SliceLayer)              (None, 6395)         0           lambda_2[9][0]                   \n",
      "                                                                 dispersion[0][0]                 \n",
      "                                                                 pi[0][0]                         \n",
      "==================================================================================================\n",
      "Total params: 1,661,041\n",
      "Trainable params: 1,660,721\n",
      "Non-trainable params: 320\n",
      "__________________________________________________________________________________________________\n",
      "Train on 10886 samples, validate on 1210 samples\n",
      "Epoch 1/300\n",
      "10886/10886 [==============================] - 10s 899us/step - loss: 0.2121 - val_loss: 0.2031\n",
      "Epoch 2/300\n",
      "10886/10886 [==============================] - 8s 737us/step - loss: 0.1948 - val_loss: 0.1996\n",
      "Epoch 3/300\n",
      "10886/10886 [==============================] - 8s 714us/step - loss: 0.1932 - val_loss: 0.1988\n",
      "Epoch 4/300\n",
      "10886/10886 [==============================] - 8s 702us/step - loss: 0.1925 - val_loss: 0.1987\n",
      "Epoch 5/300\n",
      "10886/10886 [==============================] - 8s 701us/step - loss: 0.1922 - val_loss: 0.1982\n",
      "Epoch 6/300\n",
      "10886/10886 [==============================] - 8s 690us/step - loss: 0.1920 - val_loss: 0.1981\n",
      "Epoch 7/300\n",
      "10886/10886 [==============================] - 8s 694us/step - loss: 0.1919 - val_loss: 0.1981\n",
      "Epoch 8/300\n",
      "10886/10886 [==============================] - 7s 688us/step - loss: 0.1919 - val_loss: 0.1982\n",
      "Epoch 9/300\n",
      "10886/10886 [==============================] - 7s 682us/step - loss: 0.1918 - val_loss: 0.1981\n",
      "Epoch 10/300\n",
      "10886/10886 [==============================] - 7s 683us/step - loss: 0.1918 - val_loss: 0.1987\n",
      "Epoch 11/300\n",
      "10886/10886 [==============================] - 7s 686us/step - loss: 0.1919 - val_loss: 0.1989\n",
      "Epoch 12/300\n",
      "10886/10886 [==============================] - 7s 684us/step - loss: 0.1919 - val_loss: 0.1988\n",
      "Epoch 13/300\n",
      "10886/10886 [==============================] - 7s 682us/step - loss: 0.1918 - val_loss: 0.1992\n",
      "Epoch 14/300\n",
      "10886/10886 [==============================] - 7s 682us/step - loss: 0.1919 - val_loss: 0.1985\n",
      "Epoch 15/300\n",
      "10886/10886 [==============================] - 7s 681us/step - loss: 0.1920 - val_loss: 0.1986\n",
      "\n",
      "Epoch 00015: ReduceLROnPlateau reducing learning rate to 0.00010000000474974513.\n",
      "Epoch 16/300\n",
      "10886/10886 [==============================] - 7s 682us/step - loss: 0.1915 - val_loss: 0.1982\n",
      "Epoch 17/300\n",
      "10886/10886 [==============================] - 7s 677us/step - loss: 0.1914 - val_loss: 0.1983\n",
      "Epoch 18/300\n",
      "10886/10886 [==============================] - 7s 675us/step - loss: 0.1914 - val_loss: 0.1982\n",
      "Epoch 19/300\n",
      "10886/10886 [==============================] - 7s 675us/step - loss: 0.1915 - val_loss: 0.1982\n",
      "Epoch 20/300\n",
      "10886/10886 [==============================] - 7s 681us/step - loss: 0.1913 - val_loss: 0.1982\n",
      "Epoch 21/300\n",
      "10886/10886 [==============================] - 7s 676us/step - loss: 0.1912 - val_loss: 0.1982\n",
      "Epoch 22/300\n",
      "10886/10886 [==============================] - 7s 683us/step - loss: 0.1912 - val_loss: 0.1982\n",
      "Epoch 23/300\n",
      "10886/10886 [==============================] - 7s 681us/step - loss: 0.1913 - val_loss: 0.1982\n",
      "Epoch 24/300\n",
      "10886/10886 [==============================] - 7s 678us/step - loss: 0.1914 - val_loss: 0.1981\n",
      "Epoch 00024: early stopping\n",
      "dca: Calculating reconstructions...\n"
     ]
    }
   ],
   "source": [
    "from dca.api import dca\n",
    "model=dca(ssData2, verbose=True, return_model=True, return_info=True, hidden_dropout=0.01)"
   ]
  },
  {
   "cell_type": "code",
   "execution_count": 650,
   "metadata": {},
   "outputs": [
    {
     "name": "stdout",
     "output_type": "stream",
     "text": [
      "Help on function dca in module dca.api:\n",
      "\n",
      "dca(adata, mode='denoise', ae_type='zinb-conddisp', normalize_per_cell=True, scale=True, log1p=True, hidden_size=(64, 32, 64), hidden_dropout=0.0, batchnorm=True, activation='relu', init='glorot_uniform', network_kwds={}, epochs=300, reduce_lr=10, early_stop=15, batch_size=32, optimizer='rmsprop', learning_rate=None, random_state=0, threads=None, verbose=False, training_kwds={}, return_model=False, return_info=False, copy=False)\n",
      "    Deep count autoencoder(DCA) API.\n",
      "    \n",
      "    Fits a count autoencoder to the count data given in the anndata object\n",
      "    in order to denoise the data and capture hidden representation of\n",
      "    cells in low dimensions. Type of the autoencoder and return values are\n",
      "    determined by the parameters.\n",
      "    \n",
      "    Parameters\n",
      "    ----------\n",
      "    adata : :class:`~scanpy.api.AnnData`\n",
      "        An anndata file with `.raw` attribute representing raw counts.\n",
      "    mode : `str`, optional. `denoise`(default), or `latent`.\n",
      "        `denoise` overwrites `adata.X` with denoised expression values.\n",
      "        In `latent` mode DCA adds `adata.obsm['X_dca']` to given adata\n",
      "        object. This matrix represent latent representation of cells via DCA.\n",
      "    ae_type : `str`, optional. `zinb-conddisp`(default), `zinb`, `nb-conddisp` or `nb`.\n",
      "        Type of the autoencoder. Return values and the architecture is\n",
      "        determined by the type e.g. `nb` does not provide dropout\n",
      "        probabilities.\n",
      "    normalize_per_cell : `bool`, optional. Default: `True`.\n",
      "        If true, library size normalization is performed using\n",
      "        the `sc.pp.normalize_per_cell` function in Scanpy and saved into adata\n",
      "        object. Mean layer is re-introduces library size differences by\n",
      "        scaling the mean value of each cell in the output layer. See the\n",
      "        manuscript for more details.\n",
      "    scale : `bool`, optional. Default: `True`.\n",
      "        If true, the input of the autoencoder is centered using\n",
      "        `sc.pp.scale` function of Scanpy. Note that the output is kept as raw\n",
      "        counts as loss functions are designed for the count data.\n",
      "    log1p : `bool`, optional. Default: `True`.\n",
      "        If true, the input of the autoencoder is log transformed with a\n",
      "        pseudocount of one using `sc.pp.log1p` function of Scanpy.\n",
      "    hidden_size : `tuple` or `list`, optional. Default: (64, 32, 64).\n",
      "        Width of hidden layers.\n",
      "    hidden_dropout : `float`, `tuple` or `list`, optional. Default: 0.0.\n",
      "        Probability of weight dropout in the autoencoder (per layer if list\n",
      "        or tuple).\n",
      "    batchnorm : `bool`, optional. Default: `True`.\n",
      "        If true, batch normalization is performed.\n",
      "    activation : `str`, optional. Default: `relu`.\n",
      "        Activation function of hidden layers.\n",
      "    init : `str`, optional. Default: `glorot_uniform`.\n",
      "        Initialization method used to initialize weights.\n",
      "    network_kwds : `dict`, optional.\n",
      "        Additional keyword arguments for the autoencoder.\n",
      "    epochs : `int`, optional. Default: 300.\n",
      "        Number of total epochs in training.\n",
      "    reduce_lr : `int`, optional. Default: 10.\n",
      "        Reduces learning rate if validation loss does not improve in given number of epochs.\n",
      "    early_stop : `int`, optional. Default: 15.\n",
      "        Stops training if validation loss does not improve in given number of epochs.\n",
      "    batch_size : `int`, optional. Default: 32.\n",
      "        Number of samples in the batch used for SGD.\n",
      "    learning_rate : `float`, optional. Default: None.\n",
      "        Learning rate to use in the training.\n",
      "    optimizer : `str`, optional. Default: \"rmsprop\".\n",
      "        Type of optimization method used for training.\n",
      "    random_state : `int`, optional. Default: 0.\n",
      "        Seed for python, numpy and tensorflow.\n",
      "    threads : `int` or None, optional. Default: None\n",
      "        Number of threads to use in training. All cores are used by default.\n",
      "    verbose : `bool`, optional. Default: `False`.\n",
      "        If true, prints additional information about training and architecture.\n",
      "    training_kwds : `dict`, optional.\n",
      "        Additional keyword arguments for the training process.\n",
      "    return_model : `bool`, optional. Default: `False`.\n",
      "        If true, trained autoencoder object is returned. See \"Returns\".\n",
      "    return_info : `bool`, optional. Default: `False`.\n",
      "        If true, all additional parameters of DCA are stored in `adata.obsm` such as dropout\n",
      "        probabilities (obsm['X_dca_dropout']) and estimated dispersion values\n",
      "        (obsm['X_dca_dispersion']), in case that autoencoder is of type\n",
      "        zinb or zinb-conddisp.\n",
      "    copy : `bool`, optional. Default: `False`.\n",
      "        If true, a copy of anndata is returned.\n",
      "    \n",
      "    Returns\n",
      "    -------\n",
      "    If `copy` is true and `return_model` is false, AnnData object is returned.\n",
      "    \n",
      "    In \"denoise\" mode, `adata.X` is overwritten with the denoised values. In \"latent\" mode, latent\n",
      "    low dimensional representation of cells are stored in `adata.obsm['X_dca']` and `adata.X`\n",
      "    is not modified. Note that these values are not corrected for library size effects.\n",
      "    \n",
      "    If `return_info` is true, all estimated distribution parameters are stored in AnnData such as:\n",
      "    \n",
      "    - `.obsm[\"X_dca_dropout\"]` which is the mixture coefficient (pi) of the zero component\n",
      "    in ZINB, i.e. dropout probability. (Only if ae_type is zinb or zinb-conddisp)\n",
      "    \n",
      "    - `.obsm[\"X_dca_dispersion\"]` which is the dispersion parameter of NB.\n",
      "    \n",
      "    - `.uns[\"dca_loss_history\"]` which stores the loss history of the training.\n",
      "    \n",
      "    Finally, the raw counts are stored as `.raw`.\n",
      "    \n",
      "    If `return_model` is given, trained model is returned. When both `copy` and `return_model`\n",
      "    are true, a tuple of anndata and model is returned in that order.\n",
      "\n"
     ]
    }
   ],
   "source": [
    "help(dca)"
   ]
  },
  {
   "cell_type": "code",
   "execution_count": 657,
   "metadata": {
    "scrolled": true
   },
   "outputs": [],
   "source": [
    "enc=model.get_encoder()\n",
    "fullData2=fullData.copy()\n",
    "\n",
    "fullData2.iloc[ind,:]=ssData2.X\n"
   ]
  },
  {
   "cell_type": "code",
   "execution_count": 658,
   "metadata": {},
   "outputs": [],
   "source": [
    "def corr2_coeff(A,B):\n",
    "    # Rowwise mean of input arrays & subtract from input arrays themeselves\n",
    "    A_mA = A - A.mean(1)[:,None]\n",
    "    B_mB = B - B.mean(1)[:,None]\n",
    "\n",
    "    # Sum of squares across rows\n",
    "    ssA = (A_mA**2).sum(1);\n",
    "    ssB = (B_mB**2).sum(1);\n",
    "\n",
    "    # Finally get corr coeff\n",
    "    return np.dot(A_mA,B_mB.T)/np.sqrt(np.dot(ssA[:,None],ssB[None]))"
   ]
  },
  {
   "cell_type": "code",
   "execution_count": 659,
   "metadata": {},
   "outputs": [],
   "source": [
    "from scipy.stats import spearmanr\n",
    "\n",
    "def corr_spear(A,B):\n",
    "    rho1,pi=spearmanr(A, B, axis=1)\n",
    "    sA=A.shape[0]\n",
    "    return rho1[:sA,sA:]"
   ]
  },
  {
   "cell_type": "code",
   "execution_count": 660,
   "metadata": {},
   "outputs": [],
   "source": [
    "ssData3=fullData2.iloc[:nS,:].copy()\n",
    "ref3=fullData2.iloc[nS:,:].copy()\n",
    "rho=corr2_coeff(np.log(ssData3.to_numpy()), ref3.to_numpy())\n",
    "rho0=corr_spear(np.log(ssData3.to_numpy()), ref3.to_numpy())"
   ]
  },
  {
   "cell_type": "code",
   "execution_count": 661,
   "metadata": {},
   "outputs": [],
   "source": [
    "ssData4=fullData2.iloc[:nS,:].copy()#try with fulldata or fulldata2\n",
    "ref4=fullData.iloc[nS:,:].copy()\n",
    "import statsmodels.api as sm\n",
    "lowess = sm.nonparametric.lowess\n",
    "ref4n=ref4.copy()\n",
    "\n",
    "#for i in range(nR):\n",
    "nR=ref4.shape[0]"
   ]
  },
  {
   "cell_type": "code",
   "execution_count": 662,
   "metadata": {},
   "outputs": [
    {
     "name": "stdout",
     "output_type": "stream",
     "text": [
      "357\n"
     ]
    }
   ],
   "source": [
    "from IPython.display import clear_output\n",
    "from sklearn.isotonic import IsotonicRegression\n",
    "\n",
    "#from scipy.stats import nbinom\n",
    "\n",
    "for i in range(nR):\n",
    "    clear_output(wait = True)\n",
    "    print(i)\n",
    "    Cand=rho0[:,i]\n",
    "    index=((-Cand).argsort())[:1]\n",
    "    ssM=ssData4.iloc[index,:].mean(axis=0)\n",
    "    #extras\n",
    "    \n",
    "    #Theta=Disp[index,:].mean(axis=0)\n",
    "    #Disp2=(Disp1-1)/Disp1\n",
    "    #Disp3=np.where(Disp2<0, 0, Disp2)\n",
    "    \n",
    "    ##extras\n",
    "    \n",
    "    x=ref4.iloc[i,:]\n",
    "    y=np.log(ssM)\n",
    "    iso_reg = IsotonicRegression().fit(x, y)\n",
    "    yhat=iso_reg.predict(x)\n",
    "    #x[x.argsort()]=y[y.argsort()]\n",
    "    #x[x.argsort()]=np.min(y)+(np.max(y)-np.min(y))/(np.max(x)-np.min(x))*(x[x.argsort()]-np.min(x))\n",
    "    #yhat=lowess(y,x, return_sorted=False, frac=0.05)\n",
    "    #plt.scatter(x,y, s=0.3)\n",
    "    #plt.scatter(x,yhat, s=0.3)\n",
    "    \n",
    "    #mu=np.exp(yhat)\n",
    "    #gen=nbinom.rvs(Theta, mu/(Theta+mu))\n",
    "    \n",
    "    ref4n.iloc[i,:]=np.exp(yhat)#np.exp(x) #np.exp(yhat)*Disp3*10"
   ]
  },
  {
   "cell_type": "code",
   "execution_count": null,
   "metadata": {
    "scrolled": true
   },
   "outputs": [],
   "source": []
  },
  {
   "cell_type": "code",
   "execution_count": 501,
   "metadata": {},
   "outputs": [
    {
     "data": {
      "text/plain": [
       "(12432, 6395)"
      ]
     },
     "execution_count": 501,
     "metadata": {},
     "output_type": "execute_result"
    }
   ],
   "source": [
    "full.shape"
   ]
  },
  {
   "cell_type": "code",
   "execution_count": 663,
   "metadata": {},
   "outputs": [
    {
     "data": {
      "text/plain": [
       "(array([  3,  80,  95, 119, 124, 139, 156, 157, 274, 275, 276, 278, 302,\n",
       "        303, 304, 305, 306, 307, 319, 349]),)"
      ]
     },
     "execution_count": 663,
     "metadata": {},
     "output_type": "execute_result"
    }
   ],
   "source": [
    "ind3=np.where(refData2.sum(axis=1)==0)\n",
    "ind3"
   ]
  },
  {
   "cell_type": "code",
   "execution_count": 664,
   "metadata": {},
   "outputs": [],
   "source": [
    "from dca.io import normalize\n",
    "refData2=np.round(ref4n.to_numpy())\n",
    "ind2=np.where(refData2.sum(axis=1)>0)\n",
    "#scData2=np.round(2*fullData2.iloc[:nS,:].to_numpy())\n",
    "scData2=fullData.iloc[:nS,:].to_numpy()\n",
    "\n",
    "full=sc.AnnData(np.concatenate((scData2, refData2)),  )\n",
    "\n",
    "full1=normalize(full, filter_min_counts=False)\n",
    "#full.obs.size_factors=[1]*full.obs.size_factors.size\n",
    "Xpred1=enc.predict({'count': full1.X, 'size_factors':full1.obs.size_factors })"
   ]
  },
  {
   "cell_type": "code",
   "execution_count": 665,
   "metadata": {
    "scrolled": true
   },
   "outputs": [
    {
     "name": "stderr",
     "output_type": "stream",
     "text": [
      "/opt/anaconda/3/2019.10/lib/python3.7/site-packages/numba/compiler.py:602: NumbaPerformanceWarning: \u001b[1m\n",
      "The keyword argument 'parallel=True' was specified but no transformation for parallel execution was possible.\n",
      "\n",
      "To find out why, try turning on parallel diagnostics, see http://numba.pydata.org/numba-doc/latest/user/parallel.html#diagnostics for help.\n",
      "\u001b[1m\n",
      "File \"../../../../home/olesy12/.local/lib/python3.7/site-packages/umap/nndescent.py\", line 47:\u001b[0m\n",
      "\u001b[1m    @numba.njit(parallel=True)\n",
      "\u001b[1m    def nn_descent(\n",
      "\u001b[0m    \u001b[1m^\u001b[0m\u001b[0m\n",
      "\u001b[0m\n",
      "  self.func_ir.loc))\n",
      "... storing 'Group' as categorical\n"
     ]
    },
    {
     "name": "stdout",
     "output_type": "stream",
     "text": [
      "WARNING: saving figure to file figures/umapreferences.pdf\n"
     ]
    },
    {
     "data": {
      "image/png": "[encoded data removed]",
      "text/plain": [
       "<Figure size 432x288 with 1 Axes>"
      ]
     },
     "metadata": {},
     "output_type": "display_data"
    }
   ],
   "source": [
    "ad=sc.AnnData(Xpred1)\n",
    "ad.obs['Group']=['1']*nS+np.array(RefLabels)[ind2[0]].tolist()\n",
    "#sc.pp.pca(ad)\n",
    "sc.pp.neighbors(ad, n_neighbors=30)\n",
    "sc.tl.umap(ad, min_dist=0.1)\n",
    "sc.pl.umap(ad, color='Group', save=\"references\")"
   ]
  },
  {
   "cell_type": "code",
   "execution_count": 667,
   "metadata": {
    "scrolled": false
   },
   "outputs": [
    {
     "name": "stdout",
     "output_type": "stream",
     "text": [
      "WARNING: saving figure to file figures/umapclusters.pdf\n"
     ]
    },
    {
     "data": {
      "image/png": "[encoded data removed]",
      "text/plain": [
       "<Figure size 432x288 with 1 Axes>"
      ]
     },
     "metadata": {},
     "output_type": "display_data"
    }
   ],
   "source": [
    "#Computing clusters, resolution affects the amount of clusters\n",
    "sc.tl.leiden(ad, key_added=\"leiden_scvi\", resolution=1)\n",
    "\n",
    "#Plotting clusters\n",
    "sc.pl.umap(ad, color=[\"leiden_scvi\"], save=\"clusters\")"
   ]
  },
  {
   "cell_type": "code",
   "execution_count": 3,
   "metadata": {},
   "outputs": [
    {
     "name": "stdout",
     "output_type": "stream",
     "text": [
      "Help on function neighbors in module scanpy.neighbors:\n",
      "\n",
      "neighbors(adata: anndata._core.anndata.AnnData, n_neighbors: int = 15, n_pcs: Union[int, NoneType] = None, use_rep: Union[str, NoneType] = None, knn: bool = True, random_state: Union[int, numpy.random.mtrand.RandomState, NoneType] = 0, method: Union[scanpy._compat.Literal_, NoneType] = 'umap', metric: Union[scanpy._compat.Literal_, scanpy._compat.Literal_, Callable[[numpy.ndarray, numpy.ndarray], float]] = 'euclidean', metric_kwds: Mapping[str, Any] = mappingproxy({}), copy: bool = False) -> Union[anndata._core.anndata.AnnData, NoneType]\n",
      "    Compute a neighborhood graph of observations [McInnes18]_.\n",
      "    \n",
      "    The neighbor search efficiency of this heavily relies on UMAP [McInnes18]_,\n",
      "    which also provides a method for estimating connectivities of data points -\n",
      "    the connectivity of the manifold (`method=='umap'`). If `method=='gauss'`,\n",
      "    connectivities are computed according to [Coifman05]_, in the adaption of\n",
      "    [Haghverdi16]_.\n",
      "    \n",
      "    Parameters\n",
      "    ----------\n",
      "    adata\n",
      "        Annotated data matrix.\n",
      "    n_neighbors\n",
      "        The size of local neighborhood (in terms of number of neighboring data\n",
      "        points) used for manifold approximation. Larger values result in more\n",
      "        global views of the manifold, while smaller values result in more local\n",
      "        data being preserved. In general values should be in the range 2 to 100.\n",
      "        If `knn` is `True`, number of nearest neighbors to be searched. If `knn`\n",
      "        is `False`, a Gaussian kernel width is set to the distance of the\n",
      "        `n_neighbors` neighbor.\n",
      "    n_pcs\n",
      "        Use this many PCs. If `n_pcs==0` use `.X` if `use_rep is None`.\n",
      "    use_rep\n",
      "        Use the indicated representation. `'X'` or any key for `.obsm` is valid.\n",
      "        If `None`, the representation is chosen automatically:\n",
      "        For `.n_vars` < 50, `.X` is used, otherwise 'X_pca' is used.\n",
      "        If 'X_pca' is not present, it’s computed with default parameters.\n",
      "    knn\n",
      "        If `True`, use a hard threshold to restrict the number of neighbors to\n",
      "        `n_neighbors`, that is, consider a knn graph. Otherwise, use a Gaussian\n",
      "        Kernel to assign low weights to neighbors more distant than the\n",
      "        `n_neighbors` nearest neighbor.\n",
      "    random_state\n",
      "        A numpy random seed.\n",
      "    method\n",
      "        Use 'umap' [McInnes18]_ or 'gauss' (Gauss kernel following [Coifman05]_\n",
      "        with adaptive width [Haghverdi16]_) for computing connectivities.\n",
      "        Use 'rapids' for the RAPIDS implementation of UMAP (experimental, GPU\n",
      "        only).\n",
      "    metric\n",
      "        A known metric’s name or a callable that returns a distance.\n",
      "    metric_kwds\n",
      "        Options for the metric.\n",
      "    copy\n",
      "        Return a copy instead of writing to adata.\n",
      "    \n",
      "    Returns\n",
      "    -------\n",
      "    Depending on `copy`, updates or returns `adata` with the following:\n",
      "    \n",
      "    **connectivities** : sparse matrix (`.uns['neighbors']`, dtype `float32`)\n",
      "        Weighted adjacency matrix of the neighborhood graph of data\n",
      "        points. Weights should be interpreted as connectivities.\n",
      "    **distances** : sparse matrix (`.uns['neighbors']`, dtype `float32`)\n",
      "        Instead of decaying weights, this stores distances for each pair of\n",
      "        neighbors.\n",
      "\n"
     ]
    }
   ],
   "source": [
    "import scanpy as sc\n",
    "help(sc.pp.neighbors)"
   ]
  },
  {
   "cell_type": "code",
   "execution_count": 359,
   "metadata": {},
   "outputs": [],
   "source": [
    "# #Trying hierarchical clustering\n",
    "# import sys\n",
    "# sys.setrecursionlimit(100000)\n",
    "\n",
    "# from scipy.cluster.hierarchy import dendrogram, linkage\n",
    "# linked = linkage(Xpred1, 'ward')\n",
    "# plt.figure(figsize=(10, 7))\n",
    "# dendrogram(linked,\n",
    "#              orientation='top',\n",
    "#              labels=ad.obs['Group'],\n",
    "#              distance_sort='descending',\n",
    "#              show_leaf_counts=True)\n",
    "# plt.show()"
   ]
  },
  {
   "cell_type": "code",
   "execution_count": 360,
   "metadata": {},
   "outputs": [],
   "source": [
    "# from sklearn.cluster import AgglomerativeClustering\n",
    "\n",
    "# cluster = AgglomerativeClustering(n_clusters=5, affinity='euclidean', linkage='complete')\n",
    "# HierL=cluster.fit_predict(Xpred1)\n"
   ]
  },
  {
   "cell_type": "code",
   "execution_count": 531,
   "metadata": {
    "scrolled": true
   },
   "outputs": [
    {
     "data": {
      "text/plain": [
       "(12432, 32)"
      ]
     },
     "execution_count": 531,
     "metadata": {},
     "output_type": "execute_result"
    }
   ],
   "source": [
    "\n",
    "Xpred1.shape\n"
   ]
  },
  {
   "cell_type": "code",
   "execution_count": 747,
   "metadata": {},
   "outputs": [],
   "source": [
    "from sklearn.metrics.pairwise import euclidean_distances\n",
    "\n",
    "rho5=corr2_coeff(np.log(ssData3.to_numpy()), np.log(ref4n.to_numpy()))\n",
    "\n",
    "rho4=-euclidean_distances(Xpred1[:nS,:], Xpred1[nS:,:])"
   ]
  },
  {
   "cell_type": "code",
   "execution_count": 759,
   "metadata": {
    "scrolled": true
   },
   "outputs": [
    {
     "name": "stdout",
     "output_type": "stream",
     "text": [
      "Cluster 2\n",
      "      CellType  Count      Prob\n",
      "0  Macrophages   1278  0.998437\n",
      "1      Neurons      2  0.001563\n",
      "Cluster 15\n",
      "            CellType  Count      Prob\n",
      "0         Adipocytes      3  0.058824\n",
      "1        Macrophages     41  0.803922\n",
      "2  Endothelial cells      4  0.078431\n",
      "3            Neurons      1  0.019608\n",
      "4        Fibroblasts      2  0.039216\n",
      "Cluster 5\n",
      "  CellType  Count      Prob\n",
      "0  T cells    800  0.936768\n",
      "1  Neurons     54  0.063232\n",
      "Cluster 4\n",
      "  CellType  Count  Prob\n",
      "0  T cells    934   1.0\n",
      "Cluster 3\n",
      "      CellType  Count  Prob\n",
      "0  Fibroblasts    971   1.0\n",
      "Cluster 13\n",
      "      CellType  Count  Prob\n",
      "0  Fibroblasts    351   1.0\n",
      "Cluster 11\n",
      "            CellType  Count  Prob\n",
      "0  Endothelial cells    553   1.0\n",
      "Cluster 7\n",
      "   CellType  Count      Prob\n",
      "0   Neurons      8  0.012698\n",
      "1   T cells    139  0.220635\n",
      "2  NK cells    483  0.766667\n",
      "Cluster 9\n",
      "       CellType  Count      Prob\n",
      "0  Granulocytes    585  0.983193\n",
      "1     Monocytes     10  0.016807\n",
      "Cluster 8\n",
      "       CellType  Count  Prob\n",
      "0  Granulocytes    612   1.0\n",
      "Cluster 12\n",
      "          CellType  Count      Prob\n",
      "0      Macrophages    144  0.326531\n",
      "1  Dendritic cells    199  0.451247\n",
      "2     Granulocytes     89  0.201814\n",
      "3         NK cells      8  0.018141\n",
      "4          B cells      1  0.002268\n",
      "Cluster 14\n",
      "       CellType  Count  Prob\n",
      "0  Erythrocytes    297   1.0\n",
      "Cluster 10\n",
      "    CellType  Count  Prob\n",
      "0  Monocytes    592   1.0\n",
      "Cluster 1\n",
      "  CellType  Count  Prob\n",
      "0  B cells   1372   1.0\n"
     ]
    },
    {
     "data": {
      "text/plain": [
       "({'2': 'Macrophages',\n",
       "  '15': 'Macrophages',\n",
       "  '5': 'T cells',\n",
       "  '4': 'T cells',\n",
       "  '3': 'Fibroblasts',\n",
       "  '6': 'Unknown6',\n",
       "  '13': 'Fibroblasts',\n",
       "  '11': 'Endothelial cells',\n",
       "  '7': 'NK cells',\n",
       "  '9': 'Granulocytes',\n",
       "  '8': 'Granulocytes',\n",
       "  '12': 'Dendritic cells',\n",
       "  '16': 'Unknown16',\n",
       "  '14': 'Erythrocytes',\n",
       "  '10': 'Monocytes',\n",
       "  '0': 'Unknown0',\n",
       "  '1': 'B cells'},\n",
       " {'2': 0.9984375,\n",
       "  '15': 0.803921568627451,\n",
       "  '5': 0.936768149882904,\n",
       "  '4': 1.0,\n",
       "  '3': 1.0,\n",
       "  '6': 1,\n",
       "  '13': 1.0,\n",
       "  '11': 1.0,\n",
       "  '7': 0.7666666666666667,\n",
       "  '9': 0.9831932773109243,\n",
       "  '8': 1.0,\n",
       "  '12': 0.4512471655328798,\n",
       "  '16': 1,\n",
       "  '14': 1.0,\n",
       "  '10': 1.0,\n",
       "  '0': 1,\n",
       "  '1': 1.0})"
      ]
     },
     "execution_count": 759,
     "metadata": {},
     "output_type": "execute_result"
    }
   ],
   "source": [
    "Refclust=ad.obs[\"leiden_scvi\"][nS:]\n",
    "Sclust=ad.obs[\"leiden_scvi\"][:nS]\n",
    "\n",
    "Clusts=ad.obs[\"leiden_scvi\"].unique()\n",
    "HH={}\n",
    "\n",
    "CellT={}\n",
    "CellP={}\n",
    "\n",
    "r4i=ref4.index[ind2[0]]\n",
    "rhoS=rho0[:, ind2[0]]\n",
    "\n",
    "for cl in Clusts:\n",
    "    obs=np.where(Sclust==cl)[0]\n",
    "\n",
    "    ii=np.where(Refclust==cl)[0]\n",
    "#    ii=np.where(Refclust!=\"\")[0]\n",
    "\n",
    "    rfs=r4i[ii]\n",
    "\n",
    "    wh=rfs.unique()\n",
    "\n",
    "    k=0\n",
    "    rhos=np.empty(shape=(len(wh),len(obs)))\n",
    "    for i in wh:\n",
    "        iii=np.where(rfs==i)[0]\n",
    "#        plt.hist(rho[obs[:,None],ii[iii][None,:]].flatten(), bins=50, label=i)\n",
    " #       rho[obs[:,None],ii[iii][None,:]]\n",
    "        rhos[k,:]=rhoS[obs[:,None],ii[iii][None,:]].max(axis=1)#\n",
    "        k=k+1\n",
    "\n",
    "\n",
    "#    plt.legend()\n",
    " #   rhos.argmax(axis=0)\n",
    "    if len(wh)>0 and len(obs)>0:\n",
    "        print(\"Cluster\", cl)\n",
    "        from collections import Counter\n",
    "        CT=wh[list(Counter(rhos.argmax(axis=0)).keys())]\n",
    "        Ws=np.array(list(Counter(rhos.argmax(axis=0)).values()))\n",
    "        Prs=Ws/Ws.sum()\n",
    "        Sumr=pd.DataFrame(list(zip(CT,Ws,Prs)),columns=[\"CellType\", \"Count\", \"Prob\" ])\n",
    "        CellT[cl]=CT[Prs.argmax()]\n",
    "        CellP[cl]=Prs.max()\n",
    "        print(Sumr)\n",
    "    else:\n",
    "        Sumr=0\n",
    "        CellT[cl]=\"Unknown\"+str(cl)\n",
    "        CellP[cl]=1\n",
    "\n",
    "    HH[cl]=Sumr\n",
    "\n",
    "CellT, CellP\n"
   ]
  },
  {
   "cell_type": "code",
   "execution_count": 760,
   "metadata": {},
   "outputs": [
    {
     "data": {
      "text/plain": [
       "<matplotlib.legend.Legend at 0x7ef774301590>"
      ]
     },
     "execution_count": 760,
     "metadata": {},
     "output_type": "execute_result"
    },
    {
     "data": {
      "image/png": "[encoded data removed]",
      "text/plain": [
       "<Figure size 432x288 with 1 Axes>"
      ]
     },
     "metadata": {
      "needs_background": "light"
     },
     "output_type": "display_data"
    }
   ],
   "source": [
    "Refclust=ad.obs[\"leiden_scvi\"][nS:]\n",
    "Sclust=ad.obs[\"leiden_scvi\"][:nS]\n",
    "\n",
    "Clusts=ad.obs[\"leiden_scvi\"].unique()\n",
    "\n",
    "\n",
    "cl='2'\n",
    "obs=np.where(Sclust==cl)[0]\n",
    "\n",
    "ii=np.where(Refclust==cl)[0]\n",
    "rfs=ref4.index[ii]\n",
    "\n",
    "wh=rfs.unique()\n",
    "#print(obs)\n",
    "\n",
    "k=0\n",
    "rhos=np.empty(shape=(len(wh),len(obs)))\n",
    "for i in wh:\n",
    "    iii=np.where(rfs==i)[0]\n",
    "    plt.hist(rho[obs[:,None],ii[iii][None,:]].flatten(), bins=50, label=i)\n",
    "    k=k+1\n",
    "        \n",
    "plt.legend()\n"
   ]
  },
  {
   "cell_type": "code",
   "execution_count": 761,
   "metadata": {
    "scrolled": false
   },
   "outputs": [
    {
     "name": "stderr",
     "output_type": "stream",
     "text": [
      "... storing 'CellTypes' as categorical\n"
     ]
    },
    {
     "name": "stdout",
     "output_type": "stream",
     "text": [
      "WARNING: saving figure to file figures/umapresultres1.5.pdf\n"
     ]
    },
    {
     "data": {
      "image/png": "[encoded data removed]",
      "text/plain": [
       "<Figure size 432x288 with 1 Axes>"
      ]
     },
     "metadata": {},
     "output_type": "display_data"
    }
   ],
   "source": [
    "Tlab=ad.obs[\"leiden_scvi\"]\n",
    "Labs=Tlab.to_list()\n",
    "for i in range(len(Tlab)):\n",
    "    Labs[i]=CellT[Tlab[i]]+\"  pr=\"+str(CellP[Tlab[i]])\n",
    "ad.obs[\"CellTypes\"]=Labs\n",
    "\n",
    "sc.pl.umap(ad, color=[\"CellTypes\"], save=\"resultres1.5\")"
   ]
  },
  {
   "cell_type": "code",
   "execution_count": 690,
   "metadata": {},
   "outputs": [],
   "source": [
    "!export R_HOME=/home/olesy12/R-3.6.1/bin/R\n",
    "\n",
    "import rpy2\n",
    "\n",
    "import warnings\n",
    "from rpy2 import robjects \n",
    "\n",
    "\n",
    "%reload_ext rpy2.ipython"
   ]
  },
  {
   "cell_type": "code",
   "execution_count": 694,
   "metadata": {},
   "outputs": [],
   "source": [
    "Sclust=ad.obs[\"leiden_scvi\"][:nS]\n",
    "ccData0=fullData2.iloc[:nS,:].to_numpy()\n",
    "refData0=fullData2.iloc[nS:,:].to_numpy()\n",
    "genes=fullData.columns.to_list()"
   ]
  },
  {
   "cell_type": "code",
   "execution_count": 696,
   "metadata": {},
   "outputs": [
    {
     "data": {
      "text/plain": [
       "(12096, 6395)"
      ]
     },
     "execution_count": 696,
     "metadata": {},
     "output_type": "execute_result"
    }
   ],
   "source": [
    "ccData0.shape"
   ]
  },
  {
   "cell_type": "code",
   "execution_count": 713,
   "metadata": {
    "scrolled": true
   },
   "outputs": [
    {
     "name": "stdout",
     "output_type": "stream",
     "text": [
      "     predicted\n",
      "truth Adipocytes B cells Dendritic cells Endothelial cells Epithelial cells\n",
      "   0           0    1612               0                 2                0\n",
      "   1           0    1365               0                 0                0\n",
      "   2           0      41              22                 7                0\n",
      "   3           0       0               0                 0                0\n",
      "   4           0     574               0                 1                0\n",
      "   5           0     125               0                 5                0\n",
      "   6           3       0               0                24              215\n",
      "   7           0     173               0                 0                0\n",
      "   8           0       0               0                 0                0\n",
      "   9           0       0               0                 0                0\n",
      "   10          0     293               1                 0                0\n",
      "   11          0       0               0               298                0\n",
      "   12          0     174               3                 0                0\n",
      "   13          0      15               1                79                0\n",
      "   14          0      26               0                 0                0\n",
      "   15          0       0               0                 4                3\n",
      "   16          0       4               1                 0                0\n",
      "     predicted\n",
      "truth Erythrocytes Fibroblasts Granulocytes Hepatocytes Macrophages Monocytes\n",
      "   0             0           0            3           0           0         1\n",
      "   1             0           0            0           0           0         0\n",
      "   2             0           8           21           0         602       561\n",
      "   3             0         971            0           0           0         0\n",
      "   4             0           0            1           0           0         1\n",
      "   5            68           1            1           0           5       104\n",
      "   6            10         260            0         229           4         0\n",
      "   7            10           0            0           0           0         3\n",
      "   8             0           0          612           0           0         0\n",
      "   9             4           0          591           0           0         0\n",
      "   10            2           0            2           0           0       258\n",
      "   11            0         175           77           0           1         2\n",
      "   12           68           0          159           0           0        16\n",
      "   13            0         235            0           0           3         0\n",
      "   14          265           0            0           0           0         0\n",
      "   15            0           4            5           0          33         2\n",
      "   16            0           0          164           0           0         0\n",
      "     predicted\n",
      "truth Neurons NK cells T cells\n",
      "   0        0        0       7\n",
      "   1        0        3       4\n",
      "   2        0       18       0\n",
      "   3        0        0       0\n",
      "   4        0       39     318\n",
      "   5        0      345     200\n",
      "   6       18        0       5\n",
      "   7        0      218     226\n",
      "   8        0        0       0\n",
      "   9        0        0       0\n",
      "   10       0       34       2\n",
      "   11       0        0       0\n",
      "   12       0       17       4\n",
      "   13       1       11       6\n",
      "   14       0        6       0\n",
      "   15       0        0       0\n",
      "   16       0        1       0\n",
      " [1] \"B cells\"           \"B cells\"           \"Monocytes\"        \n",
      " [4] \"Fibroblasts\"       \"B cells\"           \"NK cells\"         \n",
      " [7] \"Hepatocytes\"       \"T cells\"           \"Granulocytes\"     \n",
      "[10] \"Granulocytes\"      \"Monocytes\"         \"Endothelial cells\"\n",
      "[13] \"B cells\"           \"Fibroblasts\"       \"Erythrocytes\"     \n",
      "[16] \"Macrophages\"       NA                 \n",
      " [1] \"B cells\"           \"B cells\"           \"Monocytes\"        \n",
      " [4] \"Fibroblasts\"       \"B cells\"           \"NK cells\"         \n",
      " [7] \"Hepatocytes\"       \"T cells\"           \"Granulocytes\"     \n",
      "[10] \"Granulocytes\"      \"Monocytes\"         \"Endothelial cells\"\n",
      "[13] \"Granulocytes\"      \"Fibroblasts\"       \"Erythrocytes\"     \n",
      "[16] \"Macrophages\"       \"Granulocytes\"     \n"
     ]
    }
   ],
   "source": [
    "%%R -i Sclust,ccData0,refData0,RefLabels,genes\n",
    "\n",
    "library(SingleR)\n",
    "\n",
    "ccData=t(as.matrix(ccData0))\n",
    "refData=t(as.matrix(refData0))\n",
    "rownames(ccData)=genes\n",
    "rownames(refData)=genes\n",
    "\n",
    "ccData1= SummarizedExperiment(list(counts=ccData))\n",
    "ccData1=scater::logNormCounts(ccData1)\n",
    "\n",
    "pred=SingleR(ccData1, refData, labels=RefLabels)      \n",
    "print(table(truth=Sclust, predicted=pred$labels))\n",
    "\n",
    "refData1= SummarizedExperiment(list(counts=refData))\n",
    "refData1=scater::logNormCounts(refData1)\n",
    "\n",
    "#pred=SingleR(ccData1, refData1, labels=RefLabels)      \n",
    "#print(table(truth=TrueLabels, predicted=pred$labels))\n",
    "\n",
    "\n",
    "pred=SingleR(ccData1, refData, labels=RefLabels, method=\"cluster\", clusters=Sclust)      \n",
    "print(pred$pruned.labels)\n",
    "\n",
    "pred=SingleR(ccData1, refData1, labels=RefLabels, method=\"cluster\", clusters=Sclust)      \n",
    "print(pred$pruned.labels)\n"
   ]
  },
  {
   "cell_type": "code",
   "execution_count": 728,
   "metadata": {},
   "outputs": [],
   "source": [
    "ssData5=np.log(fullData2.iloc[:nS,:].copy())\n",
    "ssAgg=pd.DataFrame(ssData5)\n",
    "ssAgg[\"Group\"]=Sclust.astype(int).to_list()\n",
    "ssAgg1=ssAgg.groupby(\"Group\").mean()\n",
    "\n",
    "rho5=corr_spear(ssAgg1.to_numpy(), ref3.to_numpy()[ind2[0],:])\n",
    "#ssAgg1\n"
   ]
  },
  {
   "cell_type": "code",
   "execution_count": 737,
   "metadata": {},
   "outputs": [
    {
     "data": {
      "text/plain": [
       "array([[-15.482491, -15.334088, -15.575679, ..., -13.983402, -13.983402,\n",
       "        -13.983402],\n",
       "       [-11.492906, -10.949169, -14.408293, ..., -14.605497, -14.605497,\n",
       "        -14.605497],\n",
       "       [-11.446726, -11.606173, -13.189626, ...,  -9.226257,  -9.226257,\n",
       "         -9.226257],\n",
       "       ...,\n",
       "       [-11.713281, -11.098248, -14.545986, ..., -14.32293 , -14.32293 ,\n",
       "        -14.32293 ],\n",
       "       [-13.178647, -13.236297, -15.402223, ..., -17.70426 , -17.70426 ,\n",
       "        -17.70426 ],\n",
       "       [-11.354038, -11.015132, -14.47626 , ..., -16.838898, -16.838898,\n",
       "        -16.838898]], dtype=float32)"
      ]
     },
     "execution_count": 737,
     "metadata": {},
     "output_type": "execute_result"
    }
   ],
   "source": [
    "ssData5=Xpred1[:nS,:].copy()\n",
    "ssAgg=pd.DataFrame(ssData5)\n",
    "ssAgg[\"Group\"]=Sclust.to_list()\n",
    "ssAgg1=ssAgg.groupby(\"Group\").mean()\n",
    "\n",
    "rho5=-euclidean_distances(ssAgg1.to_numpy(), Xpred1[nS:,:])\n",
    "rho5"
   ]
  },
  {
   "cell_type": "code",
   "execution_count": 763,
   "metadata": {
    "scrolled": true
   },
   "outputs": [
    {
     "data": {
      "text/plain": [
       "<matplotlib.legend.Legend at 0x7ef773ae0b90>"
      ]
     },
     "execution_count": 763,
     "metadata": {},
     "output_type": "execute_result"
    },
    {
     "data": {
      "image/png": "[encoded data removed]",
      "text/plain": [
       "<Figure size 1080x1080 with 1 Axes>"
      ]
     },
     "metadata": {
      "needs_background": "light"
     },
     "output_type": "display_data"
    }
   ],
   "source": [
    "import matplotlib.pyplot as plt\n",
    "\n",
    "obs= 2\n",
    "\n",
    "rfs=ref4.index[ind2]\n",
    "\n",
    "wh=rfs.unique()\n",
    "\n",
    "k=0\n",
    "plt.figure(figsize=[15,15])\n",
    "for i in wh:\n",
    "    iii=np.where(rfs==i)[0]\n",
    "    plt.hist(rho5[obs,iii[None,:]].flatten(), label=i, bins=50)\n",
    "    k=k+1\n",
    "    \n",
    "    \n",
    "plt.legend()"
   ]
  },
  {
   "cell_type": "code",
   "execution_count": 316,
   "metadata": {},
   "outputs": [],
   "source": [
    "Tlab=ad.obs[\"leiden_scvi\"]\n",
    "Labs=Tlab.to_list()\n",
    "for i in range(len(Tlab)):\n",
    "    Labs[i]=CellT[Tlab[i]]\n",
    "ssData1[\"CellType\"]=Labs[:ssData1.shape[0]]"
   ]
  },
  {
   "cell_type": "code",
   "execution_count": 900,
   "metadata": {},
   "outputs": [],
   "source": [
    "ssData1.to_csv(\"/data/sharedData/CIA_project/DGE_data/sorted_DGEs/fromOleg.csv\")"
   ]
  },
  {
   "cell_type": "code",
   "execution_count": 675,
   "metadata": {},
   "outputs": [],
   "source": [
    "Tlab=ad.obs[\"leiden_scvi\"]\n",
    "Labs=Tlab.to_list()\n",
    "for i in range(len(Tlab)):\n",
    "    Labs[i]=CellT[Tlab[i]]\n",
    "ssData1[\"CellType\"]=Labs[:ssData1.shape[0]]\n",
    "\n",
    "Labs1=Labs.copy()\n",
    "\n",
    "for i in range(len(Tlab)):\n",
    "    Labs1[i]=CellT[Tlab[i]]\n",
    "    if Labs1[i]==\"Unknown0\":\n",
    "        Labs1[i]=\"T cell\"\n",
    "    if Labs1[i]==\"Unknown16\":\n",
    "        Labs1[i]=\"Granulocytes\"\n",
    "\n",
    "ssData1[\"CellTypeGuessed\"]=Labs1[:ssData1.shape[0]]\n"
   ]
  },
  {
   "cell_type": "code",
   "execution_count": 689,
   "metadata": {},
   "outputs": [],
   "source": [
    "ssData1.to_csv(\"/data/sharedData/CIA_project/DGE_data/sorted_DGEs/fromOleg_06_29.csv\")"
   ]
  },
  {
   "cell_type": "code",
   "execution_count": 762,
   "metadata": {},
   "outputs": [
    {
     "data": {
      "text/plain": [
       "(array([], dtype=int64),)"
      ]
     },
     "execution_count": 762,
     "metadata": {},
     "output_type": "execute_result"
    }
   ],
   "source": [
    "np.where(np.array(Labs)==\"Unknown0\")\n"
   ]
  },
  {
   "cell_type": "code",
   "execution_count": 687,
   "metadata": {
    "scrolled": true
   },
   "outputs": [
    {
     "ename": "ValueError",
     "evalue": "Length of values does not match length of index",
     "output_type": "error",
     "traceback": [
      "\u001b[0;31m---------------------------------------------------------------------------\u001b[0m",
      "\u001b[0;31mValueError\u001b[0m                                Traceback (most recent call last)",
      "\u001b[0;32m<ipython-input-687-0355f90604ea>\u001b[0m in \u001b[0;36m<module>\u001b[0;34m\u001b[0m\n\u001b[1;32m      2\u001b[0m \u001b[0mAltLab\u001b[0m\u001b[0;34m=\u001b[0m\u001b[0mrho4\u001b[0m\u001b[0;34m.\u001b[0m\u001b[0margmax\u001b[0m\u001b[0;34m(\u001b[0m\u001b[0maxis\u001b[0m\u001b[0;34m=\u001b[0m\u001b[0;36m1\u001b[0m\u001b[0;34m)\u001b[0m\u001b[0;34m\u001b[0m\u001b[0;34m\u001b[0m\u001b[0m\n\u001b[1;32m      3\u001b[0m \u001b[0;34m\u001b[0m\u001b[0m\n\u001b[0;32m----> 4\u001b[0;31m \u001b[0mad\u001b[0m\u001b[0;34m.\u001b[0m\u001b[0mobs\u001b[0m\u001b[0;34m[\u001b[0m\u001b[0;34m\"CellTypesA\"\u001b[0m\u001b[0;34m]\u001b[0m\u001b[0;34m=\u001b[0m\u001b[0mnp\u001b[0m\u001b[0;34m.\u001b[0m\u001b[0marray\u001b[0m\u001b[0;34m(\u001b[0m\u001b[0mRefLabels\u001b[0m\u001b[0;34m)\u001b[0m\u001b[0;34m[\u001b[0m\u001b[0mAltLab\u001b[0m\u001b[0;34m.\u001b[0m\u001b[0mtolist\u001b[0m\u001b[0;34m(\u001b[0m\u001b[0;34m)\u001b[0m\u001b[0;34m]\u001b[0m\u001b[0;34m.\u001b[0m\u001b[0mtolist\u001b[0m\u001b[0;34m(\u001b[0m\u001b[0;34m)\u001b[0m\u001b[0;34m+\u001b[0m\u001b[0;34m[\u001b[0m\u001b[0;34m'REFERENCE'\u001b[0m\u001b[0;34m]\u001b[0m\u001b[0;34m*\u001b[0m\u001b[0mnR\u001b[0m\u001b[0;34m\u001b[0m\u001b[0;34m\u001b[0m\u001b[0m\n\u001b[0m\u001b[1;32m      5\u001b[0m \u001b[0;34m\u001b[0m\u001b[0m\n\u001b[1;32m      6\u001b[0m \u001b[0msc\u001b[0m\u001b[0;34m.\u001b[0m\u001b[0mpl\u001b[0m\u001b[0;34m.\u001b[0m\u001b[0mumap\u001b[0m\u001b[0;34m(\u001b[0m\u001b[0mad\u001b[0m\u001b[0;34m,\u001b[0m \u001b[0mcolor\u001b[0m\u001b[0;34m=\u001b[0m\u001b[0;34m[\u001b[0m\u001b[0;34m\"CellTypesA\"\u001b[0m\u001b[0;34m]\u001b[0m\u001b[0;34m,\u001b[0m \u001b[0msave\u001b[0m\u001b[0;34m=\u001b[0m\u001b[0;34m\"resultalt\"\u001b[0m\u001b[0;34m)\u001b[0m\u001b[0;34m\u001b[0m\u001b[0;34m\u001b[0m\u001b[0m\n",
      "\u001b[0;32m/opt/anaconda/3/2019.10/lib/python3.7/site-packages/pandas/core/frame.py\u001b[0m in \u001b[0;36m__setitem__\u001b[0;34m(self, key, value)\u001b[0m\n\u001b[1;32m   3470\u001b[0m         \u001b[0;32melse\u001b[0m\u001b[0;34m:\u001b[0m\u001b[0;34m\u001b[0m\u001b[0;34m\u001b[0m\u001b[0m\n\u001b[1;32m   3471\u001b[0m             \u001b[0;31m# set column\u001b[0m\u001b[0;34m\u001b[0m\u001b[0;34m\u001b[0m\u001b[0;34m\u001b[0m\u001b[0m\n\u001b[0;32m-> 3472\u001b[0;31m             \u001b[0mself\u001b[0m\u001b[0;34m.\u001b[0m\u001b[0m_set_item\u001b[0m\u001b[0;34m(\u001b[0m\u001b[0mkey\u001b[0m\u001b[0;34m,\u001b[0m \u001b[0mvalue\u001b[0m\u001b[0;34m)\u001b[0m\u001b[0;34m\u001b[0m\u001b[0;34m\u001b[0m\u001b[0m\n\u001b[0m\u001b[1;32m   3473\u001b[0m \u001b[0;34m\u001b[0m\u001b[0m\n\u001b[1;32m   3474\u001b[0m     \u001b[0;32mdef\u001b[0m \u001b[0m_setitem_slice\u001b[0m\u001b[0;34m(\u001b[0m\u001b[0mself\u001b[0m\u001b[0;34m,\u001b[0m \u001b[0mkey\u001b[0m\u001b[0;34m,\u001b[0m \u001b[0mvalue\u001b[0m\u001b[0;34m)\u001b[0m\u001b[0;34m:\u001b[0m\u001b[0;34m\u001b[0m\u001b[0;34m\u001b[0m\u001b[0m\n",
      "\u001b[0;32m/opt/anaconda/3/2019.10/lib/python3.7/site-packages/pandas/core/frame.py\u001b[0m in \u001b[0;36m_set_item\u001b[0;34m(self, key, value)\u001b[0m\n\u001b[1;32m   3547\u001b[0m \u001b[0;34m\u001b[0m\u001b[0m\n\u001b[1;32m   3548\u001b[0m         \u001b[0mself\u001b[0m\u001b[0;34m.\u001b[0m\u001b[0m_ensure_valid_index\u001b[0m\u001b[0;34m(\u001b[0m\u001b[0mvalue\u001b[0m\u001b[0;34m)\u001b[0m\u001b[0;34m\u001b[0m\u001b[0;34m\u001b[0m\u001b[0m\n\u001b[0;32m-> 3549\u001b[0;31m         \u001b[0mvalue\u001b[0m \u001b[0;34m=\u001b[0m \u001b[0mself\u001b[0m\u001b[0;34m.\u001b[0m\u001b[0m_sanitize_column\u001b[0m\u001b[0;34m(\u001b[0m\u001b[0mkey\u001b[0m\u001b[0;34m,\u001b[0m \u001b[0mvalue\u001b[0m\u001b[0;34m)\u001b[0m\u001b[0;34m\u001b[0m\u001b[0;34m\u001b[0m\u001b[0m\n\u001b[0m\u001b[1;32m   3550\u001b[0m         \u001b[0mNDFrame\u001b[0m\u001b[0;34m.\u001b[0m\u001b[0m_set_item\u001b[0m\u001b[0;34m(\u001b[0m\u001b[0mself\u001b[0m\u001b[0;34m,\u001b[0m \u001b[0mkey\u001b[0m\u001b[0;34m,\u001b[0m \u001b[0mvalue\u001b[0m\u001b[0;34m)\u001b[0m\u001b[0;34m\u001b[0m\u001b[0;34m\u001b[0m\u001b[0m\n\u001b[1;32m   3551\u001b[0m \u001b[0;34m\u001b[0m\u001b[0m\n",
      "\u001b[0;32m/opt/anaconda/3/2019.10/lib/python3.7/site-packages/pandas/core/frame.py\u001b[0m in \u001b[0;36m_sanitize_column\u001b[0;34m(self, key, value, broadcast)\u001b[0m\n\u001b[1;32m   3732\u001b[0m \u001b[0;34m\u001b[0m\u001b[0m\n\u001b[1;32m   3733\u001b[0m             \u001b[0;31m# turn me into an ndarray\u001b[0m\u001b[0;34m\u001b[0m\u001b[0;34m\u001b[0m\u001b[0;34m\u001b[0m\u001b[0m\n\u001b[0;32m-> 3734\u001b[0;31m             \u001b[0mvalue\u001b[0m \u001b[0;34m=\u001b[0m \u001b[0msanitize_index\u001b[0m\u001b[0;34m(\u001b[0m\u001b[0mvalue\u001b[0m\u001b[0;34m,\u001b[0m \u001b[0mself\u001b[0m\u001b[0;34m.\u001b[0m\u001b[0mindex\u001b[0m\u001b[0;34m,\u001b[0m \u001b[0mcopy\u001b[0m\u001b[0;34m=\u001b[0m\u001b[0;32mFalse\u001b[0m\u001b[0;34m)\u001b[0m\u001b[0;34m\u001b[0m\u001b[0;34m\u001b[0m\u001b[0m\n\u001b[0m\u001b[1;32m   3735\u001b[0m             \u001b[0;32mif\u001b[0m \u001b[0;32mnot\u001b[0m \u001b[0misinstance\u001b[0m\u001b[0;34m(\u001b[0m\u001b[0mvalue\u001b[0m\u001b[0;34m,\u001b[0m \u001b[0;34m(\u001b[0m\u001b[0mnp\u001b[0m\u001b[0;34m.\u001b[0m\u001b[0mndarray\u001b[0m\u001b[0;34m,\u001b[0m \u001b[0mIndex\u001b[0m\u001b[0;34m)\u001b[0m\u001b[0;34m)\u001b[0m\u001b[0;34m:\u001b[0m\u001b[0;34m\u001b[0m\u001b[0;34m\u001b[0m\u001b[0m\n\u001b[1;32m   3736\u001b[0m                 \u001b[0;32mif\u001b[0m \u001b[0misinstance\u001b[0m\u001b[0;34m(\u001b[0m\u001b[0mvalue\u001b[0m\u001b[0;34m,\u001b[0m \u001b[0mlist\u001b[0m\u001b[0;34m)\u001b[0m \u001b[0;32mand\u001b[0m \u001b[0mlen\u001b[0m\u001b[0;34m(\u001b[0m\u001b[0mvalue\u001b[0m\u001b[0;34m)\u001b[0m \u001b[0;34m>\u001b[0m \u001b[0;36m0\u001b[0m\u001b[0;34m:\u001b[0m\u001b[0;34m\u001b[0m\u001b[0;34m\u001b[0m\u001b[0m\n",
      "\u001b[0;32m/opt/anaconda/3/2019.10/lib/python3.7/site-packages/pandas/core/internals/construction.py\u001b[0m in \u001b[0;36msanitize_index\u001b[0;34m(data, index, copy)\u001b[0m\n\u001b[1;32m    610\u001b[0m \u001b[0;34m\u001b[0m\u001b[0m\n\u001b[1;32m    611\u001b[0m     \u001b[0;32mif\u001b[0m \u001b[0mlen\u001b[0m\u001b[0;34m(\u001b[0m\u001b[0mdata\u001b[0m\u001b[0;34m)\u001b[0m \u001b[0;34m!=\u001b[0m \u001b[0mlen\u001b[0m\u001b[0;34m(\u001b[0m\u001b[0mindex\u001b[0m\u001b[0;34m)\u001b[0m\u001b[0;34m:\u001b[0m\u001b[0;34m\u001b[0m\u001b[0;34m\u001b[0m\u001b[0m\n\u001b[0;32m--> 612\u001b[0;31m         \u001b[0;32mraise\u001b[0m \u001b[0mValueError\u001b[0m\u001b[0;34m(\u001b[0m\u001b[0;34m\"Length of values does not match length of index\"\u001b[0m\u001b[0;34m)\u001b[0m\u001b[0;34m\u001b[0m\u001b[0;34m\u001b[0m\u001b[0m\n\u001b[0m\u001b[1;32m    613\u001b[0m \u001b[0;34m\u001b[0m\u001b[0m\n\u001b[1;32m    614\u001b[0m     \u001b[0;32mif\u001b[0m \u001b[0misinstance\u001b[0m\u001b[0;34m(\u001b[0m\u001b[0mdata\u001b[0m\u001b[0;34m,\u001b[0m \u001b[0mABCIndexClass\u001b[0m\u001b[0;34m)\u001b[0m \u001b[0;32mand\u001b[0m \u001b[0;32mnot\u001b[0m \u001b[0mcopy\u001b[0m\u001b[0;34m:\u001b[0m\u001b[0;34m\u001b[0m\u001b[0;34m\u001b[0m\u001b[0m\n",
      "\u001b[0;31mValueError\u001b[0m: Length of values does not match length of index"
     ]
    }
   ],
   "source": [
    "#alternative 2: labeling every point\n",
    "AltLab=rho4.argmax(axis=1)\n",
    "\n",
    "ad.obs[\"CellTypesA\"]=np.array(RefLabels)[AltLab.tolist()].tolist()+['REFERENCE']*nR\n",
    "\n",
    "sc.pl.umap(ad, color=[\"CellTypesA\"], save=\"resultalt\")"
   ]
  },
  {
   "cell_type": "code",
   "execution_count": null,
   "metadata": {},
   "outputs": [],
   "source": []
  },
  {
   "cell_type": "code",
   "execution_count": 502,
   "metadata": {},
   "outputs": [
    {
     "data": {
      "text/plain": [
       "Index(['Adipocytes', 'Neurons', 'Astrocytes', 'Endothelial cells',\n",
       "       'Erythrocytes', 'Fibroblasts', 'Granulocytes', 'Macrophages',\n",
       "       'Microglia', 'Monocytes', 'NK cells', 'Oligodendrocytes', 'T cells',\n",
       "       'Dendritic cells', 'Cardiomyocytes', 'Hepatocytes', 'B cells',\n",
       "       'Epithelial cells'],\n",
       "      dtype='object', name='MainCellType')"
      ]
     },
     "execution_count": 502,
     "metadata": {},
     "output_type": "execute_result"
    }
   ],
   "source": [
    "np.column_stack((Refclust,ref4.index))\n",
    "ref.index.unique()"
   ]
  },
  {
   "cell_type": "code",
   "execution_count": 503,
   "metadata": {},
   "outputs": [
    {
     "name": "stdout",
     "output_type": "stream",
     "text": [
      "1\n",
      "B cells              5\n",
      "Dendritic cells      1\n",
      "NK cells             3\n",
      "Neurons              6\n",
      "Oligodendrocytes     1\n",
      "T cells             18\n",
      "dtype: int64\n",
      "1\n",
      "Granulocytes    9\n",
      "dtype: int64\n",
      "1\n",
      "Dendritic cells     1\n",
      "Granulocytes        1\n",
      "Macrophages        26\n",
      "Microglia          24\n",
      "Monocytes           5\n",
      "Neurons             4\n",
      "dtype: int64\n",
      "1\n",
      "Adipocytes           13\n",
      "Astrocytes           10\n",
      "Cardiomyocytes        8\n",
      "Endothelial cells    12\n",
      "Epithelial cells      2\n",
      "Fibroblasts          45\n",
      "Hepatocytes           4\n",
      "Macrophages           3\n",
      "Microglia             1\n",
      "Neurons              28\n",
      "Oligodendrocytes     11\n",
      "dtype: int64\n",
      "1\n",
      "Granulocytes    5\n",
      "Macrophages     3\n",
      "Monocytes       1\n",
      "dtype: int64\n",
      "1\n",
      "Erythrocytes    3\n",
      "dtype: int64\n",
      "1\n",
      "Astrocytes    17\n",
      "Microglia     47\n",
      "Neurons       26\n",
      "dtype: int64\n",
      "1\n",
      "NK cells    15\n",
      "dtype: int64\n"
     ]
    }
   ],
   "source": [
    "for name, grp in gr:\n",
    "    print(grp.groupby(1).size())"
   ]
  },
  {
   "cell_type": "code",
   "execution_count": 476,
   "metadata": {
    "scrolled": true
   },
   "outputs": [
    {
     "name": "stderr",
     "output_type": "stream",
     "text": [
      "/opt/anaconda/3/2019.10/lib/python3.7/site-packages/ipykernel_launcher.py:1: FutureWarning: Interpreting tuple 'by' as a list of keys, rather than a single key. Use 'by=[...]' instead of 'by=(...)'. In the future, a tuple will always mean a single key.\n",
      "  \"\"\"Entry point for launching an IPython kernel.\n"
     ]
    },
    {
     "data": {
      "text/plain": [
       "Orig  Pred        \n",
       "0     T cells         3938\n",
       "1     Unknown_cell    2033\n",
       "2     Macrophages     1820\n",
       "3     Fibroblasts     1516\n",
       "4     Granulocytes    1544\n",
       "5     Unknown_cell     971\n",
       "6     Erythrocytes     217\n",
       "7     Microglia          3\n",
       "8     Unknown_cell      53\n",
       "9     NK cells           1\n",
       "dtype: int64"
      ]
     },
     "execution_count": 476,
     "metadata": {},
     "output_type": "execute_result"
    }
   ],
   "source": [
    "pd.DataFrame({'Orig': Sclust, 'Pred': SSlabels}).groupby(('Orig', 'Pred')).size()"
   ]
  },
  {
   "cell_type": "code",
   "execution_count": 478,
   "metadata": {},
   "outputs": [
    {
     "name": "stderr",
     "output_type": "stream",
     "text": [
      "/opt/anaconda/3/2019.10/lib/python3.7/site-packages/numba/compiler.py:602: NumbaPerformanceWarning: \u001b[1m\n",
      "The keyword argument 'parallel=True' was specified but no transformation for parallel execution was possible.\n",
      "\n",
      "To find out why, try turning on parallel diagnostics, see http://numba.pydata.org/numba-doc/latest/user/parallel.html#diagnostics for help.\n",
      "\u001b[1m\n",
      "File \"../../../../home/olesy12/.local/lib/python3.7/site-packages/umap/nndescent.py\", line 47:\u001b[0m\n",
      "\u001b[1m    @numba.njit(parallel=True)\n",
      "\u001b[1m    def nn_descent(\n",
      "\u001b[0m    \u001b[1m^\u001b[0m\u001b[0m\n",
      "\u001b[0m\n",
      "  self.func_ir.loc))\n",
      "... storing 'Group' as categorical\n"
     ]
    },
    {
     "name": "stdout",
     "output_type": "stream",
     "text": [
      "WARNING: saving figure to file figures/umapresults.pdf\n"
     ]
    },
    {
     "data": {
      "image/png": "[encoded data removed]",
      "text/plain": [
       "<Figure size 432x288 with 1 Axes>"
      ]
     },
     "metadata": {},
     "output_type": "display_data"
    }
   ],
   "source": [
    "ad=sc.AnnData(Xpred1[:nS,:])\n",
    "ad.obs['Group']=SSlabels\n",
    "#sc.pp.pca(ad)\n",
    "sc.pp.neighbors(ad, n_neighbors=10)\n",
    "sc.tl.umap(ad, min_dist=0.1)\n",
    "sc.pl.umap(ad, color='Group', save=\"results\")\n"
   ]
  },
  {
   "cell_type": "code",
   "execution_count": 138,
   "metadata": {},
   "outputs": [
    {
     "data": {
      "text/plain": [
       "<matplotlib.legend.Legend at 0x7f3774c09650>"
      ]
     },
     "execution_count": 138,
     "metadata": {},
     "output_type": "execute_result"
    },
    {
     "data": {
      "image/png": "[encoded data removed]",
      "text/plain": [
       "<Figure size 432x288 with 1 Axes>"
      ]
     },
     "metadata": {
      "needs_background": "light"
     },
     "output_type": "display_data"
    }
   ],
   "source": [
    "\n",
    "#W=0 #B-cell\n",
    "W=7 #CD8\n",
    "#W=31 #Monocyte\n",
    "#W=55 #NK CELL\n",
    "#W=60 #CD4 CELL #Problem is less\n",
    "#W=\n",
    "import matplotlib.pyplot as plt\n",
    "plt.hist(rho7[:100, W], bins=50, label=Groups[0])\n",
    "plt.hist(rho7[100:200, W], bins=50, label=Groups[1])\n",
    "plt.hist(rho7[200:300, W], bins=50, label=Groups[2])\n",
    "plt.hist(rho7[300:400, W], bins=50, label=Groups[3])\n",
    "plt.hist(rho7[400:500, W], bins=50, label=Groups[4])\n",
    "plt.legend()"
   ]
  },
  {
   "cell_type": "code",
   "execution_count": 313,
   "metadata": {},
   "outputs": [],
   "source": [
    "#trying to move bootstrap through autoencoder\n",
    "\n",
    "refData2=ref4n.to_numpy()\n",
    "scData2=bootDen\n",
    "\n",
    "full=sc.AnnData(np.round(np.concatenate((scData2, refData2))))\n",
    "# WORKS BOTH WITH AND WITHOUT ROUNDING- BUT WRONG FINAL CLASSIFICATION RESULTS WITHOUT ROUNDING\n",
    "\n",
    "full1=normalize(full, filter_min_counts=False)\n",
    "full.obs.size_factors=[1]*full.obs.size_factors.size\n",
    "Xpred3=enc.predict({'count': full1.X, 'size_factors':full1.obs.size_factors })"
   ]
  },
  {
   "cell_type": "code",
   "execution_count": 314,
   "metadata": {},
   "outputs": [
    {
     "data": {
      "text/plain": [
       "(500, 153)"
      ]
     },
     "execution_count": 314,
     "metadata": {},
     "output_type": "execute_result"
    }
   ],
   "source": [
    "from sklearn.metrics.pairwise import euclidean_distances\n",
    "rho8=corr2_coeff(Xpred3[:500,:], Xpred3[500:,:])\n",
    "#rho8=corr2_coeff(np.round(scData2), np.round(refData2))\n",
    "\n",
    "#rho8=-euclidean_distances(Xpred3[:500,:], Xpred3[500:,:])\n",
    "rho8.shape"
   ]
  },
  {
   "cell_type": "code",
   "execution_count": 315,
   "metadata": {},
   "outputs": [
    {
     "data": {
      "text/plain": [
       "<matplotlib.legend.Legend at 0x7f32e81730d0>"
      ]
     },
     "execution_count": 315,
     "metadata": {},
     "output_type": "execute_result"
    },
    {
     "data": {
      "image/png": "[encoded data removed]",
      "text/plain": [
       "<Figure size 432x288 with 1 Axes>"
      ]
     },
     "metadata": {
      "needs_background": "light"
     },
     "output_type": "display_data"
    }
   ],
   "source": [
    "#WORKS HERE!!!!!!!!!!!!!!!!!!!\n",
    "#W=0 #B-cell\n",
    "W=11 #CD8\n",
    "#W=31 #Monocyte\n",
    "#W=55 #NK CELL\n",
    "#W=60 #CD4 CELL \n",
    "#W=\n",
    "import matplotlib.pyplot as plt\n",
    "plt.hist(rho8[:100, W], bins=50, label=Groups[0])\n",
    "plt.hist(rho8[100:200, W], bins=50, label=Groups[1])\n",
    "plt.hist(rho8[200:300, W], bins=50, label=Groups[2])\n",
    "plt.hist(rho8[300:400, W], bins=50, label=Groups[3])\n",
    "plt.hist(rho8[400:500, W], bins=50, label=Groups[4])\n",
    "plt.legend()"
   ]
  },
  {
   "cell_type": "code",
   "execution_count": 316,
   "metadata": {},
   "outputs": [],
   "source": [
    "TrueG=list()\n",
    "for i in range(Gs):\n",
    "    TrueG=TrueG+[Groups[i]]*100"
   ]
  },
  {
   "cell_type": "code",
   "execution_count": 317,
   "metadata": {
    "scrolled": true
   },
   "outputs": [
    {
     "name": "stderr",
     "output_type": "stream",
     "text": [
      "/opt/anaconda/3/2019.10/lib/python3.7/site-packages/ipykernel_launcher.py:5: FutureWarning: Interpreting tuple 'by' as a list of keys, rather than a single key. Use 'by=[...]' instead of 'by=(...)'. In the future, a tuple will always mean a single key.\n",
      "  \"\"\"\n"
     ]
    },
    {
     "data": {
      "text/plain": [
       "Orig         Pred       \n",
       "B_cell       B_cell         100\n",
       "Monocyte     Monocyte       100\n",
       "NK_cell      NK_cell        100\n",
       "T_cell:CD4+  T_cell:CD4+    100\n",
       "T_cell:CD8+  T_cell:CD8+    100\n",
       "dtype: int64"
      ]
     },
     "execution_count": 317,
     "metadata": {},
     "output_type": "execute_result"
    }
   ],
   "source": [
    "rhoM=pd.DataFrame(rho8)\n",
    "PredClass=ref.index[rhoM.to_numpy().argsort(axis=1)[:,nR-1]]\n",
    "\n",
    "\n",
    "pd.DataFrame({'Orig': TrueG, 'Pred': PredClass}).groupby(('Orig', 'Pred')).size()"
   ]
  },
  {
   "cell_type": "code",
   "execution_count": 283,
   "metadata": {},
   "outputs": [
    {
     "name": "stderr",
     "output_type": "stream",
     "text": [
      "... storing 'Group' as categorical\n"
     ]
    },
    {
     "name": "stdout",
     "output_type": "stream",
     "text": [
      "WARNING: saving figure to file figures/umap.pdf\n"
     ]
    },
    {
     "data": {
      "image/png": "[encoded data removed]",
      "text/plain": [
       "<Figure size 432x288 with 1 Axes>"
      ]
     },
     "metadata": {},
     "output_type": "display_data"
    }
   ],
   "source": [
    "ad=sc.AnnData(Xpred3)\n",
    "ad.obs['Group']=['1']*500+(np.array(RefLabels)[ind2[0].tolist()]).tolist()\n",
    "sc.pp.pca(ad)\n",
    "sc.pp.neighbors(ad, metric=\"correlation\")\n",
    "sc.tl.umap(ad)\n",
    "sc.pl.umap(ad, color='Group', save=True)"
   ]
  },
  {
   "cell_type": "code",
   "execution_count": 294,
   "metadata": {},
   "outputs": [
    {
     "name": "stderr",
     "output_type": "stream",
     "text": [
      "/opt/anaconda/3/2019.10/lib/python3.7/site-packages/ipykernel_launcher.py:9: FutureWarning: Interpreting tuple 'by' as a list of keys, rather than a single key. Use 'by=[...]' instead of 'by=(...)'. In the future, a tuple will always mean a single key.\n",
      "  if __name__ == '__main__':\n"
     ]
    },
    {
     "data": {
      "text/plain": [
       "Orig         Pred            \n",
       "B_cell       B_cell              100\n",
       "Monocyte     Pre-B_cell_CD34-    100\n",
       "NK_cell      NK_cell             100\n",
       "T_cell:CD4+  T_cell:CD4+         100\n",
       "T_cell:CD8+  T_cell:CD8+         100\n",
       "dtype: int64"
      ]
     },
     "execution_count": 294,
     "metadata": {},
     "output_type": "execute_result"
    }
   ],
   "source": [
    "#if some reference missing\n",
    "ToKeep=(ref.index!=\"Monocyte\")\n",
    "\n",
    "rhoM=pd.DataFrame(rho8[:,ToKeep])\n",
    "rk=ref.index[ToKeep]\n",
    "PredClass=rk[rhoM.to_numpy().argsort(axis=1)[:,92]]\n",
    "\n",
    "\n",
    "pd.DataFrame({'Orig': TrueG, 'Pred': PredClass}).groupby(('Orig', 'Pred')).size()"
   ]
  },
  {
   "cell_type": "code",
   "execution_count": 295,
   "metadata": {},
   "outputs": [
    {
     "data": {
      "text/plain": [
       "Index(['B_cell', 'B_cell', 'B_cell', 'B_cell', 'T_cell:CD8+', 'T_cell:CD8+',\n",
       "       'T_cell:CD8+', 'T_cell:CD8+', 'T_cell:CD4+', 'T_cell:CD8+',\n",
       "       'T_cell:CD4+', 'T_cell:CD8+', 'T_cell:CD8+', 'T_cell:CD8+',\n",
       "       'T_cell:CD4+', 'T_cell:CD8+', 'T_cell:CD8+', 'T_cell:CD8+',\n",
       "       'T_cell:CD8+', 'T_cell:CD8+', 'T_cell:CD8+', 'T_cell:CD8+',\n",
       "       'T_cell:CD8+', 'T_cell:CD8+', 'T_cell:CD8+', 'T_cell:CD8+',\n",
       "       'T_cell:CD8+', 'T_cell:CD8+', 'NK_cell', 'NK_cell', 'NK_cell',\n",
       "       'NK_cell', 'T_cell:CD4+', 'T_cell:CD4+', 'T_cell:CD4+', 'T_cell:CD4+',\n",
       "       'T_cell:CD4+', 'T_cell:CD4+', 'T_cell:CD4+', 'T_cell:CD4+',\n",
       "       'T_cell:CD4+', 'T_cell:CD4+', 'T_cell:CD4+', 'T_cell:CD4+',\n",
       "       'T_cell:CD4+', 'B_cell', 'B_cell', 'B_cell', 'B_cell', 'B_cell',\n",
       "       'B_cell', 'B_cell', 'B_cell', 'B_cell', 'B_cell', 'B_cell', 'B_cell',\n",
       "       'T_cell:CD4+', 'T_cell:CD4+', 'T_cell:CD4+', 'T_cell:CD4+',\n",
       "       'T_cell:CD4+', 'T_cell:CD4+', 'T_cell:CD4+', 'T_cell:CD4+',\n",
       "       'T_cell:CD4+', 'T_cell:CD8+', 'T_cell:CD8+', 'T_cell:CD8+',\n",
       "       'T_cell:CD8+', 'T_cell:CD8+', 'T_cell:CD8+', 'T_cell:CD8+',\n",
       "       'T_cell:CD8+', 'T_cell:CD8+', 'T_cell:CD8+', 'B_cell', 'B_cell',\n",
       "       'B_cell', 'B_cell', 'B_cell', 'B_cell', 'B_cell', 'B_cell', 'B_cell',\n",
       "       'B_cell', 'Pre-B_cell_CD34-', 'Pre-B_cell_CD34-', 'Pro-B_cell_CD34+',\n",
       "       'Pro-B_cell_CD34+', 'NK_cell', 'T_cell:CD4+', 'T_cell:CD4+'],\n",
       "      dtype='object', name='Celltype')"
      ]
     },
     "execution_count": 295,
     "metadata": {},
     "output_type": "execute_result"
    }
   ],
   "source": [
    "rk"
   ]
  },
  {
   "cell_type": "code",
   "execution_count": 298,
   "metadata": {},
   "outputs": [
    {
     "data": {
      "text/plain": [
       "<matplotlib.legend.Legend at 0x7f33381a08d0>"
      ]
     },
     "execution_count": 298,
     "metadata": {},
     "output_type": "execute_result"
    },
    {
     "data": {
      "image/png": "[encoded data removed]",
      "text/plain": [
       "<Figure size 432x288 with 1 Axes>"
      ]
     },
     "metadata": {
      "needs_background": "light"
     },
     "output_type": "display_data"
    }
   ],
   "source": [
    "obs= 408\n",
    "\n",
    "for i in range(Gs):\n",
    "    Vals=rho8[200:300, ref.index==Groups[i]].ravel()\n",
    "    plt.hist(Vals, bins=30, label=Groups[i])\n",
    "plt.legend()\n",
    "    "
   ]
  },
  {
   "cell_type": "code",
   "execution_count": 249,
   "metadata": {},
   "outputs": [
    {
     "data": {
      "text/plain": [
       "['T_cell:CD4+', 'T_cell:CD8+', 'Monocyte', 'B_cell', 'NK_cell']"
      ]
     },
     "execution_count": 249,
     "metadata": {},
     "output_type": "execute_result"
    }
   ],
   "source": [
    "Groups"
   ]
  },
  {
   "cell_type": "code",
   "execution_count": 95,
   "metadata": {},
   "outputs": [],
   "source": [
    "p1=fullData2.shape[1]"
   ]
  },
  {
   "cell_type": "code",
   "execution_count": 128,
   "metadata": {},
   "outputs": [],
   "source": [
    "\n",
    "from tensorflow.keras import Model\n",
    "from tensorflow.keras import Input\n",
    "from tensorflow.keras.layers import Dense"
   ]
  },
  {
   "cell_type": "code",
   "execution_count": 157,
   "metadata": {},
   "outputs": [],
   "source": [
    "x_in = Input(shape=(p1,))\n",
    "x1 = Dense(256)(x_in)\n",
    "x2= Dense(32)(x1)\n",
    "x3=Dense(32)(x2)\n",
    "x_out = Dense(32)(x3)\n",
    "\n",
    "model = Model(inputs=x_in, outputs=x_out)"
   ]
  },
  {
   "cell_type": "code",
   "execution_count": 158,
   "metadata": {},
   "outputs": [],
   "source": [
    "from tensorflow.keras.optimizers import SGD\n",
    "opt = SGD(learning_rate=0.000001, momentum=0.9)\n",
    "model.compile(optimizer=opt, loss='mse')"
   ]
  },
  {
   "cell_type": "code",
   "execution_count": 167,
   "metadata": {},
   "outputs": [
    {
     "name": "stdout",
     "output_type": "stream",
     "text": [
      "Train on 7000 samples, validate on 3000 samples\n",
      "Epoch 1/40\n",
      "7000/7000 [==============================] - 6s 813us/sample - loss: 2.6610 - val_loss: 2.5840\n",
      "Epoch 2/40\n",
      "7000/7000 [==============================] - 6s 815us/sample - loss: 2.6225 - val_loss: 2.5523\n",
      "Epoch 3/40\n",
      "7000/7000 [==============================] - 5s 753us/sample - loss: 2.5919 - val_loss: 2.5240\n",
      "Epoch 4/40\n",
      "7000/7000 [==============================] - 6s 834us/sample - loss: 2.5641 - val_loss: 2.4981\n",
      "Epoch 5/40\n",
      "7000/7000 [==============================] - 5s 781us/sample - loss: 2.5375 - val_loss: 2.4721\n",
      "Epoch 6/40\n",
      "7000/7000 [==============================] - 5s 736us/sample - loss: 2.5124 - val_loss: 2.4484\n",
      "Epoch 7/40\n",
      "7000/7000 [==============================] - 6s 837us/sample - loss: 2.4882 - val_loss: 2.4246\n",
      "Epoch 8/40\n",
      "7000/7000 [==============================] - 5s 776us/sample - loss: 2.4650 - val_loss: 2.4025\n",
      "Epoch 9/40\n",
      "7000/7000 [==============================] - 5s 747us/sample - loss: 2.4426 - val_loss: 2.3809\n",
      "Epoch 10/40\n",
      "7000/7000 [==============================] - 6s 800us/sample - loss: 2.4211 - val_loss: 2.3602\n",
      "Epoch 11/40\n",
      "7000/7000 [==============================] - 5s 759us/sample - loss: 2.4002 - val_loss: 2.3403\n",
      "Epoch 12/40\n",
      "7000/7000 [==============================] - 5s 777us/sample - loss: 2.3803 - val_loss: 2.3209\n",
      "Epoch 13/40\n",
      "7000/7000 [==============================] - 6s 817us/sample - loss: 2.3607 - val_loss: 2.3018\n",
      "Epoch 14/40\n",
      "7000/7000 [==============================] - 5s 777us/sample - loss: 2.3420 - val_loss: 2.2837\n",
      "Epoch 15/40\n",
      "7000/7000 [==============================] - 6s 790us/sample - loss: 2.3237 - val_loss: 2.2663\n",
      "Epoch 16/40\n",
      "7000/7000 [==============================] - 5s 773us/sample - loss: 2.3059 - val_loss: 2.2492\n",
      "Epoch 17/40\n",
      "7000/7000 [==============================] - 6s 791us/sample - loss: 2.2885 - val_loss: 2.2331\n",
      "Epoch 18/40\n",
      "7000/7000 [==============================] - 6s 841us/sample - loss: 2.2716 - val_loss: 2.2184\n",
      "Epoch 19/40\n",
      "7000/7000 [==============================] - 5s 775us/sample - loss: 2.2554 - val_loss: 2.2009\n",
      "Epoch 20/40\n",
      "7000/7000 [==============================] - 6s 856us/sample - loss: 2.2396 - val_loss: 2.1862\n",
      "Epoch 21/40\n",
      "7000/7000 [==============================] - 6s 840us/sample - loss: 2.2241 - val_loss: 2.1712\n",
      "Epoch 22/40\n",
      "7000/7000 [==============================] - 5s 763us/sample - loss: 2.2089 - val_loss: 2.1572\n",
      "Epoch 23/40\n",
      "7000/7000 [==============================] - 6s 837us/sample - loss: 2.1941 - val_loss: 2.1428\n",
      "Epoch 24/40\n",
      "7000/7000 [==============================] - 6s 800us/sample - loss: 2.1797 - val_loss: 2.1295\n",
      "Epoch 25/40\n",
      "7000/7000 [==============================] - 5s 768us/sample - loss: 2.1655 - val_loss: 2.1160\n",
      "Epoch 26/40\n",
      "7000/7000 [==============================] - 5s 714us/sample - loss: 2.1517 - val_loss: 2.1023\n",
      "Epoch 27/40\n",
      "7000/7000 [==============================] - 5s 784us/sample - loss: 2.1381 - val_loss: 2.0890\n",
      "Epoch 28/40\n",
      "7000/7000 [==============================] - 6s 802us/sample - loss: 2.1250 - val_loss: 2.0767\n",
      "Epoch 29/40\n",
      "7000/7000 [==============================] - 6s 790us/sample - loss: 2.1119 - val_loss: 2.0644\n",
      "Epoch 30/40\n",
      "7000/7000 [==============================] - 6s 820us/sample - loss: 2.0992 - val_loss: 2.0519\n",
      "Epoch 31/40\n",
      "7000/7000 [==============================] - 6s 805us/sample - loss: 2.0868 - val_loss: 2.0403\n",
      "Epoch 32/40\n",
      "7000/7000 [==============================] - 5s 750us/sample - loss: 2.0745 - val_loss: 2.0285\n",
      "Epoch 33/40\n",
      "7000/7000 [==============================] - 5s 761us/sample - loss: 2.0624 - val_loss: 2.0173\n",
      "Epoch 34/40\n",
      "7000/7000 [==============================] - 5s 729us/sample - loss: 2.0507 - val_loss: 2.0055\n",
      "Epoch 35/40\n",
      "7000/7000 [==============================] - 5s 736us/sample - loss: 2.0390 - val_loss: 1.9950\n",
      "Epoch 36/40\n",
      "7000/7000 [==============================] - 5s 735us/sample - loss: 2.0276 - val_loss: 1.9837\n",
      "Epoch 37/40\n",
      "7000/7000 [==============================] - 5s 736us/sample - loss: 2.0163 - val_loss: 1.9728\n",
      "Epoch 38/40\n",
      "7000/7000 [==============================] - 5s 687us/sample - loss: 2.0053 - val_loss: 1.9624\n",
      "Epoch 39/40\n",
      "7000/7000 [==============================] - 5s 741us/sample - loss: 1.9942 - val_loss: 1.9528\n",
      "Epoch 40/40\n",
      "7000/7000 [==============================] - 5s 706us/sample - loss: 1.9836 - val_loss: 1.9415\n"
     ]
    },
    {
     "data": {
      "text/plain": [
       "<tensorflow.python.keras.callbacks.History at 0x7f85c207b990>"
      ]
     },
     "execution_count": 167,
     "metadata": {},
     "output_type": "execute_result"
    }
   ],
   "source": [
    "from sklearn import preprocessing\n",
    "model.fit(fullData2.iloc[ind,:].to_numpy(), Xpred1[ind,:32], epochs=40, batch_size=32, validation_split=0.3)"
   ]
  },
  {
   "cell_type": "code",
   "execution_count": 80,
   "metadata": {},
   "outputs": [],
   "source": []
  },
  {
   "cell_type": "code",
   "execution_count": 169,
   "metadata": {},
   "outputs": [
    {
     "name": "stderr",
     "output_type": "stream",
     "text": [
      "/opt/anaconda/3/2019.10/lib/python3.7/site-packages/numba/compiler.py:602: NumbaPerformanceWarning: \u001b[1m\n",
      "The keyword argument 'parallel=True' was specified but no transformation for parallel execution was possible.\n",
      "\n",
      "To find out why, try turning on parallel diagnostics, see http://numba.pydata.org/numba-doc/latest/user/parallel.html#diagnostics for help.\n",
      "\u001b[1m\n",
      "File \"../../../../home/olesy12/.local/lib/python3.7/site-packages/umap/nndescent.py\", line 47:\u001b[0m\n",
      "\u001b[1m    @numba.njit(parallel=True)\n",
      "\u001b[1m    def nn_descent(\n",
      "\u001b[0m    \u001b[1m^\u001b[0m\u001b[0m\n",
      "\u001b[0m\n",
      "  self.func_ir.loc))\n",
      "... storing 'Group' as categorical\n"
     ]
    },
    {
     "name": "stdout",
     "output_type": "stream",
     "text": [
      "WARNING: saving figure to file figures/umap.pdf\n"
     ]
    },
    {
     "data": {
      "image/png": "[encoded data removed]",
      "text/plain": [
       "<Figure size 432x288 with 1 Axes>"
      ]
     },
     "metadata": {},
     "output_type": "display_data"
    }
   ],
   "source": [
    "Xpred2=Xpred1\n",
    "Xpred2=model.predict(np.concatenate((fullData2.iloc[:nS,:].to_numpy(),ref4n)))\n",
    "ad=sc.AnnData(Xpred2)\n",
    "ad.obs['Group']=['1']*nS+(np.array(RefLabels)[ind2[0].tolist()]).tolist()\n",
    "#sc.pp.pca(ad)\n",
    "sc.pp.neighbors(ad)\n",
    "sc.tl.umap(ad, min_dist=0.01)\n",
    "sc.pl.umap(ad, color='Group', save=True)"
   ]
  },
  {
   "cell_type": "code",
   "execution_count": 94,
   "metadata": {},
   "outputs": [
    {
     "data": {
      "text/plain": [
       "<matplotlib.collections.PathCollection at 0x7f85c53f7b50>"
      ]
     },
     "execution_count": 94,
     "metadata": {},
     "output_type": "execute_result"
    },
    {
     "data": {
      "image/png": "[encoded data removed]",
      "text/plain": [
       "<Figure size 432x288 with 1 Axes>"
      ]
     },
     "metadata": {
      "needs_background": "light"
     },
     "output_type": "display_data"
    }
   ],
   "source": [
    "import matplotlib.pyplot as plt\n",
    "plt.scatter(fullData.iloc[1,:], fullData2.iloc[1,:])"
   ]
  },
  {
   "cell_type": "code",
   "execution_count": null,
   "metadata": {},
   "outputs": [],
   "source": []
  }
 ],
 "metadata": {
  "kernelspec": {
   "display_name": "Python 3",
   "language": "python",
   "name": "python3"
  },
  "language_info": {
   "codemirror_mode": {
    "name": "ipython",
    "version": 3
   },
   "file_extension": ".py",
   "mimetype": "text/x-python",
   "name": "python",
   "nbconvert_exporter": "python",
   "pygments_lexer": "ipython3",
   "version": "3.8.5"
  }
 },
 "nbformat": 4,
 "nbformat_minor": 2
}
