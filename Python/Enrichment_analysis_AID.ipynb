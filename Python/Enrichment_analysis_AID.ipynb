{
 "cells": [
  {
   "cell_type": "code",
   "execution_count": 1,
   "id": "1dc02336",
   "metadata": {},
   "outputs": [],
   "source": [
    "import gzip\n",
    "import pandas as pd\n",
    "import numpy as np\n",
    "import scipy.stats as stats\n",
    "import matplotlib.pyplot as plt"
   ]
  },
  {
   "cell_type": "code",
   "execution_count": 2,
   "id": "797b27a8",
   "metadata": {},
   "outputs": [],
   "source": [
    "variant_disease = pd.read_csv(\"../SAR/all_variant_disease_associations.tsv.gz\", compression='gzip', sep = '\\t')"
   ]
  },
  {
   "cell_type": "code",
   "execution_count": 3,
   "id": "b187638f",
   "metadata": {},
   "outputs": [],
   "source": [
    "# Find GWAS genes in the database\n",
    "RA = list()\n",
    "for i in range(len(variant_disease['diseaseName'])):\n",
    "    if 'rheumatoid' in variant_disease['diseaseName'][i]:\n",
    "        RA.append(i)\n",
    "    if 'Rheumatoid' in variant_disease['diseaseName'][i]:\n",
    "        RA.append(i)\n",
    "\n",
    "    "
   ]
  },
  {
   "cell_type": "code",
   "execution_count": 4,
   "id": "6173a78d",
   "metadata": {},
   "outputs": [
    {
     "data": {
      "text/plain": [
       "array(['Early Rheumatoid Arthritis', 'Juvenile rheumatoid arthritis',\n",
       "       'Polyarticular Juvenile Idiopathic Arthritis, Rheumatoid Factor Negative',\n",
       "       'Progression of rheumatoid arthritis',\n",
       "       'Progressive pseudorheumatoid dysplasia', 'Rheumatoid Arthritis',\n",
       "       'Rheumatoid Arthritis, Systemic Juvenile',\n",
       "       'Rheumatoid Factor Measurement', 'Rheumatoid Nodule',\n",
       "       'Seropositive rheumatoid arthritis'], dtype=object)"
      ]
     },
     "execution_count": 4,
     "metadata": {},
     "output_type": "execute_result"
    }
   ],
   "source": [
    "np.unique(variant_disease['diseaseName'][RA])"
   ]
  },
  {
   "cell_type": "code",
   "execution_count": 5,
   "id": "508b5278",
   "metadata": {},
   "outputs": [],
   "source": [
    "# Let's say that we don't want Juvenile rheumatoid arthritis, we can get rid of it for example the following way\n",
    "RA = list()\n",
    "for i in range(len(variant_disease['diseaseName'])):\n",
    "    if 'Rheumatoid Arthritis' in variant_disease['diseaseName'][i]\\\n",
    "    and 'Juvenile' not in variant_disease['diseaseName'][i]\\\n",
    "    and 'Early' not in variant_disease['diseaseName'][i]:\n",
    "        RA.append(i)"
   ]
  },
  {
   "cell_type": "code",
   "execution_count": 6,
   "id": "a80ad53c",
   "metadata": {},
   "outputs": [
    {
     "data": {
      "text/plain": [
       "array(['Rheumatoid Arthritis'], dtype=object)"
      ]
     },
     "execution_count": 6,
     "metadata": {},
     "output_type": "execute_result"
    }
   ],
   "source": [
    "#Now we are satisfied with the diseases\n",
    "np.unique(variant_disease['diseaseName'][RA])"
   ]
  },
  {
   "cell_type": "code",
   "execution_count": 7,
   "id": "543c5ade",
   "metadata": {},
   "outputs": [],
   "source": [
    "#Map the database to the geneSymbol names\n",
    "snpId = variant_disease.loc[RA]['snpId']\n",
    "variant_gene = pd.read_csv(\"../SAR/variant_to_gene_mappings.tsv.gz\", compression='gzip', sep = '\\t')\n",
    "chosen = list()\n",
    "for i in range(len(variant_gene['snpId'])):\n",
    "    if variant_gene['snpId'][i] in np.array(snpId):\n",
    "        chosen.append(i)\n"
   ]
  },
  {
   "cell_type": "code",
   "execution_count": 8,
   "id": "68028825",
   "metadata": {},
   "outputs": [
    {
     "data": {
      "text/plain": [
       "777"
      ]
     },
     "execution_count": 8,
     "metadata": {},
     "output_type": "execute_result"
    }
   ],
   "source": [
    "# Here is the list of GWAS genes that we are interested in\n",
    "GWAS_RA = np.unique(variant_gene.loc[chosen]['geneSymbol'])\n",
    "len(GWAS_RA)"
   ]
  },
  {
   "cell_type": "code",
   "execution_count": 9,
   "id": "1e569652",
   "metadata": {},
   "outputs": [
    {
     "data": {
      "text/plain": [
       "array(['AARS2', 'ABCB1', 'ABCC4', 'ABCF1', 'ABCG2', 'ACOXL', 'ACR',\n",
       "       'ACTA2', 'ADAD1', 'ADAMTS12', 'ADH7', 'ADIPOQ', 'ADIPOQ-AS1',\n",
       "       'ADIPOR1', 'ADIPOR2', 'ADORA2A', 'ADORA2A-AS1', 'AFF1', 'AFF3',\n",
       "       'AGBL2', 'AGER', 'AGPAT1', 'AHR', 'AHRR', 'AHSA1', 'AIF1', 'AIFM2',\n",
       "       'AIRE', 'ALPK1', 'AMPD1', 'ANGPT2', 'ANKRD55', 'ANO8', 'ANXA3',\n",
       "       'AP4B1-AS1', 'APOC1', 'APOM', 'ARHGEF7', 'ARID5B', 'ARL15',\n",
       "       'ARPC1A', 'ART3', 'ASB15', 'ASB15-AS1', 'ASCC1', 'ATAT1', 'ATF6B',\n",
       "       'ATG5', 'ATIC', 'ATN1', 'ATP6V1G2', 'ATP6V1G2-DDX39B', 'B9D2',\n",
       "       'BACH2', 'BAG6', 'BANK1', 'BCL2', 'BCL2L15', 'BLK', 'BLOC1S5',\n",
       "       'BLOC1S5-TXNDC5', 'BRPF1', 'BTNL2', 'C1orf141', 'C2', 'C2-AS1',\n",
       "       'C3orf67', 'C3orf67-AS1', 'C5', 'C5-OT1', 'C6orf15', 'C6orf47',\n",
       "       'CA1', 'CAMK1', 'CARD8', 'CARD9', 'CASC15', 'CASP10', 'CASP5',\n",
       "       'CASP7', 'CASTOR1', 'CCDC116', 'CCHCR1', 'CCL21', 'CCL27', 'CCL4',\n",
       "       'CCN4', 'CCNG2', 'CCR3', 'CCR6', 'CD160', 'CD226', 'CD244',\n",
       "       'CD247', 'CD28', 'CD40', 'CD86', 'CDC42EP3', 'CDCA3', 'CDK5RAP2',\n",
       "       'CDK6', 'CDKAL1', 'CDKN2A', 'CDKN2B', 'CDKN2B-AS1', 'CDSN',\n",
       "       'CELF2', 'CEP89', 'CETP', 'CFB', 'CFH', 'CHI3L1', 'CIITA',\n",
       "       'CLEC16A', 'CLEC4A', 'CLEC4E', 'CLEC6A', 'CLEC7A', 'CLIC1', 'CLNK',\n",
       "       'CLSTN2', 'CLYBL', 'CNR2', 'CNTFR', 'COG6', 'COL11A2', 'COL11A2P1',\n",
       "       'COL18A1', 'COL4A1', 'COLEC10', 'CPA4', 'CRP', 'CSK', 'CSMD3',\n",
       "       'CSNK2B', 'CSTF3', 'CTIF', 'CTLA4', 'CUL5', 'CXCL10', 'CXCL9',\n",
       "       'CYB5A', 'CYP1A1', 'CYP21A2', 'CYP2B6', 'CYP4F23P', 'CYRIB',\n",
       "       'DAXX', 'DCC', 'DCDC2C', 'DDA1', 'DDR1', 'DDR1-DT', 'DDX39B',\n",
       "       'DDX39B-AS1', 'DENND1A', 'DGKQ', 'DHX16', 'DKK3', 'DLG2',\n",
       "       'DNASE1L3', 'DPP4', 'DRAIC', 'DXO', 'EEF1E1-BLOC1S5', 'EGF',\n",
       "       'EGFL8', 'EGFR', 'EHMT2', 'EHMT2-AS1', 'ELANE', 'ELMO1', 'EMCN',\n",
       "       'ENOSF1', 'ENOX1', 'EOMES', 'ERICH1', 'ESR2', 'ETFA', 'ETS1',\n",
       "       'ETV7', 'ETV7-AS1', 'F7', 'F9', 'FADS1', 'FADS2', 'FAM107A', 'FAS',\n",
       "       'FASLG', 'FASTKD3', 'FBXL21P', 'FBXW8', 'FCGR2A', 'FCGR2B',\n",
       "       'FCGR3A', 'FCGR3B', 'FCN1', 'FCN2', 'FCRL3', 'FDX2', 'FGB',\n",
       "       'FKBPL', 'FLACC1', 'FLT1', 'FOXJ3', 'FOXO3', 'FOXP3', 'FPGS',\n",
       "       'FSTL4', 'FTO', 'GABARAPL3', 'GABBR1', 'GABBR2', 'GADD45A',\n",
       "       'GADD45B', 'GALNT18', 'GATA3', 'GATA3-AS1', 'GC', 'GDAP1', 'GDF15',\n",
       "       'GFRA1', 'GGH', 'GHRL', 'GHRLOS', 'GJA5', 'GLCCI1', 'GLCCI1-DT',\n",
       "       'GNB3', 'GNL1', 'GPANK1', 'GPC5', 'GPSM3', 'GRAP2', 'GSDMB',\n",
       "       'GTF2I', 'GUCY1B2', 'GZMB', 'H19', 'HAVCR1', 'HAVCR2', 'HBB',\n",
       "       'HBD', 'HCG17', 'HCG18', 'HCG20', 'HCG21', 'HCG22', 'HCG23',\n",
       "       'HCG26', 'HCG27', 'HCG9', 'HCP5', 'HECTD4', 'HFE', 'HLA-A',\n",
       "       'HLA-B', 'HLA-C', 'HLA-DMB', 'HLA-DOA', 'HLA-DOB', 'HLA-DPA1',\n",
       "       'HLA-DPA2', 'HLA-DPB1', 'HLA-DPB2', 'HLA-DQA1', 'HLA-DQA2',\n",
       "       'HLA-DQB1', 'HLA-DQB1-AS1', 'HLA-DQB2', 'HLA-DQB3', 'HLA-DRA',\n",
       "       'HLA-DRB1', 'HLA-DRB9', 'HLA-G', 'HLA-S', 'HMGB1', 'HNRNPA1P2',\n",
       "       'HORMAD2-AS1', 'HOTS', 'HOXC6', 'HSD17B8', 'HSPA1L', 'HSPD1',\n",
       "       'HTD2', 'HTR2A', 'ICAM1', 'ICAM3', 'ICAM4', 'ICOSLG', 'IFIH1',\n",
       "       'IFNG', 'IFNG-AS1', 'IL10', 'IL10RA', 'IL12A', 'IL12A-AS1',\n",
       "       'IL12B', 'IL12RB2', 'IL13', 'IL17A', 'IL17F', 'IL18', 'IL19',\n",
       "       'IL1A', 'IL1B', 'IL1RN', 'IL2', 'IL21', 'IL21-AS1', 'IL23R',\n",
       "       'IL2RA', 'IL2RB', 'IL3', 'IL32', 'IL33', 'IL37', 'IL4', 'IL4R',\n",
       "       'IL6', 'IL6-AS1', 'IL6R', 'IL6ST', 'IL7R', 'IL9R', 'ILF3', 'IP6K3',\n",
       "       'IRAK1', 'IRAK2', 'IRF5', 'IRS1', 'ISG20', 'ITGAM', 'ITGAV',\n",
       "       'ITPR3', 'JAM2', 'JAZF1', 'KCNQ1', 'KDR', 'KIAA1109', 'KIDINS220',\n",
       "       'KIF26B', 'KIF5A', 'KLF12', 'KLRC1', 'KLRD1', 'KRT20', 'LECT2',\n",
       "       'LEP', 'LGALS3', 'LGALS8', 'LGALS9', 'LINC00243', 'LINC00294',\n",
       "       'LINC00452', 'LINC00654', 'LINC00824', 'LINC01104', 'LINC01185',\n",
       "       'LINC01729', 'LINC01748', 'LINC01934', 'LINC02196', 'LINC02356',\n",
       "       'LINC02357', 'LINC02571', 'LINC02649', 'LINC02656', 'LMNA',\n",
       "       'LNCPRESS1', 'LOC100287329', 'LOC100294145', 'LOC100506023',\n",
       "       'LOC100507547', 'LOC101926943', 'LOC101927369', 'LOC101927437',\n",
       "       'LOC101928156', 'LOC101928477', 'LOC101928809', 'LOC102723321',\n",
       "       'LOC102725019', 'LOC105369165', 'LOC105369568', 'LOC105369655',\n",
       "       'LOC105369750', 'LOC105370032', 'LOC105371080', 'LOC105371230',\n",
       "       'LOC105371427', 'LOC105371532', 'LOC105371777', 'LOC105373204',\n",
       "       'LOC105373977', 'LOC105374465', 'LOC105374724', 'LOC105374939',\n",
       "       'LOC105374981', 'LOC105375002', 'LOC105375010', 'LOC105375020',\n",
       "       'LOC105375503', 'LOC105375711', 'LOC105375920', 'LOC105376250',\n",
       "       'LOC105376481', 'LOC105376942', 'LOC105377621', 'LOC105378083',\n",
       "       'LOC105378122', 'LOC105378654', 'LOC105379174', 'LOC105379857',\n",
       "       'LOC107983976', 'LOC107984079', 'LOC107984667', 'LOC107985367',\n",
       "       'LOC107985393', 'LOC107986418', 'LOC107986588', 'LOC107986589',\n",
       "       'LOC107986664', 'LOC107986672', 'LOC107987046', 'LOC107987063',\n",
       "       'LOC107987304', 'LOC108783645', 'LOC112267902', 'LOC112267907',\n",
       "       'LOC112267968', 'LOC285626', 'LOC401324', 'LOC730100', 'LRP5',\n",
       "       'LRRC18', 'LST1', 'LTA', 'LY6G5B', 'LY6G5C', 'LY6G6C', 'LY6G6D',\n",
       "       'LY6G6F', 'LY6G6F-LY6G6D', 'LY9', 'MACIR', 'MAGI3', 'MAP3K4',\n",
       "       'MBD4', 'MBL2', 'MBP', 'MCCD1', 'MCPH1', 'MDC1', 'MDC1-AS1',\n",
       "       'MDGA2', 'MDM2', 'MECP2', 'MEFV', 'MIA3', 'MICA', 'MICA-AS1',\n",
       "       'MICB', 'MIF', 'MIF-AS1', 'MIR1236', 'MIR146A', 'MIR155',\n",
       "       'MIR155HG', 'MIR196A2', 'MIR219A1', 'MIR3142HG', 'MIR3202-2',\n",
       "       'MIR3936HG', 'MIR499A', 'MIR499B', 'MIR675', 'MIR6832', 'MIR6833',\n",
       "       'MMEL1', 'MMP12', 'MMP2', 'MMP9', 'MPG', 'MPIG6B', 'MRPL23',\n",
       "       'MRPS30-DT', 'MSH5', 'MSH5-SAPCD1', 'MSI1', 'MSRA', 'MTCO3P1',\n",
       "       'MTF1', 'MTHFR', 'MTMR3', 'MTR', 'MTRR', 'MUC22', 'MUCL3', 'MUTYH',\n",
       "       'MYH7B', 'MYL8P', 'MYO18B', 'MYO9B', 'N4BP1', 'NAMPT', 'NAT2',\n",
       "       'NAV2', 'NCF1', 'NCF1C', 'NCF2', 'NCR3', 'NEBL', 'NECAB2', 'NELFE',\n",
       "       'NFKB1', 'NFKBIE', 'NFKBIL1', 'NHS', 'NKAPL', 'NLRP1', 'NLRP2',\n",
       "       'NLRP3', 'NOD2', 'NONOP2', 'NOS2', 'NOS3', 'NOTCH4', 'NPSR1',\n",
       "       'NPSR1-AS1', 'NR3C1', 'NRM', 'NTN1', 'NUP88', 'OGG1', 'OLIG3',\n",
       "       'OR12D3', 'OR2H2', 'OR5V1', 'ORAI1', 'OS9', 'P2RX7', 'PADI2',\n",
       "       'PADI4', 'PAPOLA', 'PARP1', 'PBX2', 'PCDH15', 'PCSK6', 'PDCD1',\n",
       "       'PDE2A', 'PDE2A-AS1', 'PDS5A', 'PECAM1', 'PER2', 'PGBD1',\n",
       "       'PGLYRP1', 'PHACTR3', 'PHF19', 'PHTF1', 'PLCL1', 'PLCL2', 'PLD4',\n",
       "       'PON1', 'POU5F1', 'PPARG', 'PPIAP9', 'PPIL4', 'PPP1R10', 'PPP1R11',\n",
       "       'PPT2', 'PPT2-EGFL8', 'PRDM10', 'PRDM16', 'PRKCH', 'PRL', 'PRORP',\n",
       "       'PRR12', 'PRRC2A', 'PRRT1', 'PSEN1', 'PSMA4', 'PSMB8', 'PSMB8-AS1',\n",
       "       'PSMB9', 'PSORS1C1', 'PSORS1C2', 'PSORS1C3', 'PSRC1', 'PTPN11',\n",
       "       'PTPN2', 'PTPN22', 'PTPRC', 'RAB14', 'RABEP1', 'RAD51B', 'RARB',\n",
       "       'RASGRP1', 'RAVER1', 'RBFOX1', 'RBM45', 'RCAN1', 'RCHY1', 'RCOR3',\n",
       "       'REL', 'RETN', 'RGL2', 'RHBDF1', 'RING1', 'RIPOR2', 'RIT2',\n",
       "       'RNASE2', 'RNASEH2B', 'RNF213', 'RNF213-AS1', 'RNF39', 'RNF40',\n",
       "       'RNF5', 'RNPC3', 'RPL37A', 'RPL3P2', 'RPP14', 'RPP21', 'RPS18',\n",
       "       'RSBN1', 'RTKN2', 'RUNX1', 'SAPCD1-AS1', 'SDF2L1', 'SELP',\n",
       "       'SERPING1', 'SFTA2', 'SFTPD', 'SGCZ', 'SH3PXD2A', 'SKIV2L', 'SLA',\n",
       "       'SLC11A1', 'SLC19A1', 'SLC22A4', 'SLC44A4', 'SLC6A11', 'SLCO1C1',\n",
       "       'SMAD3', 'SMG7', 'SMIM35', 'SMIM40', 'SMTNL2', 'SNHG32', 'SNORA38',\n",
       "       'SNORD84', 'SOD2', 'SPAG16', 'SPECC1L-ADORA2A', 'SPP1', 'SPRED2',\n",
       "       'SPSB1', 'SRP54-AS1', 'STAG1', 'STAT4', 'STEAP1B', 'STK19',\n",
       "       'SUMO4', 'SUOX', 'SUPT20H', 'SYN1', 'SYNGAP1', 'SYNGR1', 'TAB2',\n",
       "       'TAGAP', 'TAP1', 'TAP2', 'TAPBP', 'TBX21', 'TCF19', 'TCF7L2',\n",
       "       'TCP11L1', 'TEC', 'TELO2', 'TERT', 'TESPA1', 'TG', 'TGFB1',\n",
       "       'TH2LCRR', 'TIFA', 'TIMD4', 'TIRAP', 'TLR1', 'TLR10', 'TLR2',\n",
       "       'TLR4', 'TLR5', 'TLR7', 'TLR9', 'TMEM151B', 'TMEM179', 'TMEM187',\n",
       "       'TMEM235', 'TMEM258', 'TMPOP1', 'TNF', 'TNFAIP3', 'TNFRSF10A',\n",
       "       'TNFRSF11A', 'TNFRSF11B', 'TNFRSF13C', 'TNFRSF1A', 'TNFRSF1B',\n",
       "       'TNFSF11', 'TNFSF15', 'TNFSF4', 'TNIP1', 'TNPO3', 'TNXB', 'TOB2P1',\n",
       "       'TOE1', 'TP53', 'TPD52', 'TRAF1', 'TRAF6', 'TRIM10', 'TRIM15',\n",
       "       'TRIM26', 'TRIM26BP', 'TRIM31', 'TRIM31-AS1', 'TRIM39',\n",
       "       'TRIM39-RPP21', 'TRIM40', 'TRPS1', 'TSBP1', 'TSBP1-AS1', 'TSPAN5',\n",
       "       'TXNDC5', 'TYK2', 'TYMS', 'UBASH3A', 'UBDP1', 'UBE2L3', 'UMAD1',\n",
       "       'UQCC2', 'UTS2', 'VARS1', 'VARS2', 'VAV1', 'VCAM1', 'VDR', 'VEGFA',\n",
       "       'VIPAS39', 'VPS37C', 'VPS52', 'VWA7', 'WAKMAR2', 'WDFY4', 'WDHD1',\n",
       "       'WDR27', 'WNT16', 'XRCC1', 'YDJC', 'ZBTB12', 'ZBTB22', 'ZBTB9',\n",
       "       'ZC3HC1', 'ZDHHC20P2', 'ZFP57', 'ZGPAT', 'ZKSCAN4', 'ZKSCAN5',\n",
       "       'ZNF175', 'ZNF302', 'ZNF366', 'ZNF595', 'ZNF679', 'ZNF774',\n",
       "       'ZNRD1ASP', 'ZPBP2', 'ZPR1', 'ZSCAN26'], dtype=object)"
      ]
     },
     "execution_count": 9,
     "metadata": {},
     "output_type": "execute_result"
    }
   ],
   "source": [
    "GWAS_RA"
   ]
  },
  {
   "cell_type": "code",
   "execution_count": 10,
   "id": "e47e2fd0",
   "metadata": {},
   "outputs": [],
   "source": [
    "# Find GWAS genes in the database\n",
    "CD = list()\n",
    "for i in range(len(variant_disease['diseaseName'])):\n",
    "    if 'Crohn' in variant_disease['diseaseName'][i]:\n",
    "        CD.append(i)\n",
    "    if 'crohn' in variant_disease['diseaseName'][i]:\n",
    "        CD.append(i)"
   ]
  },
  {
   "cell_type": "code",
   "execution_count": 11,
   "id": "a2010853",
   "metadata": {},
   "outputs": [
    {
     "data": {
      "text/plain": [
       "array(['Crohn Disease', \"Crohn's disease of large bowel\",\n",
       "       \"Gastrointestinal Crohn's disease\", \"Pediatric Crohn's disease\",\n",
       "       \"Perianal Crohn's disease\", \"Ulcerative colitis or Crohn's\"],\n",
       "      dtype=object)"
      ]
     },
     "execution_count": 11,
     "metadata": {},
     "output_type": "execute_result"
    }
   ],
   "source": [
    "np.unique(variant_disease['diseaseName'][CD])"
   ]
  },
  {
   "cell_type": "code",
   "execution_count": 12,
   "id": "612f54ed",
   "metadata": {},
   "outputs": [],
   "source": [
    "CD = list()\n",
    "for i in range(len(variant_disease['diseaseName'])):\n",
    "    if 'Crohn Disease' in variant_disease['diseaseName'][i]:\n",
    "        CD.append(i)\n"
   ]
  },
  {
   "cell_type": "code",
   "execution_count": 13,
   "id": "a9541481",
   "metadata": {},
   "outputs": [
    {
     "data": {
      "text/plain": [
       "array(['Crohn Disease'], dtype=object)"
      ]
     },
     "execution_count": 13,
     "metadata": {},
     "output_type": "execute_result"
    }
   ],
   "source": [
    "np.unique(variant_disease['diseaseName'][CD])"
   ]
  },
  {
   "cell_type": "code",
   "execution_count": 14,
   "id": "62b36a24",
   "metadata": {},
   "outputs": [],
   "source": [
    "#Map the database to the geneSymbol names\n",
    "snpId = variant_disease.loc[CD]['snpId']\n",
    "variant_gene = pd.read_csv(\"../SAR/variant_to_gene_mappings.tsv.gz\", compression='gzip', sep = '\\t')\n",
    "chosen = list()\n",
    "for i in range(len(variant_gene['snpId'])):\n",
    "    if variant_gene['snpId'][i] in np.array(snpId):\n",
    "        chosen.append(i)"
   ]
  },
  {
   "cell_type": "code",
   "execution_count": 15,
   "id": "1f524ba7",
   "metadata": {},
   "outputs": [
    {
     "data": {
      "text/plain": [
       "515"
      ]
     },
     "execution_count": 15,
     "metadata": {},
     "output_type": "execute_result"
    }
   ],
   "source": [
    "# Here is the list of GWAS genes that we are interested in\n",
    "GWAS_CD = np.unique(variant_gene.loc[chosen]['geneSymbol'])\n",
    "len(GWAS_CD)"
   ]
  },
  {
   "cell_type": "code",
   "execution_count": null,
   "id": "f9b747d0",
   "metadata": {},
   "outputs": [],
   "source": []
  },
  {
   "cell_type": "code",
   "execution_count": null,
   "id": "9d6d99da",
   "metadata": {},
   "outputs": [],
   "source": []
  },
  {
   "cell_type": "code",
   "execution_count": null,
   "id": "8757b0df",
   "metadata": {},
   "outputs": [],
   "source": []
  },
  {
   "cell_type": "code",
   "execution_count": 16,
   "id": "fe0f9ccf",
   "metadata": {},
   "outputs": [],
   "source": [
    "# Find GWAS genes in the database\n",
    "DLE = list()\n",
    "for i in range(len(variant_disease['diseaseName'])):\n",
    "    if 'lupus' in variant_disease['diseaseName'][i]:\n",
    "        DLE.append(i)\n",
    "    if 'Lupus' in variant_disease['diseaseName'][i]:\n",
    "        DLE.append(i)"
   ]
  },
  {
   "cell_type": "code",
   "execution_count": 17,
   "id": "c5e32812",
   "metadata": {},
   "outputs": [
    {
     "data": {
      "text/plain": [
       "array(['Chilblain lupus 1', 'Chilblain lupus erythematosus',\n",
       "       'Lupus Erythematosus', 'Lupus Erythematosus, Cutaneous',\n",
       "       'Lupus Erythematosus, Discoid',\n",
       "       'Lupus Erythematosus, Subacute Cutaneous',\n",
       "       'Lupus Erythematosus, Systemic', 'Lupus Nephritis',\n",
       "       'Lupus Vulgaris', 'Lupus anticoagulant disorder',\n",
       "       'Neonatal Systemic lupus erythematosus',\n",
       "       'Neuropsychiatric Systemic Lupus Erythematosus', 'lupus cutaneous'],\n",
       "      dtype=object)"
      ]
     },
     "execution_count": 17,
     "metadata": {},
     "output_type": "execute_result"
    }
   ],
   "source": [
    "np.unique(variant_disease['diseaseName'][DLE])"
   ]
  },
  {
   "cell_type": "code",
   "execution_count": 18,
   "id": "84e22102",
   "metadata": {},
   "outputs": [],
   "source": [
    "DLE = list()\n",
    "for i in range(len(variant_disease['diseaseName'])):\n",
    "    if 'Discoid' in variant_disease['diseaseName'][i]:\n",
    "        DLE.append(i)\n",
    "    if 'discoid' in variant_disease['diseaseName'][i]:\n",
    "        DLE.append(i)\n"
   ]
  },
  {
   "cell_type": "code",
   "execution_count": 19,
   "id": "79d110db",
   "metadata": {},
   "outputs": [
    {
     "data": {
      "text/plain": [
       "array(['Lupus Erythematosus, Discoid'], dtype=object)"
      ]
     },
     "execution_count": 19,
     "metadata": {},
     "output_type": "execute_result"
    }
   ],
   "source": [
    "np.unique(variant_disease['diseaseName'][DLE])"
   ]
  },
  {
   "cell_type": "code",
   "execution_count": 20,
   "id": "9346d030",
   "metadata": {},
   "outputs": [],
   "source": [
    "#Map the database to the geneSymbol names\n",
    "snpId = variant_disease.loc[DLE]['snpId']\n",
    "variant_gene = pd.read_csv(\"../SAR/variant_to_gene_mappings.tsv.gz\", compression='gzip', sep = '\\t')\n",
    "chosen = list()\n",
    "for i in range(len(variant_gene['snpId'])):\n",
    "    if variant_gene['snpId'][i] in np.array(snpId):\n",
    "        chosen.append(i)"
   ]
  },
  {
   "cell_type": "code",
   "execution_count": 21,
   "id": "1dc42ace",
   "metadata": {},
   "outputs": [
    {
     "data": {
      "text/plain": [
       "40"
      ]
     },
     "execution_count": 21,
     "metadata": {},
     "output_type": "execute_result"
    }
   ],
   "source": [
    "# Here is the list of GWAS genes that we are interested in\n",
    "GWAS_DLE = np.unique(variant_gene.loc[chosen]['geneSymbol'])\n",
    "len(GWAS_DLE)"
   ]
  },
  {
   "cell_type": "code",
   "execution_count": null,
   "id": "458fa2cc",
   "metadata": {},
   "outputs": [],
   "source": []
  },
  {
   "cell_type": "code",
   "execution_count": 22,
   "id": "fe308d85",
   "metadata": {},
   "outputs": [],
   "source": [
    "SjS = list()\n",
    "for i in range(len(variant_disease['diseaseName'])):\n",
    "    if 'Sjogren' in variant_disease['diseaseName'][i]:\n",
    "        SjS.append(i)\n",
    "    if 'sjogren' in variant_disease['diseaseName'][i]:\n",
    "        SjS.append(i)\n",
    "    if 'sjögren' in variant_disease['diseaseName'][i]:\n",
    "        SjS.append(i)\n",
    "    if 'Sjögren' in variant_disease['diseaseName'][i]:\n",
    "        SjS.append(i)"
   ]
  },
  {
   "cell_type": "code",
   "execution_count": 23,
   "id": "41c6cff4",
   "metadata": {},
   "outputs": [
    {
     "data": {
      "text/plain": [
       "array(['Marinesco-Sjogren syndrome', \"Primary Sjögren's syndrome\",\n",
       "       \"Sjogren's Syndrome\", 'Sjogren-Larsson Syndrome'], dtype=object)"
      ]
     },
     "execution_count": 23,
     "metadata": {},
     "output_type": "execute_result"
    }
   ],
   "source": [
    "np.unique(variant_disease['diseaseName'][SjS])"
   ]
  },
  {
   "cell_type": "code",
   "execution_count": 24,
   "id": "6e7ace7d",
   "metadata": {},
   "outputs": [],
   "source": [
    "SjS = list()\n",
    "for i in range(len(variant_disease['diseaseName'])):\n",
    "    if \"Sjogren's\" in variant_disease['diseaseName'][i]:\n",
    "        SjS.append(i)\n",
    "    if \"Sjögren's\" in variant_disease['diseaseName'][i]:\n",
    "        SjS.append(i)\n"
   ]
  },
  {
   "cell_type": "code",
   "execution_count": 25,
   "id": "425b04a7",
   "metadata": {},
   "outputs": [
    {
     "data": {
      "text/plain": [
       "array([\"Primary Sjögren's syndrome\", \"Sjogren's Syndrome\"], dtype=object)"
      ]
     },
     "execution_count": 25,
     "metadata": {},
     "output_type": "execute_result"
    }
   ],
   "source": [
    "np.unique(variant_disease['diseaseName'][SjS])"
   ]
  },
  {
   "cell_type": "code",
   "execution_count": 26,
   "id": "e99e5cfd",
   "metadata": {},
   "outputs": [],
   "source": [
    "#Map the database to the geneSymbol names\n",
    "snpId = variant_disease.loc[SjS]['snpId']\n",
    "variant_gene = pd.read_csv(\"../SAR/variant_to_gene_mappings.tsv.gz\", compression='gzip', sep = '\\t')\n",
    "chosen = list()\n",
    "for i in range(len(variant_gene['snpId'])):\n",
    "    if variant_gene['snpId'][i] in np.array(snpId):\n",
    "        chosen.append(i)"
   ]
  },
  {
   "cell_type": "code",
   "execution_count": 27,
   "id": "18a627e9",
   "metadata": {},
   "outputs": [
    {
     "data": {
      "text/plain": [
       "49"
      ]
     },
     "execution_count": 27,
     "metadata": {},
     "output_type": "execute_result"
    }
   ],
   "source": [
    "# Here is the list of GWAS genes that we are interested in\n",
    "GWAS_SjS = np.unique(variant_gene.loc[chosen]['geneSymbol'])\n",
    "len(GWAS_SjS)"
   ]
  },
  {
   "cell_type": "code",
   "execution_count": null,
   "id": "7d60572c",
   "metadata": {},
   "outputs": [],
   "source": []
  },
  {
   "cell_type": "code",
   "execution_count": 28,
   "id": "e9c2fa93",
   "metadata": {},
   "outputs": [],
   "source": [
    "Diabetes = list()\n",
    "for i in range(len(variant_disease['diseaseName'])):\n",
    "    if 'Diabetes' in variant_disease['diseaseName'][i]:\n",
    "        Diabetes.append(i)\n",
    "    if 'diabetes' in variant_disease['diseaseName'][i]:\n",
    "        Diabetes.append(i)\n"
   ]
  },
  {
   "cell_type": "code",
   "execution_count": 29,
   "id": "0487a887",
   "metadata": {},
   "outputs": [
    {
     "data": {
      "text/plain": [
       "array(['Autosomal Dominant Neurohypophyseal Diabetes Insipidus',\n",
       "       'Central Diabetes Insipidus', 'Complications of Diabetes Mellitus',\n",
       "       'Congenital Nephrogenic Diabetes Insipidus',\n",
       "       'Developmental Delay, Epilepsy, and Neonatal Diabetes', 'Diabetes',\n",
       "       'Diabetes Insipidus', 'Diabetes Mellitus',\n",
       "       'Diabetes Mellitus, Insulin-Dependent',\n",
       "       'Diabetes Mellitus, Insulin-Resistant, with Acanthosis Nigricans',\n",
       "       'Diabetes Mellitus, Ketosis-Prone',\n",
       "       'Diabetes Mellitus, Neonatal, with Congenital Hypothyroidism',\n",
       "       'Diabetes Mellitus, Non-Insulin-Dependent',\n",
       "       'Diabetes Mellitus, Transient Neonatal, 1', 'Diabetes in children',\n",
       "       'Diabetes in youth',\n",
       "       'Diabetes mellitus autosomal dominant type II (disorder)',\n",
       "       'Diabetes, Autoimmune',\n",
       "       'Diabetes-deafness syndrome maternally transmitted (disorder)',\n",
       "       'Fibrocalculous pancreatic diabetes', 'Gestational Diabetes',\n",
       "       'Insulin-dependent diabetes mellitus secretory diarrhea syndrome',\n",
       "       'Insulin-resistant diabetes mellitus',\n",
       "       'K ATP Permanent Neonatal Diabetes',\n",
       "       'Latent Autoimmune Diabetes in Adults',\n",
       "       'Latent autoimmune diabetes mellitus in adult',\n",
       "       'Lymphedema-Distichiasis Syndrome with Renal Disease and Diabetes Mellitus',\n",
       "       'Maculopathy with diabetes mellitus',\n",
       "       'Malnutrition related diabetes mellitus',\n",
       "       'Maturity onset diabetes mellitus in young',\n",
       "       'Maturity-Onset Diabetes of the Young, Type 1',\n",
       "       'Maturity-onset diabetes of the young, type 10',\n",
       "       'Maturity-onset diabetes of the young, type 11',\n",
       "       'Monogenic diabetes', 'Neonatal diabetes mellitus',\n",
       "       'Neonatal insulin-dependent diabetes mellitus',\n",
       "       'Nephrogenic Diabetes Insipidus',\n",
       "       'Nephrogenic Diabetes Insipidus, Type I',\n",
       "       'Nephrogenic Diabetes Insipidus, Type II',\n",
       "       'New Onset Diabetes After Transplant',\n",
       "       'Pancreatic disorders (not diabetes)',\n",
       "       'Partial nephrogenic diabetes insipidus',\n",
       "       'Post transplant diabetes mellitus', 'Pre-Gestational Diabetes',\n",
       "       'Prediabetes syndrome', 'Renal cysts and diabetes syndrome',\n",
       "       'Type 2 diabetes mellitus in obese',\n",
       "       'insulin resistance in diabetes'], dtype=object)"
      ]
     },
     "execution_count": 29,
     "metadata": {},
     "output_type": "execute_result"
    }
   ],
   "source": [
    "np.unique(variant_disease['diseaseName'][Diabetes])"
   ]
  },
  {
   "cell_type": "code",
   "execution_count": 30,
   "id": "09910874",
   "metadata": {},
   "outputs": [],
   "source": [
    "Diabetes = list()\n",
    "for i in range(len(variant_disease['diseaseName'])):\n",
    "    if 'Diabetes Mellitus, Insulin-Dependent' in variant_disease['diseaseName'][i]:\n",
    "        Diabetes.append(i)\n",
    "    if 'Diabetes Mellitus, Ketosis-Prone' in variant_disease['diseaseName'][i]:\n",
    "        Diabetes.append(i)\n",
    "    if 'Diabetes, Autoimmune' in variant_disease['diseaseName'][i]:\n",
    "        Diabetes.append(i)\n",
    "    if 'Neonatal insulin-dependent diabetes mellitus' in variant_disease['diseaseName'][i]:\n",
    "        Diabetes.append(i)"
   ]
  },
  {
   "cell_type": "code",
   "execution_count": 31,
   "id": "9d550e5b",
   "metadata": {},
   "outputs": [
    {
     "data": {
      "text/plain": [
       "array(['Diabetes Mellitus, Insulin-Dependent',\n",
       "       'Diabetes Mellitus, Ketosis-Prone', 'Diabetes, Autoimmune',\n",
       "       'Neonatal insulin-dependent diabetes mellitus'], dtype=object)"
      ]
     },
     "execution_count": 31,
     "metadata": {},
     "output_type": "execute_result"
    }
   ],
   "source": [
    "np.unique(variant_disease['diseaseName'][Diabetes])"
   ]
  },
  {
   "cell_type": "code",
   "execution_count": 32,
   "id": "34963022",
   "metadata": {},
   "outputs": [],
   "source": [
    "#Map the database to the geneSymbol names\n",
    "snpId = variant_disease.loc[Diabetes]['snpId']\n",
    "variant_gene = pd.read_csv(\"../SAR/variant_to_gene_mappings.tsv.gz\", compression='gzip', sep = '\\t')\n",
    "chosen = list()\n",
    "for i in range(len(variant_gene['snpId'])):\n",
    "    if variant_gene['snpId'][i] in np.array(snpId):\n",
    "        chosen.append(i)"
   ]
  },
  {
   "cell_type": "code",
   "execution_count": 33,
   "id": "e10e130b",
   "metadata": {},
   "outputs": [
    {
     "data": {
      "text/plain": [
       "485"
      ]
     },
     "execution_count": 33,
     "metadata": {},
     "output_type": "execute_result"
    }
   ],
   "source": [
    "# Here is the list of GWAS genes that we are interested in\n",
    "GWAS_Diabetes = np.unique(variant_gene.loc[chosen]['geneSymbol'])\n",
    "len(GWAS_Diabetes)"
   ]
  },
  {
   "cell_type": "code",
   "execution_count": null,
   "id": "e0788913",
   "metadata": {},
   "outputs": [],
   "source": []
  },
  {
   "cell_type": "code",
   "execution_count": 34,
   "id": "8fb92d0b",
   "metadata": {},
   "outputs": [],
   "source": [
    "AD = list()\n",
    "for i in range(len(variant_disease['diseaseName'])):\n",
    "    if 'Atopic' in variant_disease['diseaseName'][i]:\n",
    "        AD.append(i)\n",
    "    if 'atopic' in variant_disease['diseaseName'][i]:\n",
    "        AD.append(i)\n"
   ]
  },
  {
   "cell_type": "code",
   "execution_count": 35,
   "id": "757a66c2",
   "metadata": {},
   "outputs": [
    {
     "data": {
      "text/plain": [
       "array(['Adult atopic dermatitis', 'Atopic IgE-mediated allergic disorder',\n",
       "       'Atopic disorders', 'Dermatitis, Atopic', 'Dermatitis, Atopic, 2'],\n",
       "      dtype=object)"
      ]
     },
     "execution_count": 35,
     "metadata": {},
     "output_type": "execute_result"
    }
   ],
   "source": [
    "np.unique(variant_disease['diseaseName'][AD])"
   ]
  },
  {
   "cell_type": "code",
   "execution_count": 36,
   "id": "2cc9d073",
   "metadata": {},
   "outputs": [],
   "source": [
    "AD = list()\n",
    "for i in range(len(variant_disease['diseaseName'])):\n",
    "    if 'Dermatitis, Atopic' in variant_disease['diseaseName'][i]:\n",
    "        AD.append(i)\n"
   ]
  },
  {
   "cell_type": "code",
   "execution_count": 37,
   "id": "0bb91dcc",
   "metadata": {},
   "outputs": [
    {
     "data": {
      "text/plain": [
       "array(['Dermatitis, Atopic', 'Dermatitis, Atopic, 2'], dtype=object)"
      ]
     },
     "execution_count": 37,
     "metadata": {},
     "output_type": "execute_result"
    }
   ],
   "source": [
    "np.unique(variant_disease['diseaseName'][AD])"
   ]
  },
  {
   "cell_type": "code",
   "execution_count": 38,
   "id": "2e8a2884",
   "metadata": {},
   "outputs": [],
   "source": [
    "snpId = variant_disease.loc[AD]['snpId']\n",
    "variant_gene = pd.read_csv(\"../SAR/variant_to_gene_mappings.tsv.gz\", compression='gzip', sep = '\\t')\n",
    "chosen = list()\n",
    "for i in range(len(variant_gene['snpId'])):\n",
    "    if variant_gene['snpId'][i] in np.array(snpId):\n",
    "        chosen.append(i)"
   ]
  },
  {
   "cell_type": "code",
   "execution_count": 39,
   "id": "2933259d",
   "metadata": {},
   "outputs": [
    {
     "data": {
      "text/plain": [
       "143"
      ]
     },
     "execution_count": 39,
     "metadata": {},
     "output_type": "execute_result"
    }
   ],
   "source": [
    "# Here is the list of GWAS genes that we are interested in\n",
    "GWAS_AD = np.unique(variant_gene.loc[chosen]['geneSymbol'])\n",
    "len(GWAS_AD)"
   ]
  },
  {
   "cell_type": "code",
   "execution_count": null,
   "id": "b8a5fcd3",
   "metadata": {},
   "outputs": [],
   "source": []
  },
  {
   "cell_type": "code",
   "execution_count": 40,
   "id": "28b728a1",
   "metadata": {},
   "outputs": [],
   "source": [
    "COL = list()\n",
    "for i in range(len(variant_disease['diseaseName'])):\n",
    "    if 'Lupus' in variant_disease['diseaseName'][i]:\n",
    "        COL.append(i)\n",
    "    if 'lupus' in variant_disease['diseaseName'][i]:\n",
    "        COL.append(i)"
   ]
  },
  {
   "cell_type": "code",
   "execution_count": 41,
   "id": "16518f40",
   "metadata": {},
   "outputs": [
    {
     "data": {
      "text/plain": [
       "array(['Chilblain lupus 1', 'Chilblain lupus erythematosus',\n",
       "       'Lupus Erythematosus', 'Lupus Erythematosus, Cutaneous',\n",
       "       'Lupus Erythematosus, Discoid',\n",
       "       'Lupus Erythematosus, Subacute Cutaneous',\n",
       "       'Lupus Erythematosus, Systemic', 'Lupus Nephritis',\n",
       "       'Lupus Vulgaris', 'Lupus anticoagulant disorder',\n",
       "       'Neonatal Systemic lupus erythematosus',\n",
       "       'Neuropsychiatric Systemic Lupus Erythematosus', 'lupus cutaneous'],\n",
       "      dtype=object)"
      ]
     },
     "execution_count": 41,
     "metadata": {},
     "output_type": "execute_result"
    }
   ],
   "source": [
    "np.unique(variant_disease['diseaseName'][COL])"
   ]
  },
  {
   "cell_type": "code",
   "execution_count": 42,
   "id": "a876511d",
   "metadata": {},
   "outputs": [],
   "source": [
    "COL = list()\n",
    "for i in range(len(variant_disease['diseaseName'])):\n",
    "    if 'Neonatal Systemic lupus erythematosus' in variant_disease['diseaseName'][i]:\n",
    "        COL.append(i)\n",
    "    if 'Neuropsychiatric Systemic Lupus Erythematosus' in variant_disease['diseaseName'][i]:\n",
    "        COL.append(i)"
   ]
  },
  {
   "cell_type": "code",
   "execution_count": 43,
   "id": "f986a6b4",
   "metadata": {},
   "outputs": [
    {
     "data": {
      "text/plain": [
       "array(['Neonatal Systemic lupus erythematosus',\n",
       "       'Neuropsychiatric Systemic Lupus Erythematosus'], dtype=object)"
      ]
     },
     "execution_count": 43,
     "metadata": {},
     "output_type": "execute_result"
    }
   ],
   "source": [
    "np.unique(variant_disease['diseaseName'][COL])"
   ]
  },
  {
   "cell_type": "code",
   "execution_count": 44,
   "id": "9b294188",
   "metadata": {},
   "outputs": [],
   "source": [
    "snpId = variant_disease.loc[COL]['snpId']\n",
    "variant_gene = pd.read_csv(\"../SAR/variant_to_gene_mappings.tsv.gz\", compression='gzip', sep = '\\t')\n",
    "chosen = list()\n",
    "for i in range(len(variant_gene['snpId'])):\n",
    "    if variant_gene['snpId'][i] in np.array(snpId):\n",
    "        chosen.append(i)"
   ]
  },
  {
   "cell_type": "code",
   "execution_count": 45,
   "id": "9f257e3f",
   "metadata": {},
   "outputs": [
    {
     "data": {
      "text/plain": [
       "3"
      ]
     },
     "execution_count": 45,
     "metadata": {},
     "output_type": "execute_result"
    }
   ],
   "source": [
    "# Here is the list of GWAS genes that we are interested in\n",
    "GWAS_COL = np.unique(variant_gene.loc[chosen]['geneSymbol'])\n",
    "len(GWAS_COL)"
   ]
  },
  {
   "cell_type": "code",
   "execution_count": null,
   "id": "d3b02155",
   "metadata": {},
   "outputs": [],
   "source": []
  },
  {
   "cell_type": "code",
   "execution_count": 46,
   "id": "c8742d72",
   "metadata": {},
   "outputs": [],
   "source": [
    "JM = list()\n",
    "for i in range(len(variant_disease['diseaseName'])):\n",
    "    if 'Myositis' in variant_disease['diseaseName'][i]:\n",
    "        JM.append(i)\n",
    "    if 'myositis' in variant_disease['diseaseName'][i]:\n",
    "        JM.append(i)"
   ]
  },
  {
   "cell_type": "code",
   "execution_count": 47,
   "id": "ab3573e6",
   "metadata": {},
   "outputs": [
    {
     "data": {
      "text/plain": [
       "array(['Adult type dermatomyositis', 'Dermatomyositis',\n",
       "       'Dermatomyositis, Childhood Type',\n",
       "       'Eosinophilic myositis (disorder)',\n",
       "       'Inclusion Body Myositis (disorder)', 'Myositis', 'Polymyositis'],\n",
       "      dtype=object)"
      ]
     },
     "execution_count": 47,
     "metadata": {},
     "output_type": "execute_result"
    }
   ],
   "source": [
    "np.unique(variant_disease['diseaseName'][JM])"
   ]
  },
  {
   "cell_type": "code",
   "execution_count": 48,
   "id": "39ce576c",
   "metadata": {},
   "outputs": [],
   "source": [
    "JM = list()\n",
    "for i in range(len(variant_disease['diseaseName'])):\n",
    "    if 'Adult type dermatomyositis' in variant_disease['diseaseName'][i]:\n",
    "        JM.append(i)\n",
    "    if 'Dermatomyositis' in variant_disease['diseaseName'][i]:\n",
    "        JM.append(i)\n",
    "    if 'Myositis' in variant_disease['diseaseName'][i]\\\n",
    "    and 'disorder' not in variant_disease['diseaseName'][i]:\n",
    "        JM.append(i)"
   ]
  },
  {
   "cell_type": "code",
   "execution_count": 49,
   "id": "195d4f5e",
   "metadata": {},
   "outputs": [
    {
     "data": {
      "text/plain": [
       "array(['Adult type dermatomyositis', 'Dermatomyositis',\n",
       "       'Dermatomyositis, Childhood Type', 'Myositis'], dtype=object)"
      ]
     },
     "execution_count": 49,
     "metadata": {},
     "output_type": "execute_result"
    }
   ],
   "source": [
    "np.unique(variant_disease['diseaseName'][JM])"
   ]
  },
  {
   "cell_type": "code",
   "execution_count": 50,
   "id": "079cef26",
   "metadata": {},
   "outputs": [],
   "source": [
    "snpId = variant_disease.loc[JM]['snpId']\n",
    "variant_gene = pd.read_csv(\"../SAR/variant_to_gene_mappings.tsv.gz\", compression='gzip', sep = '\\t')\n",
    "chosen = list()\n",
    "for i in range(len(variant_gene['snpId'])):\n",
    "    if variant_gene['snpId'][i] in np.array(snpId):\n",
    "        chosen.append(i)"
   ]
  },
  {
   "cell_type": "code",
   "execution_count": 51,
   "id": "c95604d7",
   "metadata": {},
   "outputs": [
    {
     "data": {
      "text/plain": [
       "46"
      ]
     },
     "execution_count": 51,
     "metadata": {},
     "output_type": "execute_result"
    }
   ],
   "source": [
    "# Here is the list of GWAS genes that we are interested in\n",
    "GWAS_JM = np.unique(variant_gene.loc[chosen]['geneSymbol'])\n",
    "len(GWAS_JM)"
   ]
  },
  {
   "cell_type": "code",
   "execution_count": null,
   "id": "e9c27710",
   "metadata": {},
   "outputs": [],
   "source": []
  },
  {
   "cell_type": "code",
   "execution_count": 52,
   "id": "2c0688c1",
   "metadata": {},
   "outputs": [],
   "source": [
    "lupus = list()\n",
    "for i in range(len(variant_disease['diseaseName'])):\n",
    "    if 'Lupus' in variant_disease['diseaseName'][i]:\n",
    "        lupus.append(i)\n",
    "    if 'lupus' in variant_disease['diseaseName'][i]:\n",
    "        lupus.append(i)"
   ]
  },
  {
   "cell_type": "code",
   "execution_count": 53,
   "id": "4116ddb9",
   "metadata": {},
   "outputs": [
    {
     "data": {
      "text/plain": [
       "array(['Chilblain lupus 1', 'Chilblain lupus erythematosus',\n",
       "       'Lupus Erythematosus', 'Lupus Erythematosus, Cutaneous',\n",
       "       'Lupus Erythematosus, Discoid',\n",
       "       'Lupus Erythematosus, Subacute Cutaneous',\n",
       "       'Lupus Erythematosus, Systemic', 'Lupus Nephritis',\n",
       "       'Lupus Vulgaris', 'Lupus anticoagulant disorder',\n",
       "       'Neonatal Systemic lupus erythematosus',\n",
       "       'Neuropsychiatric Systemic Lupus Erythematosus', 'lupus cutaneous'],\n",
       "      dtype=object)"
      ]
     },
     "execution_count": 53,
     "metadata": {},
     "output_type": "execute_result"
    }
   ],
   "source": [
    "np.unique(variant_disease['diseaseName'][lupus])"
   ]
  },
  {
   "cell_type": "code",
   "execution_count": 54,
   "id": "7c833fbb",
   "metadata": {},
   "outputs": [],
   "source": [
    "lupus = list()\n",
    "for i in range(len(variant_disease['diseaseName'])):\n",
    "    if 'Lupus Erythematosus' in variant_disease['diseaseName'][i]:\n",
    "        lupus.append(i)\n"
   ]
  },
  {
   "cell_type": "code",
   "execution_count": 55,
   "id": "5f8e68e2",
   "metadata": {},
   "outputs": [
    {
     "data": {
      "text/plain": [
       "array(['Lupus Erythematosus', 'Lupus Erythematosus, Cutaneous',\n",
       "       'Lupus Erythematosus, Discoid',\n",
       "       'Lupus Erythematosus, Subacute Cutaneous',\n",
       "       'Lupus Erythematosus, Systemic',\n",
       "       'Neuropsychiatric Systemic Lupus Erythematosus'], dtype=object)"
      ]
     },
     "execution_count": 55,
     "metadata": {},
     "output_type": "execute_result"
    }
   ],
   "source": [
    "np.unique(variant_disease['diseaseName'][lupus])"
   ]
  },
  {
   "cell_type": "code",
   "execution_count": 56,
   "id": "a9b5ff65",
   "metadata": {},
   "outputs": [],
   "source": [
    "snpId = variant_disease.loc[lupus]['snpId']\n",
    "variant_gene = pd.read_csv(\"../SAR/variant_to_gene_mappings.tsv.gz\", compression='gzip', sep = '\\t')\n",
    "chosen = list()\n",
    "for i in range(len(variant_gene['snpId'])):\n",
    "    if variant_gene['snpId'][i] in np.array(snpId):\n",
    "        chosen.append(i)"
   ]
  },
  {
   "cell_type": "code",
   "execution_count": 57,
   "id": "a36b3497",
   "metadata": {},
   "outputs": [
    {
     "data": {
      "text/plain": [
       "626"
      ]
     },
     "execution_count": 57,
     "metadata": {},
     "output_type": "execute_result"
    }
   ],
   "source": [
    "# Here is the list of GWAS genes that we are interested in\n",
    "GWAS_lupus = np.unique(variant_gene.loc[chosen]['geneSymbol'])\n",
    "len(GWAS_lupus)"
   ]
  },
  {
   "cell_type": "code",
   "execution_count": null,
   "id": "9703e616",
   "metadata": {},
   "outputs": [],
   "source": []
  },
  {
   "cell_type": "code",
   "execution_count": 58,
   "id": "037180b6",
   "metadata": {},
   "outputs": [],
   "source": [
    "LN = list()\n",
    "for i in range(len(variant_disease['diseaseName'])):\n",
    "    if 'Lupus' in variant_disease['diseaseName'][i]:\n",
    "        LN.append(i)\n",
    "    if 'lupus' in variant_disease['diseaseName'][i]:\n",
    "        LN.append(i)"
   ]
  },
  {
   "cell_type": "code",
   "execution_count": 59,
   "id": "80cb4582",
   "metadata": {},
   "outputs": [
    {
     "data": {
      "text/plain": [
       "array(['Chilblain lupus 1', 'Chilblain lupus erythematosus',\n",
       "       'Lupus Erythematosus', 'Lupus Erythematosus, Cutaneous',\n",
       "       'Lupus Erythematosus, Discoid',\n",
       "       'Lupus Erythematosus, Subacute Cutaneous',\n",
       "       'Lupus Erythematosus, Systemic', 'Lupus Nephritis',\n",
       "       'Lupus Vulgaris', 'Lupus anticoagulant disorder',\n",
       "       'Neonatal Systemic lupus erythematosus',\n",
       "       'Neuropsychiatric Systemic Lupus Erythematosus', 'lupus cutaneous'],\n",
       "      dtype=object)"
      ]
     },
     "execution_count": 59,
     "metadata": {},
     "output_type": "execute_result"
    }
   ],
   "source": [
    "np.unique(variant_disease['diseaseName'][LN])"
   ]
  },
  {
   "cell_type": "code",
   "execution_count": 60,
   "id": "ee41e4df",
   "metadata": {},
   "outputs": [],
   "source": [
    "LN = list()\n",
    "for i in range(len(variant_disease['diseaseName'])):\n",
    "    if 'Lupus Nephritis' in variant_disease['diseaseName'][i]:\n",
    "        LN.append(i)\n"
   ]
  },
  {
   "cell_type": "code",
   "execution_count": 61,
   "id": "9a108ecd",
   "metadata": {},
   "outputs": [
    {
     "data": {
      "text/plain": [
       "array(['Lupus Nephritis'], dtype=object)"
      ]
     },
     "execution_count": 61,
     "metadata": {},
     "output_type": "execute_result"
    }
   ],
   "source": [
    "np.unique(variant_disease['diseaseName'][LN])"
   ]
  },
  {
   "cell_type": "code",
   "execution_count": 62,
   "id": "20ea0c2e",
   "metadata": {},
   "outputs": [],
   "source": [
    "snpId = variant_disease.loc[LN]['snpId']\n",
    "variant_gene = pd.read_csv(\"../SAR/variant_to_gene_mappings.tsv.gz\", compression='gzip', sep = '\\t')\n",
    "chosen = list()\n",
    "for i in range(len(variant_gene['snpId'])):\n",
    "    if variant_gene['snpId'][i] in np.array(snpId):\n",
    "        chosen.append(i)"
   ]
  },
  {
   "cell_type": "code",
   "execution_count": 63,
   "id": "73a199c0",
   "metadata": {},
   "outputs": [
    {
     "data": {
      "text/plain": [
       "53"
      ]
     },
     "execution_count": 63,
     "metadata": {},
     "output_type": "execute_result"
    }
   ],
   "source": [
    "# Here is the list of GWAS genes that we are interested in\n",
    "GWAS_LN = np.unique(variant_gene.loc[chosen]['geneSymbol'])\n",
    "len(GWAS_LN)"
   ]
  },
  {
   "cell_type": "code",
   "execution_count": null,
   "id": "945f8e59",
   "metadata": {},
   "outputs": [],
   "source": []
  },
  {
   "cell_type": "code",
   "execution_count": 64,
   "id": "4917592c",
   "metadata": {},
   "outputs": [],
   "source": [
    "P = list()\n",
    "for i in range(len(variant_disease['diseaseName'])):\n",
    "    if 'Psoriasis' in variant_disease['diseaseName'][i]:\n",
    "        P.append(i)\n",
    "    if 'psoriasis' in variant_disease['diseaseName'][i]:\n",
    "        P.append(i)"
   ]
  },
  {
   "cell_type": "code",
   "execution_count": 65,
   "id": "4966715a",
   "metadata": {},
   "outputs": [
    {
     "data": {
      "text/plain": [
       "array(['Chronic small plaque psoriasis',\n",
       "       'Chronic stable plaque psoriasis', 'Familial psoriasis',\n",
       "       'Generalized pustular psoriasis', 'Guttate psoriasis', 'Psoriasis',\n",
       "       'Psoriasis vulgaris', 'Pustular psoriasis'], dtype=object)"
      ]
     },
     "execution_count": 65,
     "metadata": {},
     "output_type": "execute_result"
    }
   ],
   "source": [
    "np.unique(variant_disease['diseaseName'][P])"
   ]
  },
  {
   "cell_type": "code",
   "execution_count": 66,
   "id": "285e210d",
   "metadata": {},
   "outputs": [],
   "source": [
    "P = list()\n",
    "for i in range(len(variant_disease['diseaseName'])):\n",
    "    if 'Psoriasis' in variant_disease['diseaseName'][i]\\\n",
    "    and 'vulgaris' not in variant_disease['diseaseName'][i]:\n",
    "        P.append(i)\n"
   ]
  },
  {
   "cell_type": "code",
   "execution_count": 67,
   "id": "d35a2205",
   "metadata": {},
   "outputs": [
    {
     "data": {
      "text/plain": [
       "array(['Psoriasis'], dtype=object)"
      ]
     },
     "execution_count": 67,
     "metadata": {},
     "output_type": "execute_result"
    }
   ],
   "source": [
    "np.unique(variant_disease['diseaseName'][P])"
   ]
  },
  {
   "cell_type": "code",
   "execution_count": 68,
   "id": "35d0ef84",
   "metadata": {},
   "outputs": [],
   "source": [
    "snpId = variant_disease.loc[P]['snpId']\n",
    "variant_gene = pd.read_csv(\"../SAR/variant_to_gene_mappings.tsv.gz\", compression='gzip', sep = '\\t')\n",
    "chosen = list()\n",
    "for i in range(len(variant_gene['snpId'])):\n",
    "    if variant_gene['snpId'][i] in np.array(snpId):\n",
    "        chosen.append(i)"
   ]
  },
  {
   "cell_type": "code",
   "execution_count": 69,
   "id": "f3719aef",
   "metadata": {},
   "outputs": [
    {
     "data": {
      "text/plain": [
       "416"
      ]
     },
     "execution_count": 69,
     "metadata": {},
     "output_type": "execute_result"
    }
   ],
   "source": [
    "# Here is the list of GWAS genes that we are interested in\n",
    "GWAS_P = np.unique(variant_gene.loc[chosen]['geneSymbol'])\n",
    "len(GWAS_P)"
   ]
  },
  {
   "cell_type": "code",
   "execution_count": null,
   "id": "d4433d9d",
   "metadata": {},
   "outputs": [],
   "source": []
  },
  {
   "cell_type": "code",
   "execution_count": 70,
   "id": "b3e93688",
   "metadata": {},
   "outputs": [],
   "source": [
    "SCLE = list()\n",
    "for i in range(len(variant_disease['diseaseName'])):\n",
    "    if 'lupus' in variant_disease['diseaseName'][i]:\n",
    "        SCLE.append(i)\n",
    "    if 'Lupus' in variant_disease['diseaseName'][i]:\n",
    "        SCLE.append(i)"
   ]
  },
  {
   "cell_type": "code",
   "execution_count": 71,
   "id": "c59ba1b7",
   "metadata": {},
   "outputs": [
    {
     "data": {
      "text/plain": [
       "array(['Chilblain lupus 1', 'Chilblain lupus erythematosus',\n",
       "       'Lupus Erythematosus', 'Lupus Erythematosus, Cutaneous',\n",
       "       'Lupus Erythematosus, Discoid',\n",
       "       'Lupus Erythematosus, Subacute Cutaneous',\n",
       "       'Lupus Erythematosus, Systemic', 'Lupus Nephritis',\n",
       "       'Lupus Vulgaris', 'Lupus anticoagulant disorder',\n",
       "       'Neonatal Systemic lupus erythematosus',\n",
       "       'Neuropsychiatric Systemic Lupus Erythematosus', 'lupus cutaneous'],\n",
       "      dtype=object)"
      ]
     },
     "execution_count": 71,
     "metadata": {},
     "output_type": "execute_result"
    }
   ],
   "source": [
    "np.unique(variant_disease['diseaseName'][SCLE])"
   ]
  },
  {
   "cell_type": "code",
   "execution_count": 72,
   "id": "d44dae8c",
   "metadata": {},
   "outputs": [],
   "source": [
    "SCLE = list()\n",
    "for i in range(len(variant_disease['diseaseName'])):\n",
    "    if 'Lupus Erythematosus, Subacute Cutaneous' in variant_disease['diseaseName'][i]:\n",
    "        SCLE.append(i)\n"
   ]
  },
  {
   "cell_type": "code",
   "execution_count": 73,
   "id": "757d2701",
   "metadata": {},
   "outputs": [
    {
     "data": {
      "text/plain": [
       "array(['Lupus Erythematosus, Subacute Cutaneous'], dtype=object)"
      ]
     },
     "execution_count": 73,
     "metadata": {},
     "output_type": "execute_result"
    }
   ],
   "source": [
    "np.unique(variant_disease['diseaseName'][SCLE])"
   ]
  },
  {
   "cell_type": "code",
   "execution_count": 74,
   "id": "2987cf55",
   "metadata": {},
   "outputs": [],
   "source": [
    "snpId = variant_disease.loc[SCLE]['snpId']\n",
    "variant_gene = pd.read_csv(\"../SAR/variant_to_gene_mappings.tsv.gz\", compression='gzip', sep = '\\t')\n",
    "chosen = list()\n",
    "for i in range(len(variant_gene['snpId'])):\n",
    "    if variant_gene['snpId'][i] in np.array(snpId):\n",
    "        chosen.append(i)"
   ]
  },
  {
   "cell_type": "code",
   "execution_count": 75,
   "id": "97532fad",
   "metadata": {},
   "outputs": [
    {
     "data": {
      "text/plain": [
       "1"
      ]
     },
     "execution_count": 75,
     "metadata": {},
     "output_type": "execute_result"
    }
   ],
   "source": [
    "# Here is the list of GWAS genes that we are interested in\n",
    "GWAS_SCLE = np.unique(variant_gene.loc[chosen]['geneSymbol'])\n",
    "len(GWAS_SCLE)"
   ]
  },
  {
   "cell_type": "code",
   "execution_count": null,
   "id": "b47f3701",
   "metadata": {},
   "outputs": [],
   "source": []
  },
  {
   "cell_type": "code",
   "execution_count": 76,
   "id": "f3856686",
   "metadata": {},
   "outputs": [],
   "source": [
    "SyS = list()\n",
    "for i in range(len(variant_disease['diseaseName'])):\n",
    "    if 'scleroderma' in variant_disease['diseaseName'][i]:\n",
    "        SyS.append(i)\n",
    "    if 'Scleroderma' in variant_disease['diseaseName'][i]:\n",
    "        SyS.append(i)"
   ]
  },
  {
   "cell_type": "code",
   "execution_count": 77,
   "id": "5b11cad0",
   "metadata": {},
   "outputs": [
    {
     "data": {
      "text/plain": [
       "array(['Diffuse Scleroderma', 'Scleroderma', 'Scleroderma, Limited',\n",
       "       'Systemic Scleroderma'], dtype=object)"
      ]
     },
     "execution_count": 77,
     "metadata": {},
     "output_type": "execute_result"
    }
   ],
   "source": [
    "np.unique(variant_disease['diseaseName'][SyS])"
   ]
  },
  {
   "cell_type": "code",
   "execution_count": 78,
   "id": "2eb54b56",
   "metadata": {},
   "outputs": [],
   "source": [
    "SyS = list()\n",
    "for i in range(len(variant_disease['diseaseName'])):\n",
    "    if 'Systemic Scleroderma' in variant_disease['diseaseName'][i]:\n",
    "        SyS.append(i)"
   ]
  },
  {
   "cell_type": "code",
   "execution_count": 79,
   "id": "dcb47526",
   "metadata": {},
   "outputs": [
    {
     "data": {
      "text/plain": [
       "array(['Systemic Scleroderma'], dtype=object)"
      ]
     },
     "execution_count": 79,
     "metadata": {},
     "output_type": "execute_result"
    }
   ],
   "source": [
    "np.unique(variant_disease['diseaseName'][SyS])"
   ]
  },
  {
   "cell_type": "code",
   "execution_count": 80,
   "id": "1dc130de",
   "metadata": {},
   "outputs": [],
   "source": [
    "snpId = variant_disease.loc[SyS]['snpId']\n",
    "variant_gene = pd.read_csv(\"../SAR/variant_to_gene_mappings.tsv.gz\", compression='gzip', sep = '\\t')\n",
    "chosen = list()\n",
    "for i in range(len(variant_gene['snpId'])):\n",
    "    if variant_gene['snpId'][i] in np.array(snpId):\n",
    "        chosen.append(i)"
   ]
  },
  {
   "cell_type": "code",
   "execution_count": 81,
   "id": "069857be",
   "metadata": {},
   "outputs": [
    {
     "data": {
      "text/plain": [
       "171"
      ]
     },
     "execution_count": 81,
     "metadata": {},
     "output_type": "execute_result"
    }
   ],
   "source": [
    "# Here is the list of GWAS genes that we are interested in\n",
    "GWAS_SyS = np.unique(variant_gene.loc[chosen]['geneSymbol'])\n",
    "len(GWAS_SyS)"
   ]
  },
  {
   "cell_type": "code",
   "execution_count": null,
   "id": "a0bc2196",
   "metadata": {},
   "outputs": [],
   "source": []
  },
  {
   "cell_type": "code",
   "execution_count": 82,
   "id": "beac151a",
   "metadata": {},
   "outputs": [],
   "source": [
    "UC = list()\n",
    "for i in range(len(variant_disease['diseaseName'])):\n",
    "    if 'Ulcerative' in variant_disease['diseaseName'][i]:\n",
    "        UC.append(i)\n",
    "    if 'ulcerative' in variant_disease['diseaseName'][i]:\n",
    "        UC.append(i)"
   ]
  },
  {
   "cell_type": "code",
   "execution_count": 83,
   "id": "47c09a97",
   "metadata": {},
   "outputs": [
    {
     "data": {
      "text/plain": [
       "array(['Ulcerative Colitis', \"Ulcerative colitis or Crohn's\"],\n",
       "      dtype=object)"
      ]
     },
     "execution_count": 83,
     "metadata": {},
     "output_type": "execute_result"
    }
   ],
   "source": [
    "np.unique(variant_disease['diseaseName'][UC])"
   ]
  },
  {
   "cell_type": "code",
   "execution_count": 84,
   "id": "cc4d5337",
   "metadata": {},
   "outputs": [],
   "source": [
    "UC = list()\n",
    "for i in range(len(variant_disease['diseaseName'])):\n",
    "    if 'Ulcerative Colitis' in variant_disease['diseaseName'][i]:\n",
    "        UC.append(i)\n"
   ]
  },
  {
   "cell_type": "code",
   "execution_count": 85,
   "id": "63965d4b",
   "metadata": {},
   "outputs": [
    {
     "data": {
      "text/plain": [
       "array(['Ulcerative Colitis'], dtype=object)"
      ]
     },
     "execution_count": 85,
     "metadata": {},
     "output_type": "execute_result"
    }
   ],
   "source": [
    "np.unique(variant_disease['diseaseName'][UC])"
   ]
  },
  {
   "cell_type": "code",
   "execution_count": 86,
   "id": "add984bc",
   "metadata": {},
   "outputs": [],
   "source": [
    "snpId = variant_disease.loc[UC]['snpId']\n",
    "variant_gene = pd.read_csv(\"../SAR/variant_to_gene_mappings.tsv.gz\", compression='gzip', sep = '\\t')\n",
    "chosen = list()\n",
    "for i in range(len(variant_gene['snpId'])):\n",
    "    if variant_gene['snpId'][i] in np.array(snpId):\n",
    "        chosen.append(i)"
   ]
  },
  {
   "cell_type": "code",
   "execution_count": 87,
   "id": "b3b72a54",
   "metadata": {},
   "outputs": [
    {
     "data": {
      "text/plain": [
       "452"
      ]
     },
     "execution_count": 87,
     "metadata": {},
     "output_type": "execute_result"
    }
   ],
   "source": [
    "# Here is the list of GWAS genes that we are interested in\n",
    "GWAS_UC = np.unique(variant_gene.loc[chosen]['geneSymbol'])\n",
    "len(GWAS_UC)"
   ]
  },
  {
   "cell_type": "code",
   "execution_count": 88,
   "id": "de0054ce",
   "metadata": {},
   "outputs": [],
   "source": [
    "GWAS_list = list((GWAS_UC, GWAS_UC, GWAS_UC, GWAS_lupus, GWAS_SCLE, GWAS_COL, GWAS_JM, GWAS_JM, GWAS_P, GWAS_AD,\\\n",
    "                  GWAS_CD, GWAS_CD, GWAS_SjS, GWAS_CD, GWAS_CD, GWAS_CD, GWAS_UC, GWAS_UC, GWAS_P, GWAS_RA,\\\n",
    "                  GWAS_LN, GWAS_AD, GWAS_AD, GWAS_SjS, GWAS_RA, GWAS_Diabetes, GWAS_CD, GWAS_UC, GWAS_DLE,\\\n",
    "                  GWAS_SCLE, GWAS_SyS, GWAS_SyS))"
   ]
  },
  {
   "cell_type": "code",
   "execution_count": 89,
   "id": "a7dfd434",
   "metadata": {},
   "outputs": [],
   "source": [
    "GWAS_list = list((GWAS_UC, GWAS_UC, GWAS_UC, GWAS_lupus, GWAS_lupus, GWAS_lupus, GWAS_JM, GWAS_JM, GWAS_P, GWAS_AD,\\\n",
    "                  GWAS_CD, GWAS_CD, GWAS_SjS, GWAS_CD, GWAS_CD, GWAS_CD, GWAS_UC, GWAS_UC, GWAS_P, GWAS_RA,\\\n",
    "                  GWAS_LN, GWAS_AD, GWAS_AD, GWAS_SjS, GWAS_RA, GWAS_Diabetes, GWAS_CD, GWAS_UC, GWAS_lupus,\\\n",
    "                  GWAS_lupus, GWAS_SyS, GWAS_SyS))"
   ]
  },
  {
   "cell_type": "code",
   "execution_count": 109,
   "id": "c1fe88b2",
   "metadata": {},
   "outputs": [
    {
     "data": {
      "text/plain": [
       "['GSE11223_UC_colon_inactive.csv',\n",
       " 'GSE11223_UC_descending_colon.csv',\n",
       " 'GSE11223_UC_sigmoid_colon.csv',\n",
       " 'GSE112943_lupus_kidney.csv',\n",
       " 'GSE112943_lupus_subacute_cutaneous.csv',\n",
       " 'GSE148810_cSLE_skin.csv',\n",
       " 'GSE148810_JM_skin.csv',\n",
       " 'GSE148810_JM_skin_inactive.csv',\n",
       " 'GSE14905_PSO_skin_inactive.csv',\n",
       " 'GSE16161_AD_skin.csv',\n",
       " 'GSE16879_CD_colon.csv',\n",
       " 'GSE16879_CD_ileum.csv',\n",
       " 'GSE176510_SS_kerato_conjunctivitis.csv',\n",
       " 'GSE179285_CD_ascending_colon.csv',\n",
       " 'GSE179285_CD_ascending_descending_colon_inactive.csv',\n",
       " 'GSE179285_CD_terminal_ileum.csv',\n",
       " 'GSE179285_UC_ascending_descending_colon_inactive.csv',\n",
       " 'GSE179285_UC_sigmoid_colon.csv',\n",
       " 'GSE181318_PSO_skin.csv',\n",
       " 'GSE1919_RA_synovium.csv',\n",
       " 'GSE32591_LN_glomeruli_compartment.csv',\n",
       " 'GSE32924_AD_skin.csv',\n",
       " 'GSE32924_AD_skin_inactive.csv',\n",
       " 'GSE40568_SS_salivary_gland.csv',\n",
       " 'GSE55235_RA_synovium.csv',\n",
       " 'GSE66413_at_risk_T1D_pancreatic_lymph_nodes.csv',\n",
       " 'GSE75214_CD_ileum_inactive.csv',\n",
       " 'GSE75214_UC_colon_inactive.csv',\n",
       " 'GSE81071_DLE_skin.csv',\n",
       " 'GSE81071_SCLE_skin.csv',\n",
       " 'GSE81292_SSc_lung.csv',\n",
       " 'GSE95065_SSc_skin.csv']"
      ]
     },
     "execution_count": 109,
     "metadata": {},
     "output_type": "execute_result"
    }
   ],
   "source": [
    "datasets"
   ]
  },
  {
   "cell_type": "code",
   "execution_count": 90,
   "id": "abed260b",
   "metadata": {},
   "outputs": [],
   "source": [
    "datasets = !ls background_genes_for_Martin/"
   ]
  },
  {
   "cell_type": "code",
   "execution_count": 103,
   "id": "a7500dd7",
   "metadata": {},
   "outputs": [],
   "source": [
    "#pathways_all = pd.read_csv('TreeStructure_nodes2_AID_noblood_all_pathways.txt', sep = '\\t') \n",
    "pathways_all = pd.read_csv('PathInfo_AID_noblood.csv') \n",
    "\n",
    "#pathways_cluster1 = pd.read_csv('TreeStructure_nodes2_AID_noblood.txt', sep = '\\t') \n",
    "pathways_cluster1 = pd.read_csv('TreeStructure_nodes2_CLUSTER2_AID_noblood.txt', sep = '\\t') \n"
   ]
  },
  {
   "cell_type": "code",
   "execution_count": null,
   "id": "f8f3161a",
   "metadata": {},
   "outputs": [],
   "source": []
  },
  {
   "cell_type": "code",
   "execution_count": 95,
   "id": "a7e3246d",
   "metadata": {},
   "outputs": [],
   "source": [
    "\n",
    "\n",
    "\n",
    "\"\"\"Cluster 1\"\"\"\n",
    "pathways = pathways_all.loc[np.where(pathways_all['IngenuityCanonicalPathways'].isin\\\n",
    "                          (pathways_cluster1['IngenuityCanonicalPathways']))[0]]\n",
    "\"\"\"Cluster 2\"\"\"\n",
    "pathways = pathways_all.loc[np.where(~pathways_all['IngenuityCanonicalPathways'].isin\\\n",
    "                          (pathways_cluster1['IngenuityCanonicalPathways']))[0]]\n",
    "\n",
    "\n",
    "pathways.index = np.array(range(len(pathways.index)))\n",
    "\n",
    "odds_list = list()\n",
    "pval_list = list()\n",
    "names = list()\n",
    "DEGs_count = list()\n",
    "for i in range(len(datasets)):\n",
    "        \n",
    "    genes = pd.read_csv('background_genes_for_Martin/' + str(datasets[i]))\n",
    "    background_genes = np.array(genes.loc[np.where(genes['isDE'] == 1)[0]]['AllMeasuredGenes'])\n",
    "    \n",
    "    \n",
    "    DEGs = list()\n",
    "    for k in range(len(pathways.index)): \n",
    "        p = pathways.loc[k]\n",
    "        DEGs.append(str(p['AllMolecules']).split(','))\n",
    "    DEGs = np.concatenate(DEGs)\n",
    "    DEGs = np.unique(DEGs)\n",
    "    \n",
    "\n",
    "\n",
    "    background_genes = np.unique(background_genes)\n",
    "    DEGs = np.intersect1d(DEGs, background_genes)\n",
    "    GWAS = np.unique(GWAS_list[i])\n",
    "    \n",
    "    #print(len(np.intersect1d(GWAS, background_genes)))\n",
    "    #print(len(background_genes))\n",
    "    nonDEGs = list(set(background_genes) - set(DEGs))                \n",
    "    table11 = len(np.intersect1d(GWAS, DEGs))\n",
    "    table12 = len(DEGs) - table11\n",
    "    table21 = len(np.intersect1d(GWAS, nonDEGs))\n",
    "    table22 = len(background_genes) - (table21 + table12 + table11)\n",
    "    table = pd.DataFrame([[table11, table12], [table21, table22]])\n",
    "    table.index = ('DEGs', 'nonDEGs')\n",
    "    table.columns = ('GWAS', 'nonGWAS')\n",
    "    #print(datasets[i].split('.')[0])\n",
    "    #print(table)\n",
    "    odds, pval = stats.fisher_exact(table, alternative = 'greater')\n",
    "    odds_list.append(odds)\n",
    "    pval_list.append(pval)\n",
    "    names.append(datasets[i].split('.')[0])\n",
    "    DEGs_count.append(int(len(background_genes)))\n",
    "    "
   ]
  },
  {
   "cell_type": "code",
   "execution_count": 96,
   "id": "56353df7",
   "metadata": {},
   "outputs": [],
   "source": [
    "GWAS_summary = pd.DataFrame((odds_list, pval_list, DEGs_count), columns = names, index = ('odds', 'pval', 'background_genes_count')).transpose()"
   ]
  },
  {
   "cell_type": "code",
   "execution_count": 97,
   "id": "60d5348e",
   "metadata": {},
   "outputs": [
    {
     "data": {
      "text/html": [
       "<div>\n",
       "<style scoped>\n",
       "    .dataframe tbody tr th:only-of-type {\n",
       "        vertical-align: middle;\n",
       "    }\n",
       "\n",
       "    .dataframe tbody tr th {\n",
       "        vertical-align: top;\n",
       "    }\n",
       "\n",
       "    .dataframe thead th {\n",
       "        text-align: right;\n",
       "    }\n",
       "</style>\n",
       "<table border=\"1\" class=\"dataframe\">\n",
       "  <thead>\n",
       "    <tr style=\"text-align: right;\">\n",
       "      <th></th>\n",
       "      <th>odds</th>\n",
       "      <th>pval</th>\n",
       "      <th>background_genes_count</th>\n",
       "    </tr>\n",
       "  </thead>\n",
       "  <tbody>\n",
       "    <tr>\n",
       "      <th>GSE112943_lupus_kidney</th>\n",
       "      <td>3.231743</td>\n",
       "      <td>1.171217e-22</td>\n",
       "      <td>11467.0</td>\n",
       "    </tr>\n",
       "    <tr>\n",
       "      <th>GSE112943_lupus_subacute_cutaneous</th>\n",
       "      <td>3.238647</td>\n",
       "      <td>1.233324e-17</td>\n",
       "      <td>7529.0</td>\n",
       "    </tr>\n",
       "    <tr>\n",
       "      <th>GSE16879_CD_colon</th>\n",
       "      <td>3.762721</td>\n",
       "      <td>1.663461e-14</td>\n",
       "      <td>3864.0</td>\n",
       "    </tr>\n",
       "    <tr>\n",
       "      <th>GSE179285_UC_sigmoid_colon</th>\n",
       "      <td>3.462475</td>\n",
       "      <td>2.434899e-14</td>\n",
       "      <td>6901.0</td>\n",
       "    </tr>\n",
       "    <tr>\n",
       "      <th>GSE179285_CD_ascending_colon</th>\n",
       "      <td>3.093969</td>\n",
       "      <td>2.791519e-13</td>\n",
       "      <td>5829.0</td>\n",
       "    </tr>\n",
       "    <tr>\n",
       "      <th>GSE55235_RA_synovium</th>\n",
       "      <td>3.583401</td>\n",
       "      <td>3.846921e-12</td>\n",
       "      <td>2282.0</td>\n",
       "    </tr>\n",
       "    <tr>\n",
       "      <th>GSE179285_CD_terminal_ileum</th>\n",
       "      <td>4.050067</td>\n",
       "      <td>2.878465e-11</td>\n",
       "      <td>3358.0</td>\n",
       "    </tr>\n",
       "    <tr>\n",
       "      <th>GSE11223_UC_sigmoid_colon</th>\n",
       "      <td>3.345693</td>\n",
       "      <td>5.721294e-11</td>\n",
       "      <td>6229.0</td>\n",
       "    </tr>\n",
       "    <tr>\n",
       "      <th>GSE148810_cSLE_skin</th>\n",
       "      <td>7.222222</td>\n",
       "      <td>2.209685e-10</td>\n",
       "      <td>584.0</td>\n",
       "    </tr>\n",
       "    <tr>\n",
       "      <th>GSE1919_RA_synovium</th>\n",
       "      <td>7.057260</td>\n",
       "      <td>5.697360e-07</td>\n",
       "      <td>406.0</td>\n",
       "    </tr>\n",
       "    <tr>\n",
       "      <th>GSE11223_UC_descending_colon</th>\n",
       "      <td>2.897461</td>\n",
       "      <td>2.619328e-06</td>\n",
       "      <td>4073.0</td>\n",
       "    </tr>\n",
       "    <tr>\n",
       "      <th>GSE181318_PSO_skin</th>\n",
       "      <td>3.528236</td>\n",
       "      <td>5.769895e-06</td>\n",
       "      <td>3612.0</td>\n",
       "    </tr>\n",
       "    <tr>\n",
       "      <th>GSE14905_PSO_skin_inactive</th>\n",
       "      <td>2.647153</td>\n",
       "      <td>1.226637e-05</td>\n",
       "      <td>4724.0</td>\n",
       "    </tr>\n",
       "    <tr>\n",
       "      <th>GSE75214_CD_ileum_inactive</th>\n",
       "      <td>4.642205</td>\n",
       "      <td>2.781179e-05</td>\n",
       "      <td>1122.0</td>\n",
       "    </tr>\n",
       "    <tr>\n",
       "      <th>GSE16879_CD_ileum</th>\n",
       "      <td>3.493787</td>\n",
       "      <td>1.199674e-04</td>\n",
       "      <td>1213.0</td>\n",
       "    </tr>\n",
       "    <tr>\n",
       "      <th>GSE75214_UC_colon_inactive</th>\n",
       "      <td>2.691242</td>\n",
       "      <td>1.292724e-04</td>\n",
       "      <td>2661.0</td>\n",
       "    </tr>\n",
       "    <tr>\n",
       "      <th>GSE95065_SSc_skin</th>\n",
       "      <td>3.029730</td>\n",
       "      <td>4.648722e-04</td>\n",
       "      <td>4533.0</td>\n",
       "    </tr>\n",
       "    <tr>\n",
       "      <th>GSE81292_SSc_lung</th>\n",
       "      <td>4.260404</td>\n",
       "      <td>8.576912e-04</td>\n",
       "      <td>2828.0</td>\n",
       "    </tr>\n",
       "    <tr>\n",
       "      <th>GSE32591_LN_glomeruli_compartment</th>\n",
       "      <td>8.285497</td>\n",
       "      <td>2.918042e-03</td>\n",
       "      <td>4055.0</td>\n",
       "    </tr>\n",
       "    <tr>\n",
       "      <th>GSE16161_AD_skin</th>\n",
       "      <td>1.898058</td>\n",
       "      <td>5.096132e-03</td>\n",
       "      <td>17401.0</td>\n",
       "    </tr>\n",
       "    <tr>\n",
       "      <th>GSE32924_AD_skin_inactive</th>\n",
       "      <td>2.194054</td>\n",
       "      <td>4.128474e-02</td>\n",
       "      <td>4457.0</td>\n",
       "    </tr>\n",
       "    <tr>\n",
       "      <th>GSE179285_CD_ascending_descending_colon_inactive</th>\n",
       "      <td>3.595960</td>\n",
       "      <td>9.726875e-02</td>\n",
       "      <td>251.0</td>\n",
       "    </tr>\n",
       "    <tr>\n",
       "      <th>GSE32924_AD_skin</th>\n",
       "      <td>1.671489</td>\n",
       "      <td>1.095877e-01</td>\n",
       "      <td>5525.0</td>\n",
       "    </tr>\n",
       "    <tr>\n",
       "      <th>GSE148810_JM_skin</th>\n",
       "      <td>inf</td>\n",
       "      <td>1.728201e-01</td>\n",
       "      <td>134.0</td>\n",
       "    </tr>\n",
       "    <tr>\n",
       "      <th>GSE81071_DLE_skin</th>\n",
       "      <td>2.689655</td>\n",
       "      <td>1.805455e-01</td>\n",
       "      <td>167.0</td>\n",
       "    </tr>\n",
       "    <tr>\n",
       "      <th>GSE40568_SS_salivary_gland</th>\n",
       "      <td>inf</td>\n",
       "      <td>2.107143e-01</td>\n",
       "      <td>280.0</td>\n",
       "    </tr>\n",
       "    <tr>\n",
       "      <th>GSE66413_at_risk_T1D_pancreatic_lymph_nodes</th>\n",
       "      <td>inf</td>\n",
       "      <td>3.157895e-01</td>\n",
       "      <td>57.0</td>\n",
       "    </tr>\n",
       "    <tr>\n",
       "      <th>GSE11223_UC_colon_inactive</th>\n",
       "      <td>inf</td>\n",
       "      <td>3.589744e-01</td>\n",
       "      <td>39.0</td>\n",
       "    </tr>\n",
       "    <tr>\n",
       "      <th>GSE179285_UC_ascending_descending_colon_inactive</th>\n",
       "      <td>0.752308</td>\n",
       "      <td>7.631560e-01</td>\n",
       "      <td>697.0</td>\n",
       "    </tr>\n",
       "    <tr>\n",
       "      <th>GSE176510_SS_kerato_conjunctivitis</th>\n",
       "      <td>0.184211</td>\n",
       "      <td>9.740981e-01</td>\n",
       "      <td>47.0</td>\n",
       "    </tr>\n",
       "    <tr>\n",
       "      <th>GSE148810_JM_skin_inactive</th>\n",
       "      <td>0.000000</td>\n",
       "      <td>1.000000e+00</td>\n",
       "      <td>643.0</td>\n",
       "    </tr>\n",
       "    <tr>\n",
       "      <th>GSE81071_SCLE_skin</th>\n",
       "      <td>0.000000</td>\n",
       "      <td>1.000000e+00</td>\n",
       "      <td>131.0</td>\n",
       "    </tr>\n",
       "  </tbody>\n",
       "</table>\n",
       "</div>"
      ],
      "text/plain": [
       "                                                      odds          pval  \\\n",
       "GSE112943_lupus_kidney                            3.231743  1.171217e-22   \n",
       "GSE112943_lupus_subacute_cutaneous                3.238647  1.233324e-17   \n",
       "GSE16879_CD_colon                                 3.762721  1.663461e-14   \n",
       "GSE179285_UC_sigmoid_colon                        3.462475  2.434899e-14   \n",
       "GSE179285_CD_ascending_colon                      3.093969  2.791519e-13   \n",
       "GSE55235_RA_synovium                              3.583401  3.846921e-12   \n",
       "GSE179285_CD_terminal_ileum                       4.050067  2.878465e-11   \n",
       "GSE11223_UC_sigmoid_colon                         3.345693  5.721294e-11   \n",
       "GSE148810_cSLE_skin                               7.222222  2.209685e-10   \n",
       "GSE1919_RA_synovium                               7.057260  5.697360e-07   \n",
       "GSE11223_UC_descending_colon                      2.897461  2.619328e-06   \n",
       "GSE181318_PSO_skin                                3.528236  5.769895e-06   \n",
       "GSE14905_PSO_skin_inactive                        2.647153  1.226637e-05   \n",
       "GSE75214_CD_ileum_inactive                        4.642205  2.781179e-05   \n",
       "GSE16879_CD_ileum                                 3.493787  1.199674e-04   \n",
       "GSE75214_UC_colon_inactive                        2.691242  1.292724e-04   \n",
       "GSE95065_SSc_skin                                 3.029730  4.648722e-04   \n",
       "GSE81292_SSc_lung                                 4.260404  8.576912e-04   \n",
       "GSE32591_LN_glomeruli_compartment                 8.285497  2.918042e-03   \n",
       "GSE16161_AD_skin                                  1.898058  5.096132e-03   \n",
       "GSE32924_AD_skin_inactive                         2.194054  4.128474e-02   \n",
       "GSE179285_CD_ascending_descending_colon_inactive  3.595960  9.726875e-02   \n",
       "GSE32924_AD_skin                                  1.671489  1.095877e-01   \n",
       "GSE148810_JM_skin                                      inf  1.728201e-01   \n",
       "GSE81071_DLE_skin                                 2.689655  1.805455e-01   \n",
       "GSE40568_SS_salivary_gland                             inf  2.107143e-01   \n",
       "GSE66413_at_risk_T1D_pancreatic_lymph_nodes            inf  3.157895e-01   \n",
       "GSE11223_UC_colon_inactive                             inf  3.589744e-01   \n",
       "GSE179285_UC_ascending_descending_colon_inactive  0.752308  7.631560e-01   \n",
       "GSE176510_SS_kerato_conjunctivitis                0.184211  9.740981e-01   \n",
       "GSE148810_JM_skin_inactive                        0.000000  1.000000e+00   \n",
       "GSE81071_SCLE_skin                                0.000000  1.000000e+00   \n",
       "\n",
       "                                                  background_genes_count  \n",
       "GSE112943_lupus_kidney                                           11467.0  \n",
       "GSE112943_lupus_subacute_cutaneous                                7529.0  \n",
       "GSE16879_CD_colon                                                 3864.0  \n",
       "GSE179285_UC_sigmoid_colon                                        6901.0  \n",
       "GSE179285_CD_ascending_colon                                      5829.0  \n",
       "GSE55235_RA_synovium                                              2282.0  \n",
       "GSE179285_CD_terminal_ileum                                       3358.0  \n",
       "GSE11223_UC_sigmoid_colon                                         6229.0  \n",
       "GSE148810_cSLE_skin                                                584.0  \n",
       "GSE1919_RA_synovium                                                406.0  \n",
       "GSE11223_UC_descending_colon                                      4073.0  \n",
       "GSE181318_PSO_skin                                                3612.0  \n",
       "GSE14905_PSO_skin_inactive                                        4724.0  \n",
       "GSE75214_CD_ileum_inactive                                        1122.0  \n",
       "GSE16879_CD_ileum                                                 1213.0  \n",
       "GSE75214_UC_colon_inactive                                        2661.0  \n",
       "GSE95065_SSc_skin                                                 4533.0  \n",
       "GSE81292_SSc_lung                                                 2828.0  \n",
       "GSE32591_LN_glomeruli_compartment                                 4055.0  \n",
       "GSE16161_AD_skin                                                 17401.0  \n",
       "GSE32924_AD_skin_inactive                                         4457.0  \n",
       "GSE179285_CD_ascending_descending_colon_inactive                   251.0  \n",
       "GSE32924_AD_skin                                                  5525.0  \n",
       "GSE148810_JM_skin                                                  134.0  \n",
       "GSE81071_DLE_skin                                                  167.0  \n",
       "GSE40568_SS_salivary_gland                                         280.0  \n",
       "GSE66413_at_risk_T1D_pancreatic_lymph_nodes                         57.0  \n",
       "GSE11223_UC_colon_inactive                                          39.0  \n",
       "GSE179285_UC_ascending_descending_colon_inactive                   697.0  \n",
       "GSE176510_SS_kerato_conjunctivitis                                  47.0  \n",
       "GSE148810_JM_skin_inactive                                         643.0  \n",
       "GSE81071_SCLE_skin                                                 131.0  "
      ]
     },
     "execution_count": 97,
     "metadata": {},
     "output_type": "execute_result"
    }
   ],
   "source": [
    "GWAS_summary.sort_values('pval')"
   ]
  },
  {
   "cell_type": "code",
   "execution_count": 114,
   "id": "6b7b0748",
   "metadata": {},
   "outputs": [],
   "source": [
    "#GWAS_summary.to_csv('GWAS_summary_AID_cluster1_oneSided.csv', index = True, header = True)"
   ]
  },
  {
   "cell_type": "code",
   "execution_count": 104,
   "id": "ec6adc8a",
   "metadata": {},
   "outputs": [],
   "source": [
    "odds_list2 = list()\n",
    "pval_list2 = list()\n",
    "names = list()\n",
    "for i in range(len(datasets)):\n",
    "\n",
    "    genes = pd.read_csv('background_genes_for_Martin/' + str(datasets[i]))\n",
    "    background_genes = np.array(genes.loc[np.where(genes['isDE'] == 1)[0]]['AllMeasuredGenes'])\n",
    "\n",
    "    odds_list = list()\n",
    "    pval_list = list()\n",
    "    \n",
    "    for j in np.unique(pathways_cluster1['subclusters']):\n",
    "        pathways_subset = pathways_cluster1.loc[np.where(pathways_cluster1['subclusters'] == j)[0]]\n",
    "        pathways_subset.index = np.array(range(len(pathways_subset.index)))\n",
    "        DEGs = list()\n",
    "        for k in range(len(pathways_subset.index)): \n",
    "            p = pathways_subset.loc[k]\n",
    "            DEGs.append(str(p['AllMolecules']).split(','))\n",
    "        DEGs = np.concatenate(DEGs)\n",
    "        DEGs = np.unique(DEGs)\n",
    "        \n",
    "        background_genes = np.unique(background_genes)\n",
    "        DEGs = np.intersect1d(DEGs, background_genes)\n",
    "    \n",
    "        GWAS = np.unique(GWAS_list[i])\n",
    "        nonDEGs = list(set(background_genes) - set(DEGs))                \n",
    "        table11 = len(np.intersect1d(GWAS, DEGs))\n",
    "        table12 = len(DEGs) - table11\n",
    "        table21 = len(np.intersect1d(GWAS, nonDEGs))\n",
    "        table22 = len(background_genes) - (table21 + table12 + table11)\n",
    "        table = pd.DataFrame([[table11, table12], [table21, table22]])\n",
    "        table.index = ('DEGs', 'nonDEGs')\n",
    "        table.columns = ('GWAS', 'nonGWAS')\n",
    "        odds, pval = stats.fisher_exact(table, alternative = 'greater')\n",
    "        odds_list.append(odds)\n",
    "        pval_list.append(pval)\n",
    "    odds_list2.append(odds_list)\n",
    "    pval_list2.append(pval_list)\n",
    "    names.append(datasets[i].split('.')[0])\n",
    "\n",
    "\n",
    "# if the odds are > 1 and pval <0.05 The list of DEGs is significantly enriched by the GWAS genes\n",
    "# if the odds are < 1 and pval <0.05 The list of DEGs is not enriched by the GWAS genes"
   ]
  },
  {
   "cell_type": "code",
   "execution_count": 105,
   "id": "f2495acd",
   "metadata": {},
   "outputs": [
    {
     "data": {
      "text/plain": [
       "array([ 1,  2,  3,  4,  5,  6,  7,  8,  9, 10, 11, 12, 13])"
      ]
     },
     "execution_count": 105,
     "metadata": {},
     "output_type": "execute_result"
    }
   ],
   "source": [
    "np.unique(pathways_cluster1['subclusters'])"
   ]
  },
  {
   "cell_type": "code",
   "execution_count": 107,
   "id": "e23f1672",
   "metadata": {},
   "outputs": [
    {
     "data": {
      "text/html": [
       "<div>\n",
       "<style scoped>\n",
       "    .dataframe tbody tr th:only-of-type {\n",
       "        vertical-align: middle;\n",
       "    }\n",
       "\n",
       "    .dataframe tbody tr th {\n",
       "        vertical-align: top;\n",
       "    }\n",
       "\n",
       "    .dataframe thead th {\n",
       "        text-align: right;\n",
       "    }\n",
       "</style>\n",
       "<table border=\"1\" class=\"dataframe\">\n",
       "  <thead>\n",
       "    <tr style=\"text-align: right;\">\n",
       "      <th></th>\n",
       "      <th>1</th>\n",
       "      <th>2</th>\n",
       "      <th>3</th>\n",
       "      <th>4</th>\n",
       "      <th>5</th>\n",
       "      <th>6</th>\n",
       "      <th>7</th>\n",
       "      <th>8</th>\n",
       "      <th>9</th>\n",
       "      <th>10</th>\n",
       "      <th>11</th>\n",
       "      <th>12</th>\n",
       "      <th>13</th>\n",
       "    </tr>\n",
       "  </thead>\n",
       "  <tbody>\n",
       "    <tr>\n",
       "      <th>GSE11223_UC_colon_inactive</th>\n",
       "      <td>0.0</td>\n",
       "      <td>inf</td>\n",
       "      <td>0.000000</td>\n",
       "      <td>NaN</td>\n",
       "      <td>0.000000</td>\n",
       "      <td>NaN</td>\n",
       "      <td>0.000000</td>\n",
       "      <td>NaN</td>\n",
       "      <td>0.000000</td>\n",
       "      <td>NaN</td>\n",
       "      <td>NaN</td>\n",
       "      <td>NaN</td>\n",
       "      <td>NaN</td>\n",
       "    </tr>\n",
       "    <tr>\n",
       "      <th>GSE11223_UC_descending_colon</th>\n",
       "      <td>0.0</td>\n",
       "      <td>1.508948</td>\n",
       "      <td>1.666102</td>\n",
       "      <td>0.000000</td>\n",
       "      <td>3.633244</td>\n",
       "      <td>9.703980</td>\n",
       "      <td>7.894525</td>\n",
       "      <td>9.841975</td>\n",
       "      <td>3.324037</td>\n",
       "      <td>0.000000</td>\n",
       "      <td>0.000000</td>\n",
       "      <td>0.000000</td>\n",
       "      <td>8.199588</td>\n",
       "    </tr>\n",
       "    <tr>\n",
       "      <th>GSE11223_UC_sigmoid_colon</th>\n",
       "      <td>0.0</td>\n",
       "      <td>1.795671</td>\n",
       "      <td>0.573238</td>\n",
       "      <td>0.000000</td>\n",
       "      <td>3.755394</td>\n",
       "      <td>7.970628</td>\n",
       "      <td>7.580808</td>\n",
       "      <td>8.932551</td>\n",
       "      <td>2.991453</td>\n",
       "      <td>0.000000</td>\n",
       "      <td>1.517750</td>\n",
       "      <td>1.386971</td>\n",
       "      <td>9.827419</td>\n",
       "    </tr>\n",
       "    <tr>\n",
       "      <th>GSE112943_lupus_kidney</th>\n",
       "      <td>0.0</td>\n",
       "      <td>1.763782</td>\n",
       "      <td>0.495177</td>\n",
       "      <td>1.229553</td>\n",
       "      <td>3.449156</td>\n",
       "      <td>8.642683</td>\n",
       "      <td>3.921458</td>\n",
       "      <td>12.917440</td>\n",
       "      <td>3.175739</td>\n",
       "      <td>0.000000</td>\n",
       "      <td>1.661706</td>\n",
       "      <td>0.000000</td>\n",
       "      <td>7.166559</td>\n",
       "    </tr>\n",
       "    <tr>\n",
       "      <th>GSE112943_lupus_subacute_cutaneous</th>\n",
       "      <td>0.0</td>\n",
       "      <td>1.566637</td>\n",
       "      <td>1.329444</td>\n",
       "      <td>1.513412</td>\n",
       "      <td>3.151134</td>\n",
       "      <td>8.299694</td>\n",
       "      <td>4.209498</td>\n",
       "      <td>11.726468</td>\n",
       "      <td>2.797442</td>\n",
       "      <td>0.000000</td>\n",
       "      <td>2.056593</td>\n",
       "      <td>0.000000</td>\n",
       "      <td>7.994518</td>\n",
       "    </tr>\n",
       "    <tr>\n",
       "      <th>GSE148810_cSLE_skin</th>\n",
       "      <td>0.0</td>\n",
       "      <td>3.445946</td>\n",
       "      <td>1.023529</td>\n",
       "      <td>NaN</td>\n",
       "      <td>3.512315</td>\n",
       "      <td>7.149362</td>\n",
       "      <td>1.489796</td>\n",
       "      <td>2.645217</td>\n",
       "      <td>2.899814</td>\n",
       "      <td>0.000000</td>\n",
       "      <td>0.000000</td>\n",
       "      <td>0.000000</td>\n",
       "      <td>NaN</td>\n",
       "    </tr>\n",
       "    <tr>\n",
       "      <th>GSE148810_JM_skin</th>\n",
       "      <td>NaN</td>\n",
       "      <td>0.000000</td>\n",
       "      <td>0.000000</td>\n",
       "      <td>NaN</td>\n",
       "      <td>inf</td>\n",
       "      <td>0.000000</td>\n",
       "      <td>0.000000</td>\n",
       "      <td>0.000000</td>\n",
       "      <td>0.000000</td>\n",
       "      <td>NaN</td>\n",
       "      <td>NaN</td>\n",
       "      <td>NaN</td>\n",
       "      <td>NaN</td>\n",
       "    </tr>\n",
       "    <tr>\n",
       "      <th>GSE148810_JM_skin_inactive</th>\n",
       "      <td>NaN</td>\n",
       "      <td>0.000000</td>\n",
       "      <td>0.000000</td>\n",
       "      <td>NaN</td>\n",
       "      <td>0.000000</td>\n",
       "      <td>0.000000</td>\n",
       "      <td>0.000000</td>\n",
       "      <td>0.000000</td>\n",
       "      <td>0.000000</td>\n",
       "      <td>0.000000</td>\n",
       "      <td>0.000000</td>\n",
       "      <td>0.000000</td>\n",
       "      <td>NaN</td>\n",
       "    </tr>\n",
       "    <tr>\n",
       "      <th>GSE14905_PSO_skin_inactive</th>\n",
       "      <td>0.0</td>\n",
       "      <td>1.847074</td>\n",
       "      <td>0.717002</td>\n",
       "      <td>0.000000</td>\n",
       "      <td>2.926456</td>\n",
       "      <td>8.861237</td>\n",
       "      <td>2.087454</td>\n",
       "      <td>6.728198</td>\n",
       "      <td>3.456080</td>\n",
       "      <td>0.000000</td>\n",
       "      <td>4.890063</td>\n",
       "      <td>0.000000</td>\n",
       "      <td>10.772093</td>\n",
       "    </tr>\n",
       "    <tr>\n",
       "      <th>GSE16161_AD_skin</th>\n",
       "      <td>0.0</td>\n",
       "      <td>0.827131</td>\n",
       "      <td>0.000000</td>\n",
       "      <td>0.000000</td>\n",
       "      <td>2.059069</td>\n",
       "      <td>5.237949</td>\n",
       "      <td>4.246048</td>\n",
       "      <td>35.627060</td>\n",
       "      <td>3.944157</td>\n",
       "      <td>0.000000</td>\n",
       "      <td>3.040014</td>\n",
       "      <td>0.000000</td>\n",
       "      <td>10.327957</td>\n",
       "    </tr>\n",
       "    <tr>\n",
       "      <th>GSE16879_CD_colon</th>\n",
       "      <td>0.0</td>\n",
       "      <td>2.319998</td>\n",
       "      <td>0.362031</td>\n",
       "      <td>0.000000</td>\n",
       "      <td>3.521759</td>\n",
       "      <td>5.670954</td>\n",
       "      <td>4.674622</td>\n",
       "      <td>5.263830</td>\n",
       "      <td>5.210222</td>\n",
       "      <td>0.000000</td>\n",
       "      <td>2.499156</td>\n",
       "      <td>0.741650</td>\n",
       "      <td>0.000000</td>\n",
       "    </tr>\n",
       "    <tr>\n",
       "      <th>GSE16879_CD_ileum</th>\n",
       "      <td>0.0</td>\n",
       "      <td>2.845528</td>\n",
       "      <td>0.000000</td>\n",
       "      <td>0.000000</td>\n",
       "      <td>4.331045</td>\n",
       "      <td>6.167832</td>\n",
       "      <td>8.448529</td>\n",
       "      <td>10.000000</td>\n",
       "      <td>6.063492</td>\n",
       "      <td>0.000000</td>\n",
       "      <td>10.000000</td>\n",
       "      <td>2.982051</td>\n",
       "      <td>0.000000</td>\n",
       "    </tr>\n",
       "    <tr>\n",
       "      <th>GSE176510_SS_kerato_conjunctivitis</th>\n",
       "      <td>NaN</td>\n",
       "      <td>0.000000</td>\n",
       "      <td>0.000000</td>\n",
       "      <td>NaN</td>\n",
       "      <td>0.875000</td>\n",
       "      <td>3.090909</td>\n",
       "      <td>14.000000</td>\n",
       "      <td>14.000000</td>\n",
       "      <td>10.250000</td>\n",
       "      <td>NaN</td>\n",
       "      <td>NaN</td>\n",
       "      <td>NaN</td>\n",
       "      <td>NaN</td>\n",
       "    </tr>\n",
       "    <tr>\n",
       "      <th>GSE179285_CD_ascending_colon</th>\n",
       "      <td>0.0</td>\n",
       "      <td>2.408676</td>\n",
       "      <td>0.383698</td>\n",
       "      <td>0.000000</td>\n",
       "      <td>2.803269</td>\n",
       "      <td>6.139194</td>\n",
       "      <td>5.563728</td>\n",
       "      <td>5.081504</td>\n",
       "      <td>3.787730</td>\n",
       "      <td>0.000000</td>\n",
       "      <td>0.812980</td>\n",
       "      <td>0.736828</td>\n",
       "      <td>2.896764</td>\n",
       "    </tr>\n",
       "    <tr>\n",
       "      <th>GSE179285_CD_ascending_descending_colon_inactive</th>\n",
       "      <td>0.0</td>\n",
       "      <td>2.557576</td>\n",
       "      <td>0.000000</td>\n",
       "      <td>NaN</td>\n",
       "      <td>3.607143</td>\n",
       "      <td>15.866667</td>\n",
       "      <td>0.000000</td>\n",
       "      <td>20.166667</td>\n",
       "      <td>0.000000</td>\n",
       "      <td>NaN</td>\n",
       "      <td>NaN</td>\n",
       "      <td>NaN</td>\n",
       "      <td>0.000000</td>\n",
       "    </tr>\n",
       "    <tr>\n",
       "      <th>GSE179285_CD_terminal_ileum</th>\n",
       "      <td>0.0</td>\n",
       "      <td>2.513089</td>\n",
       "      <td>0.999381</td>\n",
       "      <td>0.000000</td>\n",
       "      <td>4.278663</td>\n",
       "      <td>7.912281</td>\n",
       "      <td>7.253968</td>\n",
       "      <td>11.659498</td>\n",
       "      <td>5.691656</td>\n",
       "      <td>0.000000</td>\n",
       "      <td>0.000000</td>\n",
       "      <td>2.135526</td>\n",
       "      <td>0.000000</td>\n",
       "    </tr>\n",
       "    <tr>\n",
       "      <th>GSE179285_UC_ascending_descending_colon_inactive</th>\n",
       "      <td>0.0</td>\n",
       "      <td>0.510417</td>\n",
       "      <td>0.000000</td>\n",
       "      <td>0.000000</td>\n",
       "      <td>1.264271</td>\n",
       "      <td>4.666667</td>\n",
       "      <td>3.988095</td>\n",
       "      <td>0.000000</td>\n",
       "      <td>0.000000</td>\n",
       "      <td>0.000000</td>\n",
       "      <td>0.000000</td>\n",
       "      <td>0.000000</td>\n",
       "      <td>NaN</td>\n",
       "    </tr>\n",
       "    <tr>\n",
       "      <th>GSE179285_UC_sigmoid_colon</th>\n",
       "      <td>0.0</td>\n",
       "      <td>2.229947</td>\n",
       "      <td>0.895098</td>\n",
       "      <td>0.000000</td>\n",
       "      <td>3.815502</td>\n",
       "      <td>7.871394</td>\n",
       "      <td>5.646426</td>\n",
       "      <td>6.082278</td>\n",
       "      <td>4.098896</td>\n",
       "      <td>0.000000</td>\n",
       "      <td>1.883544</td>\n",
       "      <td>0.915368</td>\n",
       "      <td>4.704403</td>\n",
       "    </tr>\n",
       "    <tr>\n",
       "      <th>GSE181318_PSO_skin</th>\n",
       "      <td>0.0</td>\n",
       "      <td>1.857895</td>\n",
       "      <td>1.628241</td>\n",
       "      <td>0.000000</td>\n",
       "      <td>4.297276</td>\n",
       "      <td>5.254724</td>\n",
       "      <td>2.792468</td>\n",
       "      <td>0.000000</td>\n",
       "      <td>5.125154</td>\n",
       "      <td>0.000000</td>\n",
       "      <td>8.351415</td>\n",
       "      <td>7.300412</td>\n",
       "      <td>13.155556</td>\n",
       "    </tr>\n",
       "    <tr>\n",
       "      <th>GSE1919_RA_synovium</th>\n",
       "      <td>0.0</td>\n",
       "      <td>2.589744</td>\n",
       "      <td>0.000000</td>\n",
       "      <td>0.000000</td>\n",
       "      <td>3.803995</td>\n",
       "      <td>5.215461</td>\n",
       "      <td>1.017544</td>\n",
       "      <td>4.666667</td>\n",
       "      <td>1.552632</td>\n",
       "      <td>0.000000</td>\n",
       "      <td>0.000000</td>\n",
       "      <td>0.000000</td>\n",
       "      <td>inf</td>\n",
       "    </tr>\n",
       "    <tr>\n",
       "      <th>GSE32591_LN_glomeruli_compartment</th>\n",
       "      <td>0.0</td>\n",
       "      <td>2.529742</td>\n",
       "      <td>0.000000</td>\n",
       "      <td>0.000000</td>\n",
       "      <td>6.655242</td>\n",
       "      <td>6.191083</td>\n",
       "      <td>3.901786</td>\n",
       "      <td>0.000000</td>\n",
       "      <td>0.000000</td>\n",
       "      <td>0.000000</td>\n",
       "      <td>0.000000</td>\n",
       "      <td>0.000000</td>\n",
       "      <td>0.000000</td>\n",
       "    </tr>\n",
       "    <tr>\n",
       "      <th>GSE32924_AD_skin</th>\n",
       "      <td>0.0</td>\n",
       "      <td>0.774352</td>\n",
       "      <td>0.000000</td>\n",
       "      <td>0.000000</td>\n",
       "      <td>1.688200</td>\n",
       "      <td>4.813514</td>\n",
       "      <td>3.793539</td>\n",
       "      <td>15.096419</td>\n",
       "      <td>4.950926</td>\n",
       "      <td>0.000000</td>\n",
       "      <td>0.000000</td>\n",
       "      <td>0.000000</td>\n",
       "      <td>27.702020</td>\n",
       "    </tr>\n",
       "    <tr>\n",
       "      <th>GSE32924_AD_skin_inactive</th>\n",
       "      <td>0.0</td>\n",
       "      <td>0.985311</td>\n",
       "      <td>0.000000</td>\n",
       "      <td>0.000000</td>\n",
       "      <td>2.375232</td>\n",
       "      <td>6.363459</td>\n",
       "      <td>7.786778</td>\n",
       "      <td>0.000000</td>\n",
       "      <td>6.588235</td>\n",
       "      <td>0.000000</td>\n",
       "      <td>0.000000</td>\n",
       "      <td>0.000000</td>\n",
       "      <td>25.280000</td>\n",
       "    </tr>\n",
       "    <tr>\n",
       "      <th>GSE40568_SS_salivary_gland</th>\n",
       "      <td>0.0</td>\n",
       "      <td>0.000000</td>\n",
       "      <td>inf</td>\n",
       "      <td>0.000000</td>\n",
       "      <td>0.000000</td>\n",
       "      <td>inf</td>\n",
       "      <td>0.000000</td>\n",
       "      <td>0.000000</td>\n",
       "      <td>0.000000</td>\n",
       "      <td>0.000000</td>\n",
       "      <td>NaN</td>\n",
       "      <td>NaN</td>\n",
       "      <td>0.000000</td>\n",
       "    </tr>\n",
       "    <tr>\n",
       "      <th>GSE55235_RA_synovium</th>\n",
       "      <td>0.0</td>\n",
       "      <td>2.877676</td>\n",
       "      <td>0.853624</td>\n",
       "      <td>4.197266</td>\n",
       "      <td>2.782272</td>\n",
       "      <td>4.789468</td>\n",
       "      <td>1.451568</td>\n",
       "      <td>2.094727</td>\n",
       "      <td>1.634853</td>\n",
       "      <td>0.000000</td>\n",
       "      <td>1.043457</td>\n",
       "      <td>0.000000</td>\n",
       "      <td>11.286089</td>\n",
       "    </tr>\n",
       "    <tr>\n",
       "      <th>GSE66413_at_risk_T1D_pancreatic_lymph_nodes</th>\n",
       "      <td>NaN</td>\n",
       "      <td>inf</td>\n",
       "      <td>0.000000</td>\n",
       "      <td>NaN</td>\n",
       "      <td>inf</td>\n",
       "      <td>0.000000</td>\n",
       "      <td>0.000000</td>\n",
       "      <td>NaN</td>\n",
       "      <td>0.000000</td>\n",
       "      <td>NaN</td>\n",
       "      <td>NaN</td>\n",
       "      <td>NaN</td>\n",
       "      <td>NaN</td>\n",
       "    </tr>\n",
       "    <tr>\n",
       "      <th>GSE75214_CD_ileum_inactive</th>\n",
       "      <td>0.0</td>\n",
       "      <td>4.264069</td>\n",
       "      <td>0.000000</td>\n",
       "      <td>0.000000</td>\n",
       "      <td>3.592308</td>\n",
       "      <td>5.831216</td>\n",
       "      <td>5.831216</td>\n",
       "      <td>11.688172</td>\n",
       "      <td>3.784780</td>\n",
       "      <td>0.000000</td>\n",
       "      <td>35.129032</td>\n",
       "      <td>0.000000</td>\n",
       "      <td>0.000000</td>\n",
       "    </tr>\n",
       "    <tr>\n",
       "      <th>GSE75214_UC_colon_inactive</th>\n",
       "      <td>0.0</td>\n",
       "      <td>1.204156</td>\n",
       "      <td>1.086587</td>\n",
       "      <td>0.000000</td>\n",
       "      <td>3.668892</td>\n",
       "      <td>6.494872</td>\n",
       "      <td>6.502551</td>\n",
       "      <td>20.935484</td>\n",
       "      <td>3.483333</td>\n",
       "      <td>2.976959</td>\n",
       "      <td>4.977821</td>\n",
       "      <td>0.000000</td>\n",
       "      <td>0.000000</td>\n",
       "    </tr>\n",
       "    <tr>\n",
       "      <th>GSE81071_DLE_skin</th>\n",
       "      <td>NaN</td>\n",
       "      <td>11.214286</td>\n",
       "      <td>NaN</td>\n",
       "      <td>NaN</td>\n",
       "      <td>2.784314</td>\n",
       "      <td>1.479592</td>\n",
       "      <td>0.000000</td>\n",
       "      <td>0.000000</td>\n",
       "      <td>NaN</td>\n",
       "      <td>NaN</td>\n",
       "      <td>NaN</td>\n",
       "      <td>NaN</td>\n",
       "      <td>NaN</td>\n",
       "    </tr>\n",
       "    <tr>\n",
       "      <th>GSE81071_SCLE_skin</th>\n",
       "      <td>NaN</td>\n",
       "      <td>0.000000</td>\n",
       "      <td>NaN</td>\n",
       "      <td>NaN</td>\n",
       "      <td>0.000000</td>\n",
       "      <td>0.000000</td>\n",
       "      <td>0.000000</td>\n",
       "      <td>0.000000</td>\n",
       "      <td>NaN</td>\n",
       "      <td>NaN</td>\n",
       "      <td>NaN</td>\n",
       "      <td>NaN</td>\n",
       "      <td>NaN</td>\n",
       "    </tr>\n",
       "    <tr>\n",
       "      <th>GSE81292_SSc_lung</th>\n",
       "      <td>0.0</td>\n",
       "      <td>3.120913</td>\n",
       "      <td>0.000000</td>\n",
       "      <td>0.000000</td>\n",
       "      <td>4.328550</td>\n",
       "      <td>9.530812</td>\n",
       "      <td>9.835125</td>\n",
       "      <td>22.222222</td>\n",
       "      <td>5.245186</td>\n",
       "      <td>0.000000</td>\n",
       "      <td>0.000000</td>\n",
       "      <td>7.375661</td>\n",
       "      <td>0.000000</td>\n",
       "    </tr>\n",
       "    <tr>\n",
       "      <th>GSE95065_SSc_skin</th>\n",
       "      <td>0.0</td>\n",
       "      <td>1.467508</td>\n",
       "      <td>1.451348</td>\n",
       "      <td>8.203297</td>\n",
       "      <td>3.919049</td>\n",
       "      <td>12.244700</td>\n",
       "      <td>10.447619</td>\n",
       "      <td>45.456081</td>\n",
       "      <td>3.700599</td>\n",
       "      <td>0.000000</td>\n",
       "      <td>5.734615</td>\n",
       "      <td>0.000000</td>\n",
       "      <td>16.432234</td>\n",
       "    </tr>\n",
       "  </tbody>\n",
       "</table>\n",
       "</div>"
      ],
      "text/plain": [
       "                                                   1          2         3   \\\n",
       "GSE11223_UC_colon_inactive                        0.0        inf  0.000000   \n",
       "GSE11223_UC_descending_colon                      0.0   1.508948  1.666102   \n",
       "GSE11223_UC_sigmoid_colon                         0.0   1.795671  0.573238   \n",
       "GSE112943_lupus_kidney                            0.0   1.763782  0.495177   \n",
       "GSE112943_lupus_subacute_cutaneous                0.0   1.566637  1.329444   \n",
       "GSE148810_cSLE_skin                               0.0   3.445946  1.023529   \n",
       "GSE148810_JM_skin                                 NaN   0.000000  0.000000   \n",
       "GSE148810_JM_skin_inactive                        NaN   0.000000  0.000000   \n",
       "GSE14905_PSO_skin_inactive                        0.0   1.847074  0.717002   \n",
       "GSE16161_AD_skin                                  0.0   0.827131  0.000000   \n",
       "GSE16879_CD_colon                                 0.0   2.319998  0.362031   \n",
       "GSE16879_CD_ileum                                 0.0   2.845528  0.000000   \n",
       "GSE176510_SS_kerato_conjunctivitis                NaN   0.000000  0.000000   \n",
       "GSE179285_CD_ascending_colon                      0.0   2.408676  0.383698   \n",
       "GSE179285_CD_ascending_descending_colon_inactive  0.0   2.557576  0.000000   \n",
       "GSE179285_CD_terminal_ileum                       0.0   2.513089  0.999381   \n",
       "GSE179285_UC_ascending_descending_colon_inactive  0.0   0.510417  0.000000   \n",
       "GSE179285_UC_sigmoid_colon                        0.0   2.229947  0.895098   \n",
       "GSE181318_PSO_skin                                0.0   1.857895  1.628241   \n",
       "GSE1919_RA_synovium                               0.0   2.589744  0.000000   \n",
       "GSE32591_LN_glomeruli_compartment                 0.0   2.529742  0.000000   \n",
       "GSE32924_AD_skin                                  0.0   0.774352  0.000000   \n",
       "GSE32924_AD_skin_inactive                         0.0   0.985311  0.000000   \n",
       "GSE40568_SS_salivary_gland                        0.0   0.000000       inf   \n",
       "GSE55235_RA_synovium                              0.0   2.877676  0.853624   \n",
       "GSE66413_at_risk_T1D_pancreatic_lymph_nodes       NaN        inf  0.000000   \n",
       "GSE75214_CD_ileum_inactive                        0.0   4.264069  0.000000   \n",
       "GSE75214_UC_colon_inactive                        0.0   1.204156  1.086587   \n",
       "GSE81071_DLE_skin                                 NaN  11.214286       NaN   \n",
       "GSE81071_SCLE_skin                                NaN   0.000000       NaN   \n",
       "GSE81292_SSc_lung                                 0.0   3.120913  0.000000   \n",
       "GSE95065_SSc_skin                                 0.0   1.467508  1.451348   \n",
       "\n",
       "                                                        4         5   \\\n",
       "GSE11223_UC_colon_inactive                             NaN  0.000000   \n",
       "GSE11223_UC_descending_colon                      0.000000  3.633244   \n",
       "GSE11223_UC_sigmoid_colon                         0.000000  3.755394   \n",
       "GSE112943_lupus_kidney                            1.229553  3.449156   \n",
       "GSE112943_lupus_subacute_cutaneous                1.513412  3.151134   \n",
       "GSE148810_cSLE_skin                                    NaN  3.512315   \n",
       "GSE148810_JM_skin                                      NaN       inf   \n",
       "GSE148810_JM_skin_inactive                             NaN  0.000000   \n",
       "GSE14905_PSO_skin_inactive                        0.000000  2.926456   \n",
       "GSE16161_AD_skin                                  0.000000  2.059069   \n",
       "GSE16879_CD_colon                                 0.000000  3.521759   \n",
       "GSE16879_CD_ileum                                 0.000000  4.331045   \n",
       "GSE176510_SS_kerato_conjunctivitis                     NaN  0.875000   \n",
       "GSE179285_CD_ascending_colon                      0.000000  2.803269   \n",
       "GSE179285_CD_ascending_descending_colon_inactive       NaN  3.607143   \n",
       "GSE179285_CD_terminal_ileum                       0.000000  4.278663   \n",
       "GSE179285_UC_ascending_descending_colon_inactive  0.000000  1.264271   \n",
       "GSE179285_UC_sigmoid_colon                        0.000000  3.815502   \n",
       "GSE181318_PSO_skin                                0.000000  4.297276   \n",
       "GSE1919_RA_synovium                               0.000000  3.803995   \n",
       "GSE32591_LN_glomeruli_compartment                 0.000000  6.655242   \n",
       "GSE32924_AD_skin                                  0.000000  1.688200   \n",
       "GSE32924_AD_skin_inactive                         0.000000  2.375232   \n",
       "GSE40568_SS_salivary_gland                        0.000000  0.000000   \n",
       "GSE55235_RA_synovium                              4.197266  2.782272   \n",
       "GSE66413_at_risk_T1D_pancreatic_lymph_nodes            NaN       inf   \n",
       "GSE75214_CD_ileum_inactive                        0.000000  3.592308   \n",
       "GSE75214_UC_colon_inactive                        0.000000  3.668892   \n",
       "GSE81071_DLE_skin                                      NaN  2.784314   \n",
       "GSE81071_SCLE_skin                                     NaN  0.000000   \n",
       "GSE81292_SSc_lung                                 0.000000  4.328550   \n",
       "GSE95065_SSc_skin                                 8.203297  3.919049   \n",
       "\n",
       "                                                         6          7   \\\n",
       "GSE11223_UC_colon_inactive                              NaN   0.000000   \n",
       "GSE11223_UC_descending_colon                       9.703980   7.894525   \n",
       "GSE11223_UC_sigmoid_colon                          7.970628   7.580808   \n",
       "GSE112943_lupus_kidney                             8.642683   3.921458   \n",
       "GSE112943_lupus_subacute_cutaneous                 8.299694   4.209498   \n",
       "GSE148810_cSLE_skin                                7.149362   1.489796   \n",
       "GSE148810_JM_skin                                  0.000000   0.000000   \n",
       "GSE148810_JM_skin_inactive                         0.000000   0.000000   \n",
       "GSE14905_PSO_skin_inactive                         8.861237   2.087454   \n",
       "GSE16161_AD_skin                                   5.237949   4.246048   \n",
       "GSE16879_CD_colon                                  5.670954   4.674622   \n",
       "GSE16879_CD_ileum                                  6.167832   8.448529   \n",
       "GSE176510_SS_kerato_conjunctivitis                 3.090909  14.000000   \n",
       "GSE179285_CD_ascending_colon                       6.139194   5.563728   \n",
       "GSE179285_CD_ascending_descending_colon_inactive  15.866667   0.000000   \n",
       "GSE179285_CD_terminal_ileum                        7.912281   7.253968   \n",
       "GSE179285_UC_ascending_descending_colon_inactive   4.666667   3.988095   \n",
       "GSE179285_UC_sigmoid_colon                         7.871394   5.646426   \n",
       "GSE181318_PSO_skin                                 5.254724   2.792468   \n",
       "GSE1919_RA_synovium                                5.215461   1.017544   \n",
       "GSE32591_LN_glomeruli_compartment                  6.191083   3.901786   \n",
       "GSE32924_AD_skin                                   4.813514   3.793539   \n",
       "GSE32924_AD_skin_inactive                          6.363459   7.786778   \n",
       "GSE40568_SS_salivary_gland                              inf   0.000000   \n",
       "GSE55235_RA_synovium                               4.789468   1.451568   \n",
       "GSE66413_at_risk_T1D_pancreatic_lymph_nodes        0.000000   0.000000   \n",
       "GSE75214_CD_ileum_inactive                         5.831216   5.831216   \n",
       "GSE75214_UC_colon_inactive                         6.494872   6.502551   \n",
       "GSE81071_DLE_skin                                  1.479592   0.000000   \n",
       "GSE81071_SCLE_skin                                 0.000000   0.000000   \n",
       "GSE81292_SSc_lung                                  9.530812   9.835125   \n",
       "GSE95065_SSc_skin                                 12.244700  10.447619   \n",
       "\n",
       "                                                         8          9   \\\n",
       "GSE11223_UC_colon_inactive                              NaN   0.000000   \n",
       "GSE11223_UC_descending_colon                       9.841975   3.324037   \n",
       "GSE11223_UC_sigmoid_colon                          8.932551   2.991453   \n",
       "GSE112943_lupus_kidney                            12.917440   3.175739   \n",
       "GSE112943_lupus_subacute_cutaneous                11.726468   2.797442   \n",
       "GSE148810_cSLE_skin                                2.645217   2.899814   \n",
       "GSE148810_JM_skin                                  0.000000   0.000000   \n",
       "GSE148810_JM_skin_inactive                         0.000000   0.000000   \n",
       "GSE14905_PSO_skin_inactive                         6.728198   3.456080   \n",
       "GSE16161_AD_skin                                  35.627060   3.944157   \n",
       "GSE16879_CD_colon                                  5.263830   5.210222   \n",
       "GSE16879_CD_ileum                                 10.000000   6.063492   \n",
       "GSE176510_SS_kerato_conjunctivitis                14.000000  10.250000   \n",
       "GSE179285_CD_ascending_colon                       5.081504   3.787730   \n",
       "GSE179285_CD_ascending_descending_colon_inactive  20.166667   0.000000   \n",
       "GSE179285_CD_terminal_ileum                       11.659498   5.691656   \n",
       "GSE179285_UC_ascending_descending_colon_inactive   0.000000   0.000000   \n",
       "GSE179285_UC_sigmoid_colon                         6.082278   4.098896   \n",
       "GSE181318_PSO_skin                                 0.000000   5.125154   \n",
       "GSE1919_RA_synovium                                4.666667   1.552632   \n",
       "GSE32591_LN_glomeruli_compartment                  0.000000   0.000000   \n",
       "GSE32924_AD_skin                                  15.096419   4.950926   \n",
       "GSE32924_AD_skin_inactive                          0.000000   6.588235   \n",
       "GSE40568_SS_salivary_gland                         0.000000   0.000000   \n",
       "GSE55235_RA_synovium                               2.094727   1.634853   \n",
       "GSE66413_at_risk_T1D_pancreatic_lymph_nodes             NaN   0.000000   \n",
       "GSE75214_CD_ileum_inactive                        11.688172   3.784780   \n",
       "GSE75214_UC_colon_inactive                        20.935484   3.483333   \n",
       "GSE81071_DLE_skin                                  0.000000        NaN   \n",
       "GSE81071_SCLE_skin                                 0.000000        NaN   \n",
       "GSE81292_SSc_lung                                 22.222222   5.245186   \n",
       "GSE95065_SSc_skin                                 45.456081   3.700599   \n",
       "\n",
       "                                                        10         11  \\\n",
       "GSE11223_UC_colon_inactive                             NaN        NaN   \n",
       "GSE11223_UC_descending_colon                      0.000000   0.000000   \n",
       "GSE11223_UC_sigmoid_colon                         0.000000   1.517750   \n",
       "GSE112943_lupus_kidney                            0.000000   1.661706   \n",
       "GSE112943_lupus_subacute_cutaneous                0.000000   2.056593   \n",
       "GSE148810_cSLE_skin                               0.000000   0.000000   \n",
       "GSE148810_JM_skin                                      NaN        NaN   \n",
       "GSE148810_JM_skin_inactive                        0.000000   0.000000   \n",
       "GSE14905_PSO_skin_inactive                        0.000000   4.890063   \n",
       "GSE16161_AD_skin                                  0.000000   3.040014   \n",
       "GSE16879_CD_colon                                 0.000000   2.499156   \n",
       "GSE16879_CD_ileum                                 0.000000  10.000000   \n",
       "GSE176510_SS_kerato_conjunctivitis                     NaN        NaN   \n",
       "GSE179285_CD_ascending_colon                      0.000000   0.812980   \n",
       "GSE179285_CD_ascending_descending_colon_inactive       NaN        NaN   \n",
       "GSE179285_CD_terminal_ileum                       0.000000   0.000000   \n",
       "GSE179285_UC_ascending_descending_colon_inactive  0.000000   0.000000   \n",
       "GSE179285_UC_sigmoid_colon                        0.000000   1.883544   \n",
       "GSE181318_PSO_skin                                0.000000   8.351415   \n",
       "GSE1919_RA_synovium                               0.000000   0.000000   \n",
       "GSE32591_LN_glomeruli_compartment                 0.000000   0.000000   \n",
       "GSE32924_AD_skin                                  0.000000   0.000000   \n",
       "GSE32924_AD_skin_inactive                         0.000000   0.000000   \n",
       "GSE40568_SS_salivary_gland                        0.000000        NaN   \n",
       "GSE55235_RA_synovium                              0.000000   1.043457   \n",
       "GSE66413_at_risk_T1D_pancreatic_lymph_nodes            NaN        NaN   \n",
       "GSE75214_CD_ileum_inactive                        0.000000  35.129032   \n",
       "GSE75214_UC_colon_inactive                        2.976959   4.977821   \n",
       "GSE81071_DLE_skin                                      NaN        NaN   \n",
       "GSE81071_SCLE_skin                                     NaN        NaN   \n",
       "GSE81292_SSc_lung                                 0.000000   0.000000   \n",
       "GSE95065_SSc_skin                                 0.000000   5.734615   \n",
       "\n",
       "                                                        12         13  \n",
       "GSE11223_UC_colon_inactive                             NaN        NaN  \n",
       "GSE11223_UC_descending_colon                      0.000000   8.199588  \n",
       "GSE11223_UC_sigmoid_colon                         1.386971   9.827419  \n",
       "GSE112943_lupus_kidney                            0.000000   7.166559  \n",
       "GSE112943_lupus_subacute_cutaneous                0.000000   7.994518  \n",
       "GSE148810_cSLE_skin                               0.000000        NaN  \n",
       "GSE148810_JM_skin                                      NaN        NaN  \n",
       "GSE148810_JM_skin_inactive                        0.000000        NaN  \n",
       "GSE14905_PSO_skin_inactive                        0.000000  10.772093  \n",
       "GSE16161_AD_skin                                  0.000000  10.327957  \n",
       "GSE16879_CD_colon                                 0.741650   0.000000  \n",
       "GSE16879_CD_ileum                                 2.982051   0.000000  \n",
       "GSE176510_SS_kerato_conjunctivitis                     NaN        NaN  \n",
       "GSE179285_CD_ascending_colon                      0.736828   2.896764  \n",
       "GSE179285_CD_ascending_descending_colon_inactive       NaN   0.000000  \n",
       "GSE179285_CD_terminal_ileum                       2.135526   0.000000  \n",
       "GSE179285_UC_ascending_descending_colon_inactive  0.000000        NaN  \n",
       "GSE179285_UC_sigmoid_colon                        0.915368   4.704403  \n",
       "GSE181318_PSO_skin                                7.300412  13.155556  \n",
       "GSE1919_RA_synovium                               0.000000        inf  \n",
       "GSE32591_LN_glomeruli_compartment                 0.000000   0.000000  \n",
       "GSE32924_AD_skin                                  0.000000  27.702020  \n",
       "GSE32924_AD_skin_inactive                         0.000000  25.280000  \n",
       "GSE40568_SS_salivary_gland                             NaN   0.000000  \n",
       "GSE55235_RA_synovium                              0.000000  11.286089  \n",
       "GSE66413_at_risk_T1D_pancreatic_lymph_nodes            NaN        NaN  \n",
       "GSE75214_CD_ileum_inactive                        0.000000   0.000000  \n",
       "GSE75214_UC_colon_inactive                        0.000000   0.000000  \n",
       "GSE81071_DLE_skin                                      NaN        NaN  \n",
       "GSE81071_SCLE_skin                                     NaN        NaN  \n",
       "GSE81292_SSc_lung                                 7.375661   0.000000  \n",
       "GSE95065_SSc_skin                                 0.000000  16.432234  "
      ]
     },
     "execution_count": 107,
     "metadata": {},
     "output_type": "execute_result"
    }
   ],
   "source": [
    "Odds = pd.DataFrame(odds_list2, index = names, columns = np.array(range(13)) + 1)\n",
    "Odds"
   ]
  },
  {
   "cell_type": "code",
   "execution_count": null,
   "id": "a00439c4",
   "metadata": {},
   "outputs": [],
   "source": [
    "#Odds.to_csv('Odds_summary_AID_cluster1_oneSided.csv', index = True, header = True)"
   ]
  },
  {
   "cell_type": "code",
   "execution_count": null,
   "id": "3fd1048b",
   "metadata": {},
   "outputs": [],
   "source": []
  },
  {
   "cell_type": "code",
   "execution_count": null,
   "id": "8d6f86a2",
   "metadata": {},
   "outputs": [],
   "source": []
  },
  {
   "cell_type": "code",
   "execution_count": 108,
   "id": "9b84f75a",
   "metadata": {},
   "outputs": [
    {
     "data": {
      "text/html": [
       "<div>\n",
       "<style scoped>\n",
       "    .dataframe tbody tr th:only-of-type {\n",
       "        vertical-align: middle;\n",
       "    }\n",
       "\n",
       "    .dataframe tbody tr th {\n",
       "        vertical-align: top;\n",
       "    }\n",
       "\n",
       "    .dataframe thead th {\n",
       "        text-align: right;\n",
       "    }\n",
       "</style>\n",
       "<table border=\"1\" class=\"dataframe\">\n",
       "  <thead>\n",
       "    <tr style=\"text-align: right;\">\n",
       "      <th></th>\n",
       "      <th>1</th>\n",
       "      <th>2</th>\n",
       "      <th>3</th>\n",
       "      <th>4</th>\n",
       "      <th>5</th>\n",
       "      <th>6</th>\n",
       "      <th>7</th>\n",
       "      <th>8</th>\n",
       "      <th>9</th>\n",
       "      <th>10</th>\n",
       "      <th>11</th>\n",
       "      <th>12</th>\n",
       "      <th>13</th>\n",
       "    </tr>\n",
       "  </thead>\n",
       "  <tbody>\n",
       "    <tr>\n",
       "      <th>GSE11223_UC_colon_inactive</th>\n",
       "      <td>1.0</td>\n",
       "      <td>0.153846</td>\n",
       "      <td>1.000000</td>\n",
       "      <td>1.000000</td>\n",
       "      <td>1.000000e+00</td>\n",
       "      <td>1.000000e+00</td>\n",
       "      <td>1.000000e+00</td>\n",
       "      <td>1.000000</td>\n",
       "      <td>1.000000e+00</td>\n",
       "      <td>1.000000</td>\n",
       "      <td>1.000000</td>\n",
       "      <td>1.000000</td>\n",
       "      <td>1.000000</td>\n",
       "    </tr>\n",
       "    <tr>\n",
       "      <th>GSE11223_UC_descending_colon</th>\n",
       "      <td>1.0</td>\n",
       "      <td>0.122388</td>\n",
       "      <td>0.348895</td>\n",
       "      <td>1.000000</td>\n",
       "      <td>1.960427e-07</td>\n",
       "      <td>1.284692e-09</td>\n",
       "      <td>2.925774e-06</td>\n",
       "      <td>0.114943</td>\n",
       "      <td>8.260076e-03</td>\n",
       "      <td>1.000000</td>\n",
       "      <td>1.000000</td>\n",
       "      <td>1.000000</td>\n",
       "      <td>0.132788</td>\n",
       "    </tr>\n",
       "    <tr>\n",
       "      <th>GSE11223_UC_sigmoid_colon</th>\n",
       "      <td>1.0</td>\n",
       "      <td>0.011893</td>\n",
       "      <td>0.826043</td>\n",
       "      <td>1.000000</td>\n",
       "      <td>1.501099e-10</td>\n",
       "      <td>1.271943e-10</td>\n",
       "      <td>4.683024e-08</td>\n",
       "      <td>0.027370</td>\n",
       "      <td>5.338156e-03</td>\n",
       "      <td>1.000000</td>\n",
       "      <td>0.491415</td>\n",
       "      <td>0.521820</td>\n",
       "      <td>0.023466</td>\n",
       "    </tr>\n",
       "    <tr>\n",
       "      <th>GSE112943_lupus_kidney</th>\n",
       "      <td>1.0</td>\n",
       "      <td>0.000486</td>\n",
       "      <td>0.909743</td>\n",
       "      <td>0.564527</td>\n",
       "      <td>1.972203e-19</td>\n",
       "      <td>1.668346e-24</td>\n",
       "      <td>7.292251e-06</td>\n",
       "      <td>0.000125</td>\n",
       "      <td>1.412339e-05</td>\n",
       "      <td>1.000000</td>\n",
       "      <td>0.348848</td>\n",
       "      <td>1.000000</td>\n",
       "      <td>0.040920</td>\n",
       "    </tr>\n",
       "    <tr>\n",
       "      <th>GSE112943_lupus_subacute_cutaneous</th>\n",
       "      <td>1.0</td>\n",
       "      <td>0.012717</td>\n",
       "      <td>0.334843</td>\n",
       "      <td>0.495161</td>\n",
       "      <td>1.968367e-13</td>\n",
       "      <td>9.589319e-20</td>\n",
       "      <td>1.287570e-05</td>\n",
       "      <td>0.000888</td>\n",
       "      <td>5.405892e-04</td>\n",
       "      <td>1.000000</td>\n",
       "      <td>0.267220</td>\n",
       "      <td>1.000000</td>\n",
       "      <td>0.035572</td>\n",
       "    </tr>\n",
       "    <tr>\n",
       "      <th>GSE148810_cSLE_skin</th>\n",
       "      <td>1.0</td>\n",
       "      <td>0.000526</td>\n",
       "      <td>0.644829</td>\n",
       "      <td>1.000000</td>\n",
       "      <td>4.905888e-05</td>\n",
       "      <td>1.247308e-09</td>\n",
       "      <td>3.621798e-01</td>\n",
       "      <td>0.048012</td>\n",
       "      <td>1.202333e-01</td>\n",
       "      <td>1.000000</td>\n",
       "      <td>1.000000</td>\n",
       "      <td>1.000000</td>\n",
       "      <td>1.000000</td>\n",
       "    </tr>\n",
       "    <tr>\n",
       "      <th>GSE148810_JM_skin</th>\n",
       "      <td>1.0</td>\n",
       "      <td>1.000000</td>\n",
       "      <td>1.000000</td>\n",
       "      <td>1.000000</td>\n",
       "      <td>1.374705e-01</td>\n",
       "      <td>1.000000e+00</td>\n",
       "      <td>1.000000e+00</td>\n",
       "      <td>1.000000</td>\n",
       "      <td>1.000000e+00</td>\n",
       "      <td>1.000000</td>\n",
       "      <td>1.000000</td>\n",
       "      <td>1.000000</td>\n",
       "      <td>1.000000</td>\n",
       "    </tr>\n",
       "    <tr>\n",
       "      <th>GSE148810_JM_skin_inactive</th>\n",
       "      <td>1.0</td>\n",
       "      <td>1.000000</td>\n",
       "      <td>1.000000</td>\n",
       "      <td>1.000000</td>\n",
       "      <td>1.000000e+00</td>\n",
       "      <td>1.000000e+00</td>\n",
       "      <td>1.000000e+00</td>\n",
       "      <td>1.000000</td>\n",
       "      <td>1.000000e+00</td>\n",
       "      <td>1.000000</td>\n",
       "      <td>1.000000</td>\n",
       "      <td>1.000000</td>\n",
       "      <td>1.000000</td>\n",
       "    </tr>\n",
       "    <tr>\n",
       "      <th>GSE14905_PSO_skin_inactive</th>\n",
       "      <td>1.0</td>\n",
       "      <td>0.029836</td>\n",
       "      <td>0.754697</td>\n",
       "      <td>1.000000</td>\n",
       "      <td>1.899562e-05</td>\n",
       "      <td>1.089947e-09</td>\n",
       "      <td>1.867286e-01</td>\n",
       "      <td>0.154171</td>\n",
       "      <td>3.952115e-03</td>\n",
       "      <td>1.000000</td>\n",
       "      <td>0.200143</td>\n",
       "      <td>1.000000</td>\n",
       "      <td>0.105589</td>\n",
       "    </tr>\n",
       "    <tr>\n",
       "      <th>GSE16161_AD_skin</th>\n",
       "      <td>1.0</td>\n",
       "      <td>0.729422</td>\n",
       "      <td>1.000000</td>\n",
       "      <td>1.000000</td>\n",
       "      <td>8.739057e-03</td>\n",
       "      <td>2.735580e-04</td>\n",
       "      <td>8.329304e-03</td>\n",
       "      <td>0.000139</td>\n",
       "      <td>3.013417e-03</td>\n",
       "      <td>1.000000</td>\n",
       "      <td>0.285679</td>\n",
       "      <td>1.000000</td>\n",
       "      <td>0.097845</td>\n",
       "    </tr>\n",
       "    <tr>\n",
       "      <th>GSE16879_CD_colon</th>\n",
       "      <td>1.0</td>\n",
       "      <td>0.000078</td>\n",
       "      <td>0.935488</td>\n",
       "      <td>1.000000</td>\n",
       "      <td>1.982943e-11</td>\n",
       "      <td>4.883338e-13</td>\n",
       "      <td>5.758528e-06</td>\n",
       "      <td>0.070411</td>\n",
       "      <td>2.262610e-08</td>\n",
       "      <td>1.000000</td>\n",
       "      <td>0.208429</td>\n",
       "      <td>0.744334</td>\n",
       "      <td>1.000000</td>\n",
       "    </tr>\n",
       "    <tr>\n",
       "      <th>GSE16879_CD_ileum</th>\n",
       "      <td>1.0</td>\n",
       "      <td>0.008465</td>\n",
       "      <td>1.000000</td>\n",
       "      <td>1.000000</td>\n",
       "      <td>2.852227e-05</td>\n",
       "      <td>5.117448e-04</td>\n",
       "      <td>2.897519e-04</td>\n",
       "      <td>0.125670</td>\n",
       "      <td>3.157037e-03</td>\n",
       "      <td>1.000000</td>\n",
       "      <td>0.125670</td>\n",
       "      <td>0.309547</td>\n",
       "      <td>1.000000</td>\n",
       "    </tr>\n",
       "    <tr>\n",
       "      <th>GSE176510_SS_kerato_conjunctivitis</th>\n",
       "      <td>1.0</td>\n",
       "      <td>1.000000</td>\n",
       "      <td>1.000000</td>\n",
       "      <td>1.000000</td>\n",
       "      <td>7.863090e-01</td>\n",
       "      <td>4.495837e-01</td>\n",
       "      <td>1.646623e-01</td>\n",
       "      <td>0.164662</td>\n",
       "      <td>2.035153e-01</td>\n",
       "      <td>1.000000</td>\n",
       "      <td>1.000000</td>\n",
       "      <td>1.000000</td>\n",
       "      <td>1.000000</td>\n",
       "    </tr>\n",
       "    <tr>\n",
       "      <th>GSE179285_CD_ascending_colon</th>\n",
       "      <td>1.0</td>\n",
       "      <td>0.000004</td>\n",
       "      <td>0.925178</td>\n",
       "      <td>1.000000</td>\n",
       "      <td>4.101747e-09</td>\n",
       "      <td>5.726674e-14</td>\n",
       "      <td>5.882165e-08</td>\n",
       "      <td>0.028140</td>\n",
       "      <td>8.350375e-06</td>\n",
       "      <td>1.000000</td>\n",
       "      <td>0.711988</td>\n",
       "      <td>0.745819</td>\n",
       "      <td>0.310999</td>\n",
       "    </tr>\n",
       "    <tr>\n",
       "      <th>GSE179285_CD_ascending_descending_colon_inactive</th>\n",
       "      <td>1.0</td>\n",
       "      <td>0.253117</td>\n",
       "      <td>1.000000</td>\n",
       "      <td>1.000000</td>\n",
       "      <td>1.114371e-01</td>\n",
       "      <td>1.728067e-02</td>\n",
       "      <td>1.000000e+00</td>\n",
       "      <td>0.081671</td>\n",
       "      <td>1.000000e+00</td>\n",
       "      <td>1.000000</td>\n",
       "      <td>1.000000</td>\n",
       "      <td>1.000000</td>\n",
       "      <td>1.000000</td>\n",
       "    </tr>\n",
       "    <tr>\n",
       "      <th>GSE179285_CD_terminal_ileum</th>\n",
       "      <td>1.0</td>\n",
       "      <td>0.000304</td>\n",
       "      <td>0.639559</td>\n",
       "      <td>1.000000</td>\n",
       "      <td>1.109905e-10</td>\n",
       "      <td>1.165763e-10</td>\n",
       "      <td>8.802003e-07</td>\n",
       "      <td>0.004130</td>\n",
       "      <td>1.615366e-06</td>\n",
       "      <td>1.000000</td>\n",
       "      <td>1.000000</td>\n",
       "      <td>0.389991</td>\n",
       "      <td>1.000000</td>\n",
       "    </tr>\n",
       "    <tr>\n",
       "      <th>GSE179285_UC_ascending_descending_colon_inactive</th>\n",
       "      <td>1.0</td>\n",
       "      <td>0.860048</td>\n",
       "      <td>1.000000</td>\n",
       "      <td>1.000000</td>\n",
       "      <td>5.037404e-01</td>\n",
       "      <td>2.187893e-01</td>\n",
       "      <td>2.482235e-01</td>\n",
       "      <td>1.000000</td>\n",
       "      <td>1.000000e+00</td>\n",
       "      <td>1.000000</td>\n",
       "      <td>1.000000</td>\n",
       "      <td>1.000000</td>\n",
       "      <td>1.000000</td>\n",
       "    </tr>\n",
       "    <tr>\n",
       "      <th>GSE179285_UC_sigmoid_colon</th>\n",
       "      <td>1.0</td>\n",
       "      <td>0.000093</td>\n",
       "      <td>0.657164</td>\n",
       "      <td>1.000000</td>\n",
       "      <td>9.099075e-14</td>\n",
       "      <td>1.735427e-15</td>\n",
       "      <td>9.376943e-08</td>\n",
       "      <td>0.051824</td>\n",
       "      <td>5.206320e-06</td>\n",
       "      <td>1.000000</td>\n",
       "      <td>0.297652</td>\n",
       "      <td>0.669207</td>\n",
       "      <td>0.209220</td>\n",
       "    </tr>\n",
       "    <tr>\n",
       "      <th>GSE181318_PSO_skin</th>\n",
       "      <td>1.0</td>\n",
       "      <td>0.066636</td>\n",
       "      <td>0.468816</td>\n",
       "      <td>1.000000</td>\n",
       "      <td>1.774739e-06</td>\n",
       "      <td>1.846878e-03</td>\n",
       "      <td>1.048909e-01</td>\n",
       "      <td>1.000000</td>\n",
       "      <td>2.076217e-03</td>\n",
       "      <td>1.000000</td>\n",
       "      <td>0.029803</td>\n",
       "      <td>0.142415</td>\n",
       "      <td>0.088013</td>\n",
       "    </tr>\n",
       "    <tr>\n",
       "      <th>GSE1919_RA_synovium</th>\n",
       "      <td>1.0</td>\n",
       "      <td>0.008694</td>\n",
       "      <td>1.000000</td>\n",
       "      <td>1.000000</td>\n",
       "      <td>8.961612e-05</td>\n",
       "      <td>2.879242e-06</td>\n",
       "      <td>6.061390e-01</td>\n",
       "      <td>0.267997</td>\n",
       "      <td>4.095639e-01</td>\n",
       "      <td>1.000000</td>\n",
       "      <td>1.000000</td>\n",
       "      <td>1.000000</td>\n",
       "      <td>0.098522</td>\n",
       "    </tr>\n",
       "    <tr>\n",
       "      <th>GSE32591_LN_glomeruli_compartment</th>\n",
       "      <td>1.0</td>\n",
       "      <td>0.167412</td>\n",
       "      <td>1.000000</td>\n",
       "      <td>1.000000</td>\n",
       "      <td>4.184663e-03</td>\n",
       "      <td>5.591284e-02</td>\n",
       "      <td>2.464376e-01</td>\n",
       "      <td>1.000000</td>\n",
       "      <td>1.000000e+00</td>\n",
       "      <td>1.000000</td>\n",
       "      <td>1.000000</td>\n",
       "      <td>1.000000</td>\n",
       "      <td>1.000000</td>\n",
       "    </tr>\n",
       "    <tr>\n",
       "      <th>GSE32924_AD_skin</th>\n",
       "      <td>1.0</td>\n",
       "      <td>0.744422</td>\n",
       "      <td>1.000000</td>\n",
       "      <td>1.000000</td>\n",
       "      <td>1.594855e-01</td>\n",
       "      <td>1.344123e-02</td>\n",
       "      <td>1.072751e-01</td>\n",
       "      <td>0.071466</td>\n",
       "      <td>1.227869e-02</td>\n",
       "      <td>1.000000</td>\n",
       "      <td>1.000000</td>\n",
       "      <td>1.000000</td>\n",
       "      <td>0.042312</td>\n",
       "    </tr>\n",
       "    <tr>\n",
       "      <th>GSE32924_AD_skin_inactive</th>\n",
       "      <td>1.0</td>\n",
       "      <td>0.600515</td>\n",
       "      <td>1.000000</td>\n",
       "      <td>1.000000</td>\n",
       "      <td>5.174071e-02</td>\n",
       "      <td>1.569735e-02</td>\n",
       "      <td>9.345804e-03</td>\n",
       "      <td>1.000000</td>\n",
       "      <td>5.157864e-03</td>\n",
       "      <td>1.000000</td>\n",
       "      <td>1.000000</td>\n",
       "      <td>1.000000</td>\n",
       "      <td>0.045762</td>\n",
       "    </tr>\n",
       "    <tr>\n",
       "      <th>GSE40568_SS_salivary_gland</th>\n",
       "      <td>1.0</td>\n",
       "      <td>1.000000</td>\n",
       "      <td>0.021429</td>\n",
       "      <td>1.000000</td>\n",
       "      <td>1.000000e+00</td>\n",
       "      <td>3.214286e-02</td>\n",
       "      <td>1.000000e+00</td>\n",
       "      <td>1.000000</td>\n",
       "      <td>1.000000e+00</td>\n",
       "      <td>1.000000</td>\n",
       "      <td>1.000000</td>\n",
       "      <td>1.000000</td>\n",
       "      <td>1.000000</td>\n",
       "    </tr>\n",
       "    <tr>\n",
       "      <th>GSE55235_RA_synovium</th>\n",
       "      <td>1.0</td>\n",
       "      <td>0.000001</td>\n",
       "      <td>0.684610</td>\n",
       "      <td>0.252644</td>\n",
       "      <td>1.802367e-07</td>\n",
       "      <td>5.232546e-13</td>\n",
       "      <td>2.569913e-01</td>\n",
       "      <td>0.408242</td>\n",
       "      <td>1.625937e-01</td>\n",
       "      <td>1.000000</td>\n",
       "      <td>0.629469</td>\n",
       "      <td>1.000000</td>\n",
       "      <td>0.028332</td>\n",
       "    </tr>\n",
       "    <tr>\n",
       "      <th>GSE66413_at_risk_T1D_pancreatic_lymph_nodes</th>\n",
       "      <td>1.0</td>\n",
       "      <td>0.157895</td>\n",
       "      <td>1.000000</td>\n",
       "      <td>1.000000</td>\n",
       "      <td>2.105263e-01</td>\n",
       "      <td>1.000000e+00</td>\n",
       "      <td>1.000000e+00</td>\n",
       "      <td>1.000000</td>\n",
       "      <td>1.000000e+00</td>\n",
       "      <td>1.000000</td>\n",
       "      <td>1.000000</td>\n",
       "      <td>1.000000</td>\n",
       "      <td>1.000000</td>\n",
       "    </tr>\n",
       "    <tr>\n",
       "      <th>GSE75214_CD_ileum_inactive</th>\n",
       "      <td>1.0</td>\n",
       "      <td>0.000799</td>\n",
       "      <td>1.000000</td>\n",
       "      <td>1.000000</td>\n",
       "      <td>1.270311e-03</td>\n",
       "      <td>2.245697e-02</td>\n",
       "      <td>2.245697e-02</td>\n",
       "      <td>0.109434</td>\n",
       "      <td>5.963887e-02</td>\n",
       "      <td>1.000000</td>\n",
       "      <td>0.056252</td>\n",
       "      <td>1.000000</td>\n",
       "      <td>1.000000</td>\n",
       "    </tr>\n",
       "    <tr>\n",
       "      <th>GSE75214_UC_colon_inactive</th>\n",
       "      <td>1.0</td>\n",
       "      <td>0.371950</td>\n",
       "      <td>0.609865</td>\n",
       "      <td>1.000000</td>\n",
       "      <td>5.784723e-06</td>\n",
       "      <td>4.299259e-05</td>\n",
       "      <td>2.767674e-04</td>\n",
       "      <td>0.069383</td>\n",
       "      <td>7.146592e-03</td>\n",
       "      <td>0.302576</td>\n",
       "      <td>0.072875</td>\n",
       "      <td>1.000000</td>\n",
       "      <td>1.000000</td>\n",
       "    </tr>\n",
       "    <tr>\n",
       "      <th>GSE81071_DLE_skin</th>\n",
       "      <td>1.0</td>\n",
       "      <td>0.137726</td>\n",
       "      <td>1.000000</td>\n",
       "      <td>1.000000</td>\n",
       "      <td>2.266901e-01</td>\n",
       "      <td>5.369828e-01</td>\n",
       "      <td>1.000000e+00</td>\n",
       "      <td>1.000000</td>\n",
       "      <td>1.000000e+00</td>\n",
       "      <td>1.000000</td>\n",
       "      <td>1.000000</td>\n",
       "      <td>1.000000</td>\n",
       "      <td>1.000000</td>\n",
       "    </tr>\n",
       "    <tr>\n",
       "      <th>GSE81071_SCLE_skin</th>\n",
       "      <td>1.0</td>\n",
       "      <td>1.000000</td>\n",
       "      <td>1.000000</td>\n",
       "      <td>1.000000</td>\n",
       "      <td>1.000000e+00</td>\n",
       "      <td>1.000000e+00</td>\n",
       "      <td>1.000000e+00</td>\n",
       "      <td>1.000000</td>\n",
       "      <td>1.000000e+00</td>\n",
       "      <td>1.000000</td>\n",
       "      <td>1.000000</td>\n",
       "      <td>1.000000</td>\n",
       "      <td>1.000000</td>\n",
       "    </tr>\n",
       "    <tr>\n",
       "      <th>GSE81292_SSc_lung</th>\n",
       "      <td>1.0</td>\n",
       "      <td>0.018723</td>\n",
       "      <td>1.000000</td>\n",
       "      <td>1.000000</td>\n",
       "      <td>1.255436e-03</td>\n",
       "      <td>4.756189e-04</td>\n",
       "      <td>1.442897e-03</td>\n",
       "      <td>0.053256</td>\n",
       "      <td>2.671608e-02</td>\n",
       "      <td>1.000000</td>\n",
       "      <td>1.000000</td>\n",
       "      <td>0.138312</td>\n",
       "      <td>1.000000</td>\n",
       "    </tr>\n",
       "    <tr>\n",
       "      <th>GSE95065_SSc_skin</th>\n",
       "      <td>1.0</td>\n",
       "      <td>0.220736</td>\n",
       "      <td>0.506546</td>\n",
       "      <td>0.124672</td>\n",
       "      <td>4.749172e-05</td>\n",
       "      <td>2.752494e-08</td>\n",
       "      <td>4.600453e-06</td>\n",
       "      <td>0.000100</td>\n",
       "      <td>1.665030e-02</td>\n",
       "      <td>1.000000</td>\n",
       "      <td>0.170178</td>\n",
       "      <td>1.000000</td>\n",
       "      <td>0.068503</td>\n",
       "    </tr>\n",
       "  </tbody>\n",
       "</table>\n",
       "</div>"
      ],
      "text/plain": [
       "                                                   1         2         3   \\\n",
       "GSE11223_UC_colon_inactive                        1.0  0.153846  1.000000   \n",
       "GSE11223_UC_descending_colon                      1.0  0.122388  0.348895   \n",
       "GSE11223_UC_sigmoid_colon                         1.0  0.011893  0.826043   \n",
       "GSE112943_lupus_kidney                            1.0  0.000486  0.909743   \n",
       "GSE112943_lupus_subacute_cutaneous                1.0  0.012717  0.334843   \n",
       "GSE148810_cSLE_skin                               1.0  0.000526  0.644829   \n",
       "GSE148810_JM_skin                                 1.0  1.000000  1.000000   \n",
       "GSE148810_JM_skin_inactive                        1.0  1.000000  1.000000   \n",
       "GSE14905_PSO_skin_inactive                        1.0  0.029836  0.754697   \n",
       "GSE16161_AD_skin                                  1.0  0.729422  1.000000   \n",
       "GSE16879_CD_colon                                 1.0  0.000078  0.935488   \n",
       "GSE16879_CD_ileum                                 1.0  0.008465  1.000000   \n",
       "GSE176510_SS_kerato_conjunctivitis                1.0  1.000000  1.000000   \n",
       "GSE179285_CD_ascending_colon                      1.0  0.000004  0.925178   \n",
       "GSE179285_CD_ascending_descending_colon_inactive  1.0  0.253117  1.000000   \n",
       "GSE179285_CD_terminal_ileum                       1.0  0.000304  0.639559   \n",
       "GSE179285_UC_ascending_descending_colon_inactive  1.0  0.860048  1.000000   \n",
       "GSE179285_UC_sigmoid_colon                        1.0  0.000093  0.657164   \n",
       "GSE181318_PSO_skin                                1.0  0.066636  0.468816   \n",
       "GSE1919_RA_synovium                               1.0  0.008694  1.000000   \n",
       "GSE32591_LN_glomeruli_compartment                 1.0  0.167412  1.000000   \n",
       "GSE32924_AD_skin                                  1.0  0.744422  1.000000   \n",
       "GSE32924_AD_skin_inactive                         1.0  0.600515  1.000000   \n",
       "GSE40568_SS_salivary_gland                        1.0  1.000000  0.021429   \n",
       "GSE55235_RA_synovium                              1.0  0.000001  0.684610   \n",
       "GSE66413_at_risk_T1D_pancreatic_lymph_nodes       1.0  0.157895  1.000000   \n",
       "GSE75214_CD_ileum_inactive                        1.0  0.000799  1.000000   \n",
       "GSE75214_UC_colon_inactive                        1.0  0.371950  0.609865   \n",
       "GSE81071_DLE_skin                                 1.0  0.137726  1.000000   \n",
       "GSE81071_SCLE_skin                                1.0  1.000000  1.000000   \n",
       "GSE81292_SSc_lung                                 1.0  0.018723  1.000000   \n",
       "GSE95065_SSc_skin                                 1.0  0.220736  0.506546   \n",
       "\n",
       "                                                        4             5   \\\n",
       "GSE11223_UC_colon_inactive                        1.000000  1.000000e+00   \n",
       "GSE11223_UC_descending_colon                      1.000000  1.960427e-07   \n",
       "GSE11223_UC_sigmoid_colon                         1.000000  1.501099e-10   \n",
       "GSE112943_lupus_kidney                            0.564527  1.972203e-19   \n",
       "GSE112943_lupus_subacute_cutaneous                0.495161  1.968367e-13   \n",
       "GSE148810_cSLE_skin                               1.000000  4.905888e-05   \n",
       "GSE148810_JM_skin                                 1.000000  1.374705e-01   \n",
       "GSE148810_JM_skin_inactive                        1.000000  1.000000e+00   \n",
       "GSE14905_PSO_skin_inactive                        1.000000  1.899562e-05   \n",
       "GSE16161_AD_skin                                  1.000000  8.739057e-03   \n",
       "GSE16879_CD_colon                                 1.000000  1.982943e-11   \n",
       "GSE16879_CD_ileum                                 1.000000  2.852227e-05   \n",
       "GSE176510_SS_kerato_conjunctivitis                1.000000  7.863090e-01   \n",
       "GSE179285_CD_ascending_colon                      1.000000  4.101747e-09   \n",
       "GSE179285_CD_ascending_descending_colon_inactive  1.000000  1.114371e-01   \n",
       "GSE179285_CD_terminal_ileum                       1.000000  1.109905e-10   \n",
       "GSE179285_UC_ascending_descending_colon_inactive  1.000000  5.037404e-01   \n",
       "GSE179285_UC_sigmoid_colon                        1.000000  9.099075e-14   \n",
       "GSE181318_PSO_skin                                1.000000  1.774739e-06   \n",
       "GSE1919_RA_synovium                               1.000000  8.961612e-05   \n",
       "GSE32591_LN_glomeruli_compartment                 1.000000  4.184663e-03   \n",
       "GSE32924_AD_skin                                  1.000000  1.594855e-01   \n",
       "GSE32924_AD_skin_inactive                         1.000000  5.174071e-02   \n",
       "GSE40568_SS_salivary_gland                        1.000000  1.000000e+00   \n",
       "GSE55235_RA_synovium                              0.252644  1.802367e-07   \n",
       "GSE66413_at_risk_T1D_pancreatic_lymph_nodes       1.000000  2.105263e-01   \n",
       "GSE75214_CD_ileum_inactive                        1.000000  1.270311e-03   \n",
       "GSE75214_UC_colon_inactive                        1.000000  5.784723e-06   \n",
       "GSE81071_DLE_skin                                 1.000000  2.266901e-01   \n",
       "GSE81071_SCLE_skin                                1.000000  1.000000e+00   \n",
       "GSE81292_SSc_lung                                 1.000000  1.255436e-03   \n",
       "GSE95065_SSc_skin                                 0.124672  4.749172e-05   \n",
       "\n",
       "                                                            6             7   \\\n",
       "GSE11223_UC_colon_inactive                        1.000000e+00  1.000000e+00   \n",
       "GSE11223_UC_descending_colon                      1.284692e-09  2.925774e-06   \n",
       "GSE11223_UC_sigmoid_colon                         1.271943e-10  4.683024e-08   \n",
       "GSE112943_lupus_kidney                            1.668346e-24  7.292251e-06   \n",
       "GSE112943_lupus_subacute_cutaneous                9.589319e-20  1.287570e-05   \n",
       "GSE148810_cSLE_skin                               1.247308e-09  3.621798e-01   \n",
       "GSE148810_JM_skin                                 1.000000e+00  1.000000e+00   \n",
       "GSE148810_JM_skin_inactive                        1.000000e+00  1.000000e+00   \n",
       "GSE14905_PSO_skin_inactive                        1.089947e-09  1.867286e-01   \n",
       "GSE16161_AD_skin                                  2.735580e-04  8.329304e-03   \n",
       "GSE16879_CD_colon                                 4.883338e-13  5.758528e-06   \n",
       "GSE16879_CD_ileum                                 5.117448e-04  2.897519e-04   \n",
       "GSE176510_SS_kerato_conjunctivitis                4.495837e-01  1.646623e-01   \n",
       "GSE179285_CD_ascending_colon                      5.726674e-14  5.882165e-08   \n",
       "GSE179285_CD_ascending_descending_colon_inactive  1.728067e-02  1.000000e+00   \n",
       "GSE179285_CD_terminal_ileum                       1.165763e-10  8.802003e-07   \n",
       "GSE179285_UC_ascending_descending_colon_inactive  2.187893e-01  2.482235e-01   \n",
       "GSE179285_UC_sigmoid_colon                        1.735427e-15  9.376943e-08   \n",
       "GSE181318_PSO_skin                                1.846878e-03  1.048909e-01   \n",
       "GSE1919_RA_synovium                               2.879242e-06  6.061390e-01   \n",
       "GSE32591_LN_glomeruli_compartment                 5.591284e-02  2.464376e-01   \n",
       "GSE32924_AD_skin                                  1.344123e-02  1.072751e-01   \n",
       "GSE32924_AD_skin_inactive                         1.569735e-02  9.345804e-03   \n",
       "GSE40568_SS_salivary_gland                        3.214286e-02  1.000000e+00   \n",
       "GSE55235_RA_synovium                              5.232546e-13  2.569913e-01   \n",
       "GSE66413_at_risk_T1D_pancreatic_lymph_nodes       1.000000e+00  1.000000e+00   \n",
       "GSE75214_CD_ileum_inactive                        2.245697e-02  2.245697e-02   \n",
       "GSE75214_UC_colon_inactive                        4.299259e-05  2.767674e-04   \n",
       "GSE81071_DLE_skin                                 5.369828e-01  1.000000e+00   \n",
       "GSE81071_SCLE_skin                                1.000000e+00  1.000000e+00   \n",
       "GSE81292_SSc_lung                                 4.756189e-04  1.442897e-03   \n",
       "GSE95065_SSc_skin                                 2.752494e-08  4.600453e-06   \n",
       "\n",
       "                                                        8             9   \\\n",
       "GSE11223_UC_colon_inactive                        1.000000  1.000000e+00   \n",
       "GSE11223_UC_descending_colon                      0.114943  8.260076e-03   \n",
       "GSE11223_UC_sigmoid_colon                         0.027370  5.338156e-03   \n",
       "GSE112943_lupus_kidney                            0.000125  1.412339e-05   \n",
       "GSE112943_lupus_subacute_cutaneous                0.000888  5.405892e-04   \n",
       "GSE148810_cSLE_skin                               0.048012  1.202333e-01   \n",
       "GSE148810_JM_skin                                 1.000000  1.000000e+00   \n",
       "GSE148810_JM_skin_inactive                        1.000000  1.000000e+00   \n",
       "GSE14905_PSO_skin_inactive                        0.154171  3.952115e-03   \n",
       "GSE16161_AD_skin                                  0.000139  3.013417e-03   \n",
       "GSE16879_CD_colon                                 0.070411  2.262610e-08   \n",
       "GSE16879_CD_ileum                                 0.125670  3.157037e-03   \n",
       "GSE176510_SS_kerato_conjunctivitis                0.164662  2.035153e-01   \n",
       "GSE179285_CD_ascending_colon                      0.028140  8.350375e-06   \n",
       "GSE179285_CD_ascending_descending_colon_inactive  0.081671  1.000000e+00   \n",
       "GSE179285_CD_terminal_ileum                       0.004130  1.615366e-06   \n",
       "GSE179285_UC_ascending_descending_colon_inactive  1.000000  1.000000e+00   \n",
       "GSE179285_UC_sigmoid_colon                        0.051824  5.206320e-06   \n",
       "GSE181318_PSO_skin                                1.000000  2.076217e-03   \n",
       "GSE1919_RA_synovium                               0.267997  4.095639e-01   \n",
       "GSE32591_LN_glomeruli_compartment                 1.000000  1.000000e+00   \n",
       "GSE32924_AD_skin                                  0.071466  1.227869e-02   \n",
       "GSE32924_AD_skin_inactive                         1.000000  5.157864e-03   \n",
       "GSE40568_SS_salivary_gland                        1.000000  1.000000e+00   \n",
       "GSE55235_RA_synovium                              0.408242  1.625937e-01   \n",
       "GSE66413_at_risk_T1D_pancreatic_lymph_nodes       1.000000  1.000000e+00   \n",
       "GSE75214_CD_ileum_inactive                        0.109434  5.963887e-02   \n",
       "GSE75214_UC_colon_inactive                        0.069383  7.146592e-03   \n",
       "GSE81071_DLE_skin                                 1.000000  1.000000e+00   \n",
       "GSE81071_SCLE_skin                                1.000000  1.000000e+00   \n",
       "GSE81292_SSc_lung                                 0.053256  2.671608e-02   \n",
       "GSE95065_SSc_skin                                 0.000100  1.665030e-02   \n",
       "\n",
       "                                                        10        11  \\\n",
       "GSE11223_UC_colon_inactive                        1.000000  1.000000   \n",
       "GSE11223_UC_descending_colon                      1.000000  1.000000   \n",
       "GSE11223_UC_sigmoid_colon                         1.000000  0.491415   \n",
       "GSE112943_lupus_kidney                            1.000000  0.348848   \n",
       "GSE112943_lupus_subacute_cutaneous                1.000000  0.267220   \n",
       "GSE148810_cSLE_skin                               1.000000  1.000000   \n",
       "GSE148810_JM_skin                                 1.000000  1.000000   \n",
       "GSE148810_JM_skin_inactive                        1.000000  1.000000   \n",
       "GSE14905_PSO_skin_inactive                        1.000000  0.200143   \n",
       "GSE16161_AD_skin                                  1.000000  0.285679   \n",
       "GSE16879_CD_colon                                 1.000000  0.208429   \n",
       "GSE16879_CD_ileum                                 1.000000  0.125670   \n",
       "GSE176510_SS_kerato_conjunctivitis                1.000000  1.000000   \n",
       "GSE179285_CD_ascending_colon                      1.000000  0.711988   \n",
       "GSE179285_CD_ascending_descending_colon_inactive  1.000000  1.000000   \n",
       "GSE179285_CD_terminal_ileum                       1.000000  1.000000   \n",
       "GSE179285_UC_ascending_descending_colon_inactive  1.000000  1.000000   \n",
       "GSE179285_UC_sigmoid_colon                        1.000000  0.297652   \n",
       "GSE181318_PSO_skin                                1.000000  0.029803   \n",
       "GSE1919_RA_synovium                               1.000000  1.000000   \n",
       "GSE32591_LN_glomeruli_compartment                 1.000000  1.000000   \n",
       "GSE32924_AD_skin                                  1.000000  1.000000   \n",
       "GSE32924_AD_skin_inactive                         1.000000  1.000000   \n",
       "GSE40568_SS_salivary_gland                        1.000000  1.000000   \n",
       "GSE55235_RA_synovium                              1.000000  0.629469   \n",
       "GSE66413_at_risk_T1D_pancreatic_lymph_nodes       1.000000  1.000000   \n",
       "GSE75214_CD_ileum_inactive                        1.000000  0.056252   \n",
       "GSE75214_UC_colon_inactive                        0.302576  0.072875   \n",
       "GSE81071_DLE_skin                                 1.000000  1.000000   \n",
       "GSE81071_SCLE_skin                                1.000000  1.000000   \n",
       "GSE81292_SSc_lung                                 1.000000  1.000000   \n",
       "GSE95065_SSc_skin                                 1.000000  0.170178   \n",
       "\n",
       "                                                        12        13  \n",
       "GSE11223_UC_colon_inactive                        1.000000  1.000000  \n",
       "GSE11223_UC_descending_colon                      1.000000  0.132788  \n",
       "GSE11223_UC_sigmoid_colon                         0.521820  0.023466  \n",
       "GSE112943_lupus_kidney                            1.000000  0.040920  \n",
       "GSE112943_lupus_subacute_cutaneous                1.000000  0.035572  \n",
       "GSE148810_cSLE_skin                               1.000000  1.000000  \n",
       "GSE148810_JM_skin                                 1.000000  1.000000  \n",
       "GSE148810_JM_skin_inactive                        1.000000  1.000000  \n",
       "GSE14905_PSO_skin_inactive                        1.000000  0.105589  \n",
       "GSE16161_AD_skin                                  1.000000  0.097845  \n",
       "GSE16879_CD_colon                                 0.744334  1.000000  \n",
       "GSE16879_CD_ileum                                 0.309547  1.000000  \n",
       "GSE176510_SS_kerato_conjunctivitis                1.000000  1.000000  \n",
       "GSE179285_CD_ascending_colon                      0.745819  0.310999  \n",
       "GSE179285_CD_ascending_descending_colon_inactive  1.000000  1.000000  \n",
       "GSE179285_CD_terminal_ileum                       0.389991  1.000000  \n",
       "GSE179285_UC_ascending_descending_colon_inactive  1.000000  1.000000  \n",
       "GSE179285_UC_sigmoid_colon                        0.669207  0.209220  \n",
       "GSE181318_PSO_skin                                0.142415  0.088013  \n",
       "GSE1919_RA_synovium                               1.000000  0.098522  \n",
       "GSE32591_LN_glomeruli_compartment                 1.000000  1.000000  \n",
       "GSE32924_AD_skin                                  1.000000  0.042312  \n",
       "GSE32924_AD_skin_inactive                         1.000000  0.045762  \n",
       "GSE40568_SS_salivary_gland                        1.000000  1.000000  \n",
       "GSE55235_RA_synovium                              1.000000  0.028332  \n",
       "GSE66413_at_risk_T1D_pancreatic_lymph_nodes       1.000000  1.000000  \n",
       "GSE75214_CD_ileum_inactive                        1.000000  1.000000  \n",
       "GSE75214_UC_colon_inactive                        1.000000  1.000000  \n",
       "GSE81071_DLE_skin                                 1.000000  1.000000  \n",
       "GSE81071_SCLE_skin                                1.000000  1.000000  \n",
       "GSE81292_SSc_lung                                 0.138312  1.000000  \n",
       "GSE95065_SSc_skin                                 1.000000  0.068503  "
      ]
     },
     "execution_count": 108,
     "metadata": {},
     "output_type": "execute_result"
    }
   ],
   "source": [
    "Pval = pd.DataFrame(pval_list2, index = names, columns = np.array(range(13)) + 1)\n",
    "Pval"
   ]
  },
  {
   "cell_type": "code",
   "execution_count": 224,
   "id": "bfc43e35",
   "metadata": {},
   "outputs": [],
   "source": [
    "#Pval.to_csv('Pval_summary_AID_cluster1_oneSided.csv', index = True, header = True)"
   ]
  },
  {
   "cell_type": "code",
   "execution_count": null,
   "id": "25bd8112",
   "metadata": {},
   "outputs": [],
   "source": []
  },
  {
   "cell_type": "code",
   "execution_count": null,
   "id": "20b88866",
   "metadata": {},
   "outputs": [],
   "source": []
  },
  {
   "cell_type": "code",
   "execution_count": null,
   "id": "efac676c",
   "metadata": {},
   "outputs": [],
   "source": []
  },
  {
   "cell_type": "code",
   "execution_count": 110,
   "id": "88803d92",
   "metadata": {},
   "outputs": [
    {
     "data": {
      "text/plain": [
       "(4.0, 0.02026285317016011)"
      ]
     },
     "execution_count": 110,
     "metadata": {},
     "output_type": "execute_result"
    }
   ],
   "source": [
    "table = pd.DataFrame([[10, 5], [20, 40]])\n",
    "\n",
    "stats.fisher_exact(table, alternative = 'greater')"
   ]
  },
  {
   "cell_type": "code",
   "execution_count": 111,
   "id": "14cb5063",
   "metadata": {},
   "outputs": [
    {
     "data": {
      "text/html": [
       "<div>\n",
       "<style scoped>\n",
       "    .dataframe tbody tr th:only-of-type {\n",
       "        vertical-align: middle;\n",
       "    }\n",
       "\n",
       "    .dataframe tbody tr th {\n",
       "        vertical-align: top;\n",
       "    }\n",
       "\n",
       "    .dataframe thead th {\n",
       "        text-align: right;\n",
       "    }\n",
       "</style>\n",
       "<table border=\"1\" class=\"dataframe\">\n",
       "  <thead>\n",
       "    <tr style=\"text-align: right;\">\n",
       "      <th></th>\n",
       "      <th>0</th>\n",
       "      <th>1</th>\n",
       "    </tr>\n",
       "  </thead>\n",
       "  <tbody>\n",
       "    <tr>\n",
       "      <th>0</th>\n",
       "      <td>10</td>\n",
       "      <td>5</td>\n",
       "    </tr>\n",
       "    <tr>\n",
       "      <th>1</th>\n",
       "      <td>20</td>\n",
       "      <td>40</td>\n",
       "    </tr>\n",
       "  </tbody>\n",
       "</table>\n",
       "</div>"
      ],
      "text/plain": [
       "    0   1\n",
       "0  10   5\n",
       "1  20  40"
      ]
     },
     "execution_count": 111,
     "metadata": {},
     "output_type": "execute_result"
    }
   ],
   "source": [
    "table"
   ]
  },
  {
   "cell_type": "code",
   "execution_count": 118,
   "id": "299964b7",
   "metadata": {},
   "outputs": [
    {
     "data": {
      "text/plain": [
       "(4.0, 0.000960157963979419)"
      ]
     },
     "execution_count": 118,
     "metadata": {},
     "output_type": "execute_result"
    }
   ],
   "source": [
    "table = pd.DataFrame([[20, 10], [40, 80]])\n",
    "\n",
    "stats.fisher_exact(table, alternative = 'greater')"
   ]
  },
  {
   "cell_type": "code",
   "execution_count": 119,
   "id": "a184b6ae",
   "metadata": {},
   "outputs": [
    {
     "data": {
      "text/html": [
       "<div>\n",
       "<style scoped>\n",
       "    .dataframe tbody tr th:only-of-type {\n",
       "        vertical-align: middle;\n",
       "    }\n",
       "\n",
       "    .dataframe tbody tr th {\n",
       "        vertical-align: top;\n",
       "    }\n",
       "\n",
       "    .dataframe thead th {\n",
       "        text-align: right;\n",
       "    }\n",
       "</style>\n",
       "<table border=\"1\" class=\"dataframe\">\n",
       "  <thead>\n",
       "    <tr style=\"text-align: right;\">\n",
       "      <th></th>\n",
       "      <th>0</th>\n",
       "      <th>1</th>\n",
       "    </tr>\n",
       "  </thead>\n",
       "  <tbody>\n",
       "    <tr>\n",
       "      <th>0</th>\n",
       "      <td>20</td>\n",
       "      <td>10</td>\n",
       "    </tr>\n",
       "    <tr>\n",
       "      <th>1</th>\n",
       "      <td>40</td>\n",
       "      <td>80</td>\n",
       "    </tr>\n",
       "  </tbody>\n",
       "</table>\n",
       "</div>"
      ],
      "text/plain": [
       "    0   1\n",
       "0  20  10\n",
       "1  40  80"
      ]
     },
     "execution_count": 119,
     "metadata": {},
     "output_type": "execute_result"
    }
   ],
   "source": [
    "table"
   ]
  },
  {
   "cell_type": "code",
   "execution_count": null,
   "id": "6e7b8abb",
   "metadata": {},
   "outputs": [],
   "source": []
  }
 ],
 "metadata": {
  "kernelspec": {
   "display_name": "Python 3 (ipykernel)",
   "language": "python",
   "name": "python3"
  },
  "language_info": {
   "codemirror_mode": {
    "name": "ipython",
    "version": 3
   },
   "file_extension": ".py",
   "mimetype": "text/x-python",
   "name": "python",
   "nbconvert_exporter": "python",
   "pygments_lexer": "ipython3",
   "version": "3.7.9"
  }
 },
 "nbformat": 4,
 "nbformat_minor": 5
}
